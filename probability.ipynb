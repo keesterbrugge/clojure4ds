{
 "cells": [
  {
   "cell_type": "markdown",
   "metadata": {},
   "source": [
    "metaprob or anglican\n",
    "\n",
    "problems from \n",
    "- agent models ( and other webppl material)\n",
    "- bishop prml\n",
    "- stat rethinking\n",
    "- stan work sheets with professional workflow (like the one with cockroaches in housing, with extensive testing of distributions, e.g. is it poisson?) \n",
    "- from causality primer (pearl)\n",
    "- state space models\n",
    "- something about t-digest (online algo) some of ted dunnings work\n",
    "- mining massive data sets http://www.mmds.org/\n",
    "- do paip in clojure\n",
    "- do aima examples in clojure. \n",
    "- do intro to ai course on udacity in clojure https://eu.udacity.com/course/intro-to-artificial-intelligence--cs271 (norvig and thrun (= probabilistic robotics guy)) and possibly this for car engineer (good example of creating agent that interacts in the real world. Optimizer for goal, plans etc.) https://eu.udacity.com/course/artificial-intelligence-for-robotics--cs373\n",
    "- sketches library from yahoo in java including hyperloglog, t-digest etc https://datasketches.github.io/ How to implement these in onyx. Say I want the the total amount of idfas we see in a country (hyperloglog) "
   ]
  },
  {
   "cell_type": "code",
   "execution_count": null,
   "metadata": {},
   "outputs": [],
   "source": []
  }
 ],
 "metadata": {
  "kernelspec": {
   "display_name": "IClojure",
   "language": "iclojure",
   "name": "iclojure"
  },
  "language_info": {
   "file_extension": ".clj",
   "mimetype": "text/x-clojure",
   "name": "clojure",
   "version": "1.10.0"
  }
 },
 "nbformat": 4,
 "nbformat_minor": 2
}
