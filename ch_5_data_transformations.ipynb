{
 "cells": [
  {
   "cell_type": "markdown",
   "metadata": {},
   "source": [
    "# TODO\n",
    "-  make function that takes kernel keyword and works in both. Kernel agnostic import of libraries. maybe also suppresses print output. maybe even function that can find out which kernel on its own! \n",
    "- comparator that uses \n",
    "- go over text and improve\n",
    "- let jeroen test read\n",
    "- finsih examples\n",
    "- add links and references\n",
    "- post \n",
    "- create docker image \n",
    "- import csv using some get request from my somewhere (maybe github gist? )\n",
    "- talk about no derivs work of r4ds. That I wasn't comfortable posting their examples.\n",
    "- read csv use sematitic's csv/slurp-csv as that has less complexity. We only work with dataset in memory anyway .\n",
    "- talk about adgoji in intro. We're clojure shop and have lately been looking how much of data science we can alsog migtrate to clojure. I've madee this to find the edges of the clojure ecosystem and whats still msising. I'm realeasing\n",
    "it as a blogpost since There's been a call for examples and tutorials. hopeufully this can be usefull to others.\n",
    "- thanks so much to hadley wickham that's been generous enough to allow to use code examples from r4ds in this blogpost. Disclaimer ...  give appropriate credit, provide a link to the license, indicate that changes were made and don't use it for commercial purposes.\n",
    "- simon belak strikken om blog te proofreaden \n",
    "- change use of hc/select-cols to clojure.set/project to encourage use of excelent standard library\n",
    "- react to simon belak's response on pull request and further work it out. Defer to his preference as he is the library maintainer. suggest use of project-by instead of select-cols-by \n",
    "- write about clojure.set/rename instead of derive-cols and selecting everything except old one. \n",
    "- add run!-pipe and partial-right to pull request \n",
    "- try to replace huri completely with clojure.set\n",
    "- replace hc/where with clojure.set/select. figure out how to give multiple input predicates. Also check if you can't use for clojure.set/join for this?\n",
    "- talk about how my code in r is littered with group-by and then ungroups. I often forget to ungroup. I don't like that. I prefer it if I have to be explicit that the operation I'm doing is meant to be applied to grouped structure\n",
    "- huri you can pick and choose what you want I like that. It means also that I can prefer standard clojure liek clojure.set/project whenever possible and only fill in the gaps with huri. \n",
    "- figure out how to do options maps well. look at semantic-csv and other places\n",
    "- talk about the elision and rebl that cgrands claims to have implemented in iclojure with the nb extension. \n",
    "- think a bit harder still about grouped filter and mutate. Can I really not do it without plumatic plumming? I'd prefer to use a simple clojure or huri function and if necessary compose it with a function (e.g. the funcs map-vals, since grouping vars are the keywords and the grouped data are the vals)  such that it can work on grouped df's. \n",
    "\n"
   ]
  },
  {
   "cell_type": "markdown",
   "metadata": {},
   "source": [
    "R list columns vs clojure nested maps \n",
    "- when I have a df with list column a. Now I do mutate(df, b = sum(a)). How does r know what to do? Do I want that ambiguity? If a is list column I want it to sum values of list which is a rowwise operation. However, if a would not be a list column I'd want it to list all values if column a and set each value in b to that value, (not rowwise operation). These two meanings are complected in R. I'd like to be explicit about that. On the other hand, you could say they use a \"do what i mean\" approach. HOOOOOO!! i'm confused here. ```mutate(tibble(a = list(list(1,2), list(3,4))) , b = sum(a))``` gives error. I need to map it ooperations are never rowwise, they always column wise, it's just that they're vectorized operations and values are broadcasted. HHOOOO its differeent again!! \n",
    "```sum(list(1,2))``` gives error but ```sum(c(1,2))``` is ok -.-\n",
    "but what does ```mutate(tibble(a = list(c(1,2), c(3,4))) , b = map(.f = sum,a))``` give? you woud expect a column with scalars right? sum of array is a scalar. But what you get back is a column b that is a list column of with vectors of lenght 1. This is unexcpected right? This is a layer of nesting you would not expect. So if now I would want to summarise all values of b ```mutate(tibble(a = list(c(1,2), c(3,4))) , b = map(.f = sum,a)) %>% summarise(my_sum = sum(b)) ``` i get a error that type list invalid type of argument for sum. This is suprising. Here is how you would do this in clojure.. notice that you don't get the surprising extra layer of nesting that breaks expecteations. So here \"do what I mean\" kinda breaks down."
   ]
  },
  {
   "cell_type": "code",
   "execution_count": 23,
   "metadata": {},
   "outputs": [
    {
     "data": {
      "application/octet-stream": null,
      "text/iclojure-html": [
       "<ul><li class=set>#{<ul><li class=map>{<ul><li><ul><li class=keyword>:a<li class=space> <li class='misc'>3</ul><li class=trail>}</ul><li class=trail>}</ul></ul>"
      ],
      "text/plain": [
       "\u001b[2m#{\u001b[22m\u001b[2m{\u001b[22m\u001b[36m:a\u001b[m 3\u001b[2m}\u001b[22m\u001b[2m}\u001b[22m\n"
      ]
     },
     "execution_count": 23,
     "metadata": {},
     "output_type": "execute_result"
    }
   ],
   "source": [
    "(clojure.set/select odd? #{1 2 4 3})\n",
    "(def pred odd?)\n",
    ";(clojure.set/select odd? (keys {1 2,  2 3}))\n",
    "(clojure.set/project [{:a 3 :b 4}] [:a] )\n"
   ]
  },
  {
   "cell_type": "markdown",
   "metadata": {},
   "source": [
    "Data science in clojure is getting more and more attention lately, see https://clojureverse.org/t/online-meeting-clojure-data-science/3503. A sufficient part of the puzzle has become possible in clojure to be dangerous. There seems to be a need for worked out examples, tutorials etc. I intend to show a way to use tools available in clojure to be dangerous as a data scientist in clojure. I intend to follow this post up with some other chapters of r4ds and perhaps some stuff not in r4ds. \n",
    "\n",
    "I think tidyverse with its more functional style than pandas and its excellent plotting facilities is a very alluring option. But as a language and community I'm way more interested in lisp/clojure. I wish I could replace what I get from the tidyverse in R with something in clojure. \n",
    "\n",
    "I see that for plotting we ggplot2 still, but I think that with vega-lite and the excellent oz wrapper this is not necessary anymore\n",
    "\n",
    "huri makes data wrangling a lot cleaner. see ... https://statcompute.wordpress.com/tag/incanter/ and https://statcompute.wordpress.com/2018/04/21/adding-new-columns-to-clojure-map/ and https://statcompute.wordpress.com/2018/04/13/transpose-in-clojure/ for comparisons\n",
    "\n",
    "Instead of using r libs using renjin and gg4clj etc.. i think we have for the basic stuff all we need in clojure. \n",
    "\n",
    "I still don't know how to handle nil best for function that throw exception when they get nil as input. \n",
    "\n",
    "I don't know in how far huri is still used by simon belak himself, or whether he has stepped over to other things. I see him giving presentations where he uses  redux kixi.stats and onyx. I don't know if these tools integrate into 1 big workflow. Perhaps it doesn't matter. I think huri right now fills my need. \n",
    "\n",
    "The only reason that I've chosen to use iclojure over clojupyter is because iclojure seems more actively maintained. But for me, the only difference is in how I import things. Although there seem to be some cool things coming up. cgrandds using datafy protocol for nativation ....\n",
    "\n",
    "How to run: docker.. install instructions etc.. \n",
    " ?? set memory to 500mb?"
   ]
  },
  {
   "cell_type": "code",
   "execution_count": 2,
   "metadata": {},
   "outputs": [
    {
     "data": {
      "application/octet-stream": null,
      "text/iclojure-html": [
       "<ul><li class='misc'>4</ul>"
      ],
      "text/plain": [
       "4\n"
      ]
     },
     "execution_count": 2,
     "metadata": {},
     "output_type": "execute_result"
    }
   ],
   "source": [
    "(def a 3)\n",
    "(+ a 1)"
   ]
  },
  {
   "cell_type": "code",
   "execution_count": 198,
   "metadata": {},
   "outputs": [
    {
     "data": {
      "application/octet-stream": null,
      "text/iclojure-html": [
       "<ul><li class=seq>(<ul><li class='misc'>nil<li class=trail>)</ul></ul>"
      ],
      "text/plain": [
       "\u001b[2m(\u001b[22mnil\u001b[2m)\u001b[22m\n"
      ]
     },
     "execution_count": 198,
     "metadata": {},
     "output_type": "execute_result"
    }
   ],
   "source": []
  },
  {
   "cell_type": "markdown",
   "metadata": {},
   "source": [
    "## Importing libraries"
   ]
  },
  {
   "cell_type": "code",
   "execution_count": null,
   "metadata": {},
   "outputs": [
    {
     "name": "stdout",
     "output_type": "stream",
     "text": [
      "[\"/home/iclj/.m2/repository/com/cognitect/transit-java/0.8.337/transit-java-0.8.337.jar\" \"/home/iclj/.m2/repository/org/bouncycastle/bcprov-jdk15on/1.52/bcprov-jdk15on-1.52.jar\" \"/home/iclj/.m2/repository/org/clojure/data.json/0.2.6/data.json-0.2.6.jar\" \"/home/iclj/.m2/repository/org/clojure/clojure/1.10.0/clojure-1.10.0.jar\" \"/home/iclj/.m2/repository/net/cgrand/xforms/0.9.3/xforms-0.9.3.jar\" \"/home/iclj/.m2/repository/net/cgrand/sjacket/0.1.1/sjacket-0.1.1.jar\" \"/home/iclj/.m2/repository/joda-time/joda-time/2.9.9/joda-time-2.9.9.jar\" \"/home/iclj/.m2/repository/commons-codec/commons-codec/1.11/commons-codec-1.11.jar\" \"/home/iclj/.m2/repository/org/clojure/tools.analyzer/0.6.9/tools.analyzer-0.6.9.jar\" \"/home/iclj/.m2/repository/clojure/java-time/clojure.java-time/0.3.2/clojure.java-time-0.3.2.jar\" \"/home/iclj/.m2/repository/org/codehaus/plexus/plexus-component-annotations/1.5.5/plexus-component-annotations-1.5.5.jar\" \"/home/iclj/.m2/repository/ring/ring-devel/1.7.1/ring-devel-1.7.1.jar\" \"/home/iclj/.m2/repository/com/google/errorprone/error_prone_annotations/2.0.18/error_prone_annotations-2.0.18.jar\" \"/home/iclj/.m2/repository/org/apache/commons/commons-lang3/3.8.1/commons-lang3-3.8.1.jar\" \"/home/iclj/.m2/repository/org/clojure/tools.logging/0.4.1/tools.logging-0.4.1.jar\" \"/home/iclj/.m2/repository/org/clojure/core.specs.alpha/0.2.44/core.specs.alpha-0.2.44.jar\" \"/home/iclj/.m2/repository/org/tukaani/xz/1.6/xz-1.6.jar\" \"/home/iclj/.m2/repository/io/netty/netty-common/4.1.25.Final/netty-common-4.1.25.Final.jar\" \"/home/iclj/.m2/repository/net/sourceforge/jtransforms/jtransforms/2.4.0/jtransforms-2.4.0.jar\" \"/home/iclj/.m2/repository/redux/redux/0.1.3/redux-0.1.3.jar\" \"/home/iclj/.m2/repository/org/sonatype/aether/aether-util/1.13.1/aether-util-1.13.1.jar\" \"/home/iclj/.m2/repository/org/zeromq/jeromq/0.3.4/jeromq-0.3.4.jar\" \"/home/iclj/.m2/repository/org/clojure/spec.alpha/0.2.176/spec.alpha-0.2.176.jar\" \"/home/iclj/.m2/repository/ring-cljsjs/ring-cljsjs/0.1.0/ring-cljsjs-0.1.0.jar\" \"/home/iclj/.m2/repository/com/cemerick/url/0.1.1/url-0.1.1.jar\" \"/home/iclj/.m2/repository/pandect/pandect/0.5.4/pandect-0.5.4.jar\" \"/home/iclj/.m2/repository/us/bpsm/edn-java/0.4.6/edn-java-0.4.6.jar\" \"/home/iclj/.m2/repository/compojure/compojure/1.6.1/compojure-1.6.1.jar\" \"/home/iclj/.m2/repository/commons-fileupload/commons-fileupload/1.3.3/commons-fileupload-1.3.3.jar\" \"/home/iclj/.m2/repository/com/clojure-goes-fast/clj-memory-meter/0.1.2/clj-memory-meter-0.1.2.jar\" \"/home/iclj/.m2/repository/ring/ring-ssl/0.3.0/ring-ssl-0.3.0.jar\" \"/home/iclj/.m2/repository/net/sourceforge/parallelcolt/optimization/1.0/optimization-1.0.jar\" \"/home/iclj/.m2/repository/org/codehaus/mojo/animal-sniffer-annotations/1.14/animal-sniffer-annotations-1.14.jar\" \"/home/iclj/.m2/repository/org/eclipse/jetty/jetty-http/9.4.12.v20180830/jetty-http-9.4.12.v20180830.jar\" \"/home/iclj/.m2/repository/org/eclipse/jetty/jetty-util/9.4.12.v20180830/jetty-util-9.4.12.v20180830.jar\" \"/home/iclj/.m2/repository/com/taoensso/encore/2.96.0/encore-2.96.0.jar\" \"/home/iclj/.m2/repository/org/sonatype/sisu/sisu-inject-bean/2.2.3/sisu-inject-bean-2.2.3.jar\" \"/home/iclj/.m2/repository/markdown-to-hiccup/markdown-to-hiccup/0.6.1/markdown-to-hiccup-0.6.1.jar\" \"/home/iclj/.m2/repository/org/apache/httpcomponents/httpasyncclient/4.1.3/httpasyncclient-4.1.3.jar\" \"/home/iclj/.m2/repository/org/clojure/tools.analyzer.jvm/0.7.2/tools.analyzer.jvm-0.7.2.jar\" \"/home/iclj/.m2/repository/io/netty/netty-handler-proxy/4.1.25.Final/netty-handler-proxy-4.1.25.Final.jar\" \"/home/iclj/.m2/repository/manifold/manifold/0.1.8/manifold-0.1.8.jar\" \"/home/iclj/.m2/repository/org/apache/maven/wagon/wagon-provider-api/2.2/wagon-provider-api-2.2.jar\" \"/home/iclj/.m2/repository/huri/huri/0.10.0-SNAPSHOT/huri-0.10.0-SNAPSHOT.jar\" \"/home/iclj/.m2/repository/net/sourceforge/csparsej/csparsej/1.1.1/csparsej-1.1.1.jar\" \"/home/iclj/.m2/repository/net/jpountz/lz4/lz4/1.3/lz4-1.3.jar\" \"/home/iclj/.m2/repository/com/googlecode/netlib-java/netlib-java/0.9.3/netlib-java-0.9.3.jar\" \"/home/iclj/.m2/repository/io/netty/netty-codec/4.1.25.Final/netty-codec-4.1.25.Final.jar\" \"/home/iclj/.m2/repository/cljsjs/react-dom/16.3.2-0/react-dom-16.3.2-0.jar\" \"/home/iclj/.m2/repository/beckon/beckon/0.1.1/beckon-0.1.1.jar\" \"/home/iclj/.m2/repository/org/clojure/tools.macro/0.1.5/tools.macro-0.1.5.jar\" \"/home/iclj/.m2/repository/org/zeromq/cljzmq/0.1.4/cljzmq-0.1.4.jar\" \"/home/iclj/.m2/repository/com/fasterxml/jackson/dataformat/jackson-dataformat-cbor/2.9.6/jackson-dataformat-cbor-2.9.6.jar\" \"/home/iclj/.m2/repository/org/flatland/useful/0.11.6/useful-0.11.6.jar\" \"/home/iclj/.m2/repository/net/cgrand/parsley/0.9.3/parsley-0.9.3.jar\" \"/home/iclj/.m2/repository/com/googlecode/json-simple/json-simple/1.1.1/json-simple-1.1.1.jar\" \"/home/iclj/.m2/repository/com/atlassian/commonmark/commonmark/0.8.0/commonmark-0.8.0.jar\" \"/home/iclj/.m2/repository/org/iq80/snappy/snappy/0.4/snappy-0.4.jar\" \"/home/iclj/.m2/repository/ring/ring-defaults/0.3.2/ring-defaults-0.3.2.jar\" \"/home/iclj/.m2/repository/com/clojure-goes-fast/lazy-require/0.1.1/lazy-require-0.1.1.jar\" \"/home/iclj/.m2/repository/com/cognitect/transit-cljs/0.8.256/transit-cljs-0.8.256.jar\" \"/home/iclj/.m2/repository/org/clojars/didiercrunch/clojupyter/0.1.5/clojupyter-0.1.5.jar\" \"/home/iclj/.m2/repository/org/clojure/google-closure-library/0.0-20170809-b9c14c6b/google-closure-library-0.0-20170809-b9c14c6b.jar\" \"/home/iclj/.m2/repository/org/apache/maven/maven-model-builder/3.0.4/maven-model-builder-3.0.4.jar\" \"/home/iclj/.m2/repository/io/aviso/pretty/0.1.33/pretty-0.1.33.jar\" \"/home/iclj/.m2/repository/io/netty/netty-codec-socks/4.1.25.Final/netty-codec-socks-4.1.25.Final.jar\" \"/home/iclj/.m2/repository/org/clojure/clojurescript/1.10.238/clojurescript-1.10.238.jar\" \"/home/iclj/.m2/repository/org/codehaus/plexus/plexus-utils/3.0/plexus-utils-3.0.jar\" \"/home/iclj/.m2/repository/io/netty/netty-buffer/4.1.25.Final/netty-buffer-4.1.25.Final.jar\" \"/home/iclj/.m2/repository/incanter/incanter-core/1.9.3/incanter-core-1.9.3.jar\" \"/home/iclj/.m2/repository/slingshot/slingshot/0.12.2/slingshot-0.12.2.jar\" \"/home/iclj/.m2/repository/org/apache/httpcomponents/httpcore-nio/4.4.6/httpcore-nio-4.4.6.jar\" \"/home/iclj/.m2/repository/ring/ring-jetty-adapter/1.7.1/ring-jetty-adapter-1.7.1.jar\" \"/home/iclj/.m2/repository/net/sourceforge/jplasma/core-lapack/0.1/core-lapack-0.1.jar\" \"/home/iclj/.m2/repository/io/netty/netty-handler/4.1.25.Final/netty-handler-4.1.25.Final.jar\" \"/home/iclj/.m2/repository/org/flatland/ordered/1.5.7/ordered-1.5.7.jar\" \"/home/iclj/.m2/repository/commons-io/commons-io/2.6/commons-io-2.6.jar\" \"/home/iclj/.m2/repository/org/clojure/tools.namespace/0.2.11/tools.namespace-0.2.11.jar\" \"/home/iclj/.m2/repository/com/google/jsinterop/jsinterop-annotations/1.0.0/jsinterop-annotations-1.0.0.jar\" \"/home/iclj/.m2/repository/com/github/rwl/BTFJ/1.0.1/BTFJ-1.0.1.jar\" \"/home/iclj/.m2/repository/com/fasterxml/jackson/core/jackson-core/2.9.6/jackson-core-2.9.6.jar\" \"/home/iclj/.m2/repository/com/github/rwl/COLAMDJ/1.0.1/COLAMDJ-1.0.1.jar\" \"/home/iclj/.m2/repository/org/sonatype/sisu/sisu-inject-plexus/2.2.3/sisu-inject-plexus-2.2.3.jar\" \"/home/iclj/.m2/repository/de/kotka/lazymap/3.1.0/lazymap-3.1.0.jar\" \"/home/iclj/.m2/repository/markdown-clj/markdown-clj/1.0.7/markdown-clj-1.0.7.jar\" \"/home/iclj/.m2/repository/clj-time/clj-time/0.14.3/clj-time-0.14.3.jar\" \"/home/iclj/.m2/repository/org/yaml/snakeyaml/1.19/snakeyaml-1.19.jar\" \"/home/iclj/.m2/repository/clj-http/clj-http/3.9.1/clj-http-3.9.1.jar\" \"/home/iclj/.m2/repository/aleph/aleph/0.4.6/aleph-0.4.6.jar\" \"/home/iclj/.m2/repository/cljsjs/react/16.3.2-0/react-16.3.2-0.jar\" \"/home/iclj/.m2/repository/org/apache/httpcomponents/httpcore/4.4.9/httpcore-4.4.9.jar\" \"/home/iclj/.m2/repository/primitive-math/primitive-math/0.1.6/primitive-math-0.1.6.jar\" \"/home/iclj/.m2/repository/org/apache/httpcomponents/httpclient-cache/4.5.5/httpclient-cache-4.5.5.jar\" \"/home/iclj/.m2/repository/instaparse/instaparse/1.4.8/instaparse-1.4.8.jar\" \"/home/iclj/.m2/repository/net/mikera/clojure-utils/0.7.0/clojure-utils-0.7.0.jar\" \"/home/iclj/.m2/repository/org/apache/maven/maven-aether-provider/3.0.4/maven-aether-provider-3.0.4.jar\" \"/home/iclj/.m2/repository/org/clojure/math.numeric-tower/0.0.4/math.numeric-tower-0.0.4.jar\" \"/home/iclj/.m2/repository/com/cognitect/transit-js/0.8.846/transit-js-0.8.846.jar\" \"/home/iclj/.m2/repository/clj-tuple/clj-tuple/0.2.2/clj-tuple-0.2.2.jar\" \"/home/iclj/.m2/repository/org/mozilla/rhino/1.7R5/rhino-1.7R5.jar\" \"/home/iclj/.m2/repository/com/taoensso/truss/1.5.0/truss-1.5.0.jar\" \"/home/iclj/.m2/repository/org/sonatype/aether/aether-impl/1.13.1/aether-impl-1.13.1.jar\" \"/home/iclj/.m2/repository/ring/ring-headers/0.3.0/ring-headers-0.3.0.jar\" \"/home/iclj/.m2/repository/org/clojure/google-closure-library-third-party/0.0-20170809-b9c14c6b/google-closure-library-third-party-0.0-20170809-b9c14c6b.jar\" \"/home/iclj/.m2/repository/cljsjs/vega/4.4.0-0/vega-4.4.0-0.jar\" \"/home/iclj/.m2/repository/hiccup/hiccup/1.0.5/hiccup-1.0.5.jar\" \"/home/iclj/.m2/repository/gorilla-renderable/gorilla-renderable/2.0.0/gorilla-renderable-2.0.0.jar\" \"/home/iclj/.m2/repository/io/aleph/dirigiste/0.1.5/dirigiste-0.1.5.jar\" \"/home/iclj/.m2/repository/byte-streams/byte-streams/0.2.4/byte-streams-0.2.4.jar\" \"/home/iclj/.m2/repository/riddley/riddley/0.1.14/riddley-0.1.14.jar\" \"/home/iclj/.m2/repository/com/cemerick/clojurescript.test/0.0.4/clojurescript.test-0.0.4.jar\" \"/home/iclj/.m2/repository/org/sonatype/aether/aether-connector-wagon/1.13.1/aether-connector-wagon-1.13.1.jar\" \"/home/iclj/.m2/repository/commonmark-hiccup/commonmark-hiccup/0.1.0/commonmark-hiccup-0.1.0.jar\" \"/home/iclj/.m2/repository/com/google/javascript/closure-compiler-externs/v20180204/closure-compiler-externs-v20180204.jar\" \"/home/iclj/.m2/repository/org/javassist/javassist/3.18.1-GA/javassist-3.18.1-GA.jar\" \"/home/iclj/.m2/repository/org/clojure/java.classpath/0.2.3/java.classpath-0.2.3.jar\" \"/home/iclj/.m2/repository/com/taoensso/sente/1.13.1/sente-1.13.1.jar\" \"/home/iclj/.m2/repository/ns-tracker/ns-tracker/0.3.1/ns-tracker-0.3.1.jar\" \"/home/iclj/.m2/repository/clout/clout/2.2.1/clout-2.2.1.jar\" \"/home/iclj/.m2/repository/org/clojure/tools.nrepl/0.2.13/tools.nrepl-0.2.13.jar\" \"/home/iclj/.m2/repository/commons-logging/commons-logging/1.2/commons-logging-1.2.jar\" \"/home/iclj/.m2/repository/environ/environ/1.1.0/environ-1.1.0.jar\" \"/home/iclj/.m2/repository/com/google/guava/guava/22.0/guava-22.0.jar\" \"/home/iclj/.m2/repository/com/github/rwl/JKLU/1.0.0/JKLU-1.0.0.jar\" \"/home/iclj/.m2/repository/viebel/codox-klipse-theme/0.0.1/codox-klipse-theme-0.0.1.jar\" \"/home/iclj/.m2/repository/org/sonatype/aether/aether-spi/1.13.1/aether-spi-1.13.1.jar\" \"/home/iclj/.m2/repository/net/cgrand/macrovich/0.2.0/macrovich-0.2.0.jar\" \"/home/iclj/.m2/repository/reagent/reagent/0.8.1/reagent-0.8.1.jar\" \"/home/iclj/.m2/repository/org/msgpack/msgpack/0.6.12/msgpack-0.6.12.jar\" \"/home/iclj/.m2/repository/com/google/j2objc/j2objc-annotations/1.1/j2objc-annotations-1.1.jar\" \"/home/iclj/.m2/repository/org/clojure/data.csv/0.1.4/data.csv-0.1.4.jar\" \"/home/iclj/.m2/repository/com/taoensso/timbre/4.10.0/timbre-4.10.0.jar\" \"/home/iclj/.m2/repository/com/cognitect/transit-clj/0.8.313/transit-clj-0.8.313.jar\" \"/home/iclj/.m2/repository/org/codehaus/plexus/plexus-classworlds/2.4/plexus-classworlds-2.4.jar\" \"/home/iclj/.m2/repository/org/clojure/java.jdbc/0.3.7/java.jdbc-0.3.7.jar\" \"/home/iclj/.m2/repository/org/apache/maven/wagon/wagon-http/2.2/wagon-http-2.2.jar\" \"/home/iclj/.m2/repository/quoin/quoin/0.1.2/quoin-0.1.2.jar\" \"/home/iclj/.m2/repository/io/netty/netty-transport/4.1.25.Final/netty-transport-4.1.25.Final.jar\" \"/home/iclj/.m2/repository/args4j/args4j/2.33/args4j-2.33.jar\" \"/home/iclj/.m2/repository/net/cgrand/regex/1.1.0/regex-1.1.0.jar\" \"/home/iclj/.m2/repository/prismatic/plumbing/0.5.4/plumbing-0.5.4.jar\" \"/home/iclj/.m2/repository/org/apache/maven/wagon/wagon-http-shared4/2.2/wagon-http-shared4-2.2.jar\" \"/home/iclj/.m2/repository/cljsjs/react-dom-server/16.3.2-0/react-dom-server-16.3.2-0.jar\" \"/home/iclj/.m2/repository/crypto-random/crypto-random/1.2.0/crypto-random-1.2.0.jar\" \"/home/iclj/.m2/repository/io/netty/netty-transport-native-unix-common/4.1.25.Final/netty-transport-native-unix-common-4.1.25.Final.jar\" \"/home/iclj/.m2/repository/cider/cider-nrepl/0.15.1/cider-nrepl-0.15.1.jar\" \"/home/iclj/.m2/repository/kixi/stats/0.5.0/stats-0.5.0.jar\" \"/home/iclj/.m2/repository/io/netty/netty-codec-dns/4.1.25.Final/netty-codec-dns-4.1.25.Final.jar\" \"/home/iclj/.m2/repository/com/cemerick/pomegranate/0.3.1/pomegranate-0.3.1.jar\" \"/home/iclj/.m2/repository/io/netty/netty-codec-http/4.1.25.Final/netty-codec-http-4.1.25.Final.jar\" \"/home/iclj/.m2/repository/ring/ring-codec/1.1.1/ring-codec-1.1.1.jar\" \"/home/iclj/.m2/repository/org/codehaus/plexus/plexus-interpolation/1.14/plexus-interpolation-1.14.jar\" \"/home/iclj/.m2/repository/org/apache/httpcomponents/httpclient/4.5.5/httpclient-4.5.5.jar\" \"/home/iclj/.m2/repository/ring/ring-anti-forgery/1.3.0/ring-anti-forgery-1.3.0.jar\" \"/home/iclj/.m2/repository/prismatic/schema/1.0.1/schema-1.0.1.jar\" \"/home/iclj/.m2/repository/crypto-equality/crypto-equality/1.0.0/crypto-equality-1.0.0.jar\" \"/home/iclj/.m2/repository/org/clojure/math.combinatorics/0.1.4/math.combinatorics-0.1.4.jar\" \"/home/iclj/.m2/repository/hickory/hickory/0.7.1/hickory-0.7.1.jar\" \"/home/iclj/.m2/repository/junit/junit/4.8.2/junit-4.8.2.jar\" \"/home/iclj/.m2/repository/cheshire/cheshire/5.8.1/cheshire-5.8.1.jar\" \"/home/iclj/.m2/repository/net/mikera/vectorz-clj/0.44.1/vectorz-clj-0.44.1.jar\" \"/home/iclj/.m2/repository/net/mikera/core.matrix/0.52.0/core.matrix-0.52.0.jar\" \"/home/iclj/.m2/repository/tigris/tigris/0.1.1/tigris-0.1.1.jar\" \"/home/iclj/.m2/repository/net/mikera/mathz/0.3.0/mathz-0.3.0.jar\" \"/home/iclj/.m2/repository/semantic-csv/semantic-csv/0.2.1-alpha1/semantic-csv-0.2.1-alpha1.jar\" \"/home/iclj/.m2/repository/org/eclipse/jetty/jetty-io/9.4.12.v20180830/jetty-io-9.4.12.v20180830.jar\" \"/home/iclj/.m2/repository/org/clojure/tools.reader/1.3.0/tools.reader-1.3.0.jar\" \"/home/iclj/.m2/repository/net/sourceforge/jplasma/jplasma/1.2.0/jplasma-1.2.0.jar\" \"/home/iclj/.m2/repository/net/mikera/vectorz/0.62.0/vectorz-0.62.0.jar\" \"/home/iclj/.m2/repository/org/tcrawley/dynapath/0.2.5/dynapath-0.2.5.jar\" \"/home/iclj/.m2/repository/org/jsoup/jsoup/1.9.2/jsoup-1.9.2.jar\" \"/home/iclj/.m2/repository/com/taoensso/nippy/2.14.0/nippy-2.14.0.jar\" \"/home/iclj/.m2/repository/javax/servlet/javax.servlet-api/3.1.0/javax.servlet-api-3.1.0.jar\" \"/home/iclj/.m2/repository/com/github/rwl/AMDJ/1.0.1/AMDJ-1.0.1.jar\" \"/home/iclj/.m2/repository/potemkin/potemkin/0.4.5/potemkin-0.4.5.jar\" \"/home/iclj/.m2/repository/cljsjs/vega-lite/3.0.0-rc10-0/vega-lite-3.0.0-rc10-0.jar\" \"/home/iclj/.m2/repository/io/netty/netty-resolver/4.1.25.Final/netty-resolver-4.1.25.Final.jar\" \"/home/iclj/.m2/repository/irresponsible/tentacles/0.6.3/tentacles-0.6.3.jar\" \"/home/iclj/.m2/repository/io/netty/netty-transport-native-epoll/4.1.25.Final/netty-transport-native-epoll-4.1.25.Final.jar\" \"/home/iclj/.m2/repository/org/xerial/sqlite-jdbc/3.7.2/sqlite-jdbc-3.7.2.jar\" \"/home/iclj/.m2/repository/net/sourceforge/parallelcolt/parallelcolt/0.10.1/parallelcolt-0.10.1.jar\" \"/home/iclj/.m2/repository/clj-stacktrace/clj-stacktrace/0.2.8/clj-stacktrace-0.2.8.jar\" \"/home/iclj/.m2/repository/org/apache/maven/maven-model/3.0.4/maven-model-3.0.4.jar\" \"/home/iclj/.m2/repository/com/google/javascript/closure-compiler-unshaded/v20180204/closure-compiler-unshaded-v20180204.jar\" \"/home/iclj/.m2/repository/org/clojure/test.check/0.9.0/test.check-0.9.0.jar\" \"/home/iclj/.m2/repository/io/netty/netty-resolver-dns/4.1.25.Final/netty-resolver-dns-4.1.25.Final.jar\" \"/home/iclj/.m2/repository/org/sonatype/aether/aether-api/1.13.1/aether-api-1.13.1.jar\" \"/home/iclj/.m2/repository/io/forward/yaml/1.0.9/yaml-1.0.9.jar\" \"/home/iclj/.m2/repository/org/sonatype/sisu/sisu-guice/3.0.3/sisu-guice-3.0.3-no_aop.jar\" \"/home/iclj/.m2/repository/net/mikera/randomz/0.3.0/randomz-0.3.0.jar\" \"/home/iclj/.m2/repository/com/google/protobuf/protobuf-java/3.0.2/protobuf-java-3.0.2.jar\" \"/home/iclj/.m2/repository/org/sonatype/aether/aether-connector-file/1.13.1/aether-connector-file-1.13.1.jar\" \"/home/iclj/.m2/repository/ring/ring-servlet/1.7.1/ring-servlet-1.7.1.jar\" \"/home/iclj/.m2/repository/org/clojure/core.memoize/0.5.9/core.memoize-0.5.9.jar\" \"/home/iclj/.m2/repository/metasoarous/oz/1.5.2/oz-1.5.2.jar\" \"/home/iclj/.m2/repository/org/apache/maven/maven-repository-metadata/3.0.4/maven-repository-metadata-3.0.4.jar\" \"/home/iclj/.m2/repository/ring/ring/1.7.1/ring-1.7.1.jar\" \"/home/iclj/.m2/repository/org/clojure/data.priority-map/0.0.7/data.priority-map-0.0.7.jar\" \"/home/iclj/.m2/repository/bk/ring-gzip/0.3.0/ring-gzip-0.3.0.jar\" \"/home/iclj/.m2/repository/cljsjs/create-react-class/15.6.3-0/create-react-class-15.6.3-0.jar\" \"/home/iclj/.m2/repository/cljsjs/vega-tooltip/0.14.0-0/vega-tooltip-0.14.0-0.jar\" \"/home/iclj/.m2/repository/org/eclipse/jetty/jetty-server/9.4.12.v20180830/jetty-server-9.4.12.v20180830.jar\" \"/home/iclj/.m2/repository/net/sourceforge/f2j/arpack_combined_all/0.1/arpack_combined_all-0.1.jar\" \"/home/iclj/.m2/repository/org/apache/httpcomponents/httpmime/4.5.5/httpmime-4.5.5.jar\" \"/home/iclj/.m2/repository/com/google/code/findbugs/jsr305/3.0.1/jsr305-3.0.1.jar\" \"/home/iclj/.m2/repository/ring/ring-core/1.7.1/ring-core-1.7.1.jar\" \"/home/iclj/.m2/repository/org/clojure/core.cache/0.6.5/core.cache-0.6.5.jar\" \"/home/iclj/.m2/repository/org/ow2/asm/asm-all/4.2/asm-all-4.2.jar\" \"/home/iclj/.m2/repository/medley/medley/1.0.0/medley-1.0.0.jar\" \"/home/iclj/.m2/repository/clojure-csv/clojure-csv/2.0.1/clojure-csv-2.0.1.jar\" \"/home/iclj/.m2/repository/com/tdunning/t-digest/3.2/t-digest-3.2.jar\" \"/home/iclj/.m2/repository/org/clojure/core.async/0.4.490/core.async-0.4.490.jar\" \"/home/iclj/.m2/repository/com/fasterxml/jackson/dataformat/jackson-dataformat-smile/2.9.6/jackson-dataformat-smile-2.9.6.jar\" \"/home/iclj/.m2/repository/pathetic/pathetic/0.5.0/pathetic-0.5.0.jar\" \"/home/iclj/.m2/repository/org/clojure/data.codec/0.1.1/data.codec-0.1.1.jar\" \"/home/iclj/.m2/repository/javax/xml/bind/jaxb-api/2.3.0/jaxb-api-2.3.0.jar\" \"/home/iclj/.m2/repository/cljsjs/vega-embed/3.26.0-0/vega-embed-3.26.0-0.jar\" \"/home/iclj/.m2/repository/com/google/code/gson/gson/2.7/gson-2.7.jar\"] added to the classpath!"
     ]
    }
   ],
   "source": [
    "/cp {:deps\n",
    "     {\n",
    "      org.clojure/data.csv {:mvn/version \"0.1.4\"}\n",
    "      semantic-csv {:mvn/version \"0.2.1-alpha1\"}\n",
    "      com.clojure-goes-fast/clj-memory-meter {:mvn/version \"0.1.2\"}\n",
    "      ;; clj-time {:mvn/version \"0.15.0\"}\n",
    "      incanter/incanter-core {:mvn/version \"1.9.3\"}\n",
    "      huri {:mvn/version \"0.10.0-SNAPSHOT\"}\n",
    "      metasoarous/oz {:mvn/version \"1.5.2\"}\n",
    "      com.taoensso/nippy {:mvn/version \"2.14.0\"}\n",
    "      com.cognitect/transit-clj {:mvn/version \"0.8.313\"}\n",
    "      clojure.java-time {:mvn/version \"0.3.2\"}\n",
    "      kixi/stats {:mvn/version \"0.5.0\"}\n",
    "      org.flatland/ordered {:mvn/version \"1.5.7\"}\n",
    "      }}"
   ]
  },
  {
   "cell_type": "code",
   "execution_count": 17,
   "metadata": {},
   "outputs": [
    {
     "data": {
      "application/octet-stream": null,
      "text/iclojure-html": [
       "<ul><li class='misc'>nil</ul>"
      ],
      "text/plain": [
       "nil\n"
      ]
     },
     "execution_count": 17,
     "metadata": {},
     "output_type": "execute_result"
    }
   ],
   "source": [
    "(require '[clojure.data.csv :as csv]\n",
    "         '[clojure.java.io :as io]\n",
    "         '[semantic-csv.core :as sc]\n",
    "         \n",
    "         '[clj-memory-meter.core :as mm]\n",
    "         '[clj-time [coerce :as c] [format :as f]]\n",
    "         '[incanter.core :as ic]\n",
    "         '[huri.core :as hc]\n",
    "         '[oz.notebook.iclojure :as oz]\n",
    "         '[clojure.pprint :as pp]\n",
    "         '[taoensso.nippy :as nippy]\n",
    "         '[cognitect.transit :as transit]\n",
    "         '[java-time :as jtime]\n",
    "         '[kixi.stats.core :as kixi]\n",
    "\n",
    "         )"
   ]
  },
  {
   "cell_type": "code",
   "execution_count": 4,
   "metadata": {},
   "outputs": [
    {
     "data": {
      "text/iclojure-html": [
       "<ul><li class=browsable><ul><li class=class>java.io.ByteArrayOutputStream<li class=browser><li class=elision data-expr='(unrepl.repl$p8QhJwTpu2S19yqqZbyXWLOYcI8/fetch :G__34004)'>…</ul></ul>"
      ],
      "text/plain": [
       "#unrepl/browsable \u001b[2m[\u001b[22m\u001b[33mjava.io.ByteArrayOutputStream\u001b[m \u001b[4m/5\u001b[m\u001b[2m]\u001b[22m\n"
      ]
     },
     "execution_count": 4,
     "metadata": {},
     "output_type": "execute_result"
    }
   ],
   "source": [
    "(import '[java.io DataInputStream DataOutputStream ByteArrayInputStream ByteArrayOutputStream])"
   ]
  },
  {
   "cell_type": "markdown",
   "metadata": {},
   "source": [
    "## How to import and represent the data in a csv?\n",
    "Naive first attempt. flights.csv is around 30 MB on disk and has around 300k rows. Let's first take the first 10000 rows to avoid out of memory error."
   ]
  },
  {
   "cell_type": "code",
   "execution_count": 4,
   "metadata": {},
   "outputs": [
    {
     "data": {
      "text/iclojure-html": [
       "<ul><li class=browsable><ul><li class=var>#'user/flights10k<span class=browse>&#x1F50D;</span><li class=elision data-expr='(unrepl.repl$p8QhJwTpu2S19yqqZbyXWLOYcI8/fetch :G__1118)'>…</ul></ul>"
      ],
      "text/plain": [
       "#unrepl/browsable \u001b[2m[\u001b[22m#'user/flights10k \u001b[4m/1\u001b[m\u001b[2m]\u001b[22m\n"
      ]
     },
     "execution_count": 4,
     "metadata": {},
     "output_type": "execute_result"
    }
   ],
   "source": [
    "(def flights10k\n",
    "    (with-open [reader (io/reader \"flights.csv\")]\n",
    "        (->> reader\n",
    "             csv/read-csv\n",
    "             (take 10000)\n",
    "             doall)))"
   ]
  },
  {
   "cell_type": "code",
   "execution_count": 6,
   "metadata": {},
   "outputs": [
    {
     "data": {
      "application/octet-stream": null,
      "text/iclojure-html": [
       "<ul><li class=vector>[<ul><li class='string'>\"2013\"<li class=space> <li class='string'>\"1\"<li class=space> <li class='string'>\"1\"<li class=space> <li class='string'>\"517\"<li class=space> <li class='string'>\"515\"<li class=space> <li class='string'>\"2\"<li class=space> <li class='string'>\"830\"<li class=space> <li class='string'>\"819\"<li class=space> <li class='string'>\"11\"<li class=space> <li class='string'>\"UA\"<li class=space> <li class=elision data-expr='(unrepl.repl$p8QhJwTpu2S19yqqZbyXWLOYcI8/fetch :G__1136)'>…<li class=trail>]</ul></ul>"
      ],
      "text/plain": [
       "\u001b[2m[\u001b[22m\"2013\" \"1\" \"1\" \"517\" \"515\" \"2\" \"830\" \"819\" \"11\" \"UA\" \u001b[4m/3\u001b[m\u001b[2m]\u001b[22m\n"
      ]
     },
     "execution_count": 6,
     "metadata": {},
     "output_type": "execute_result"
    }
   ],
   "source": [
    "(second flights10k )"
   ]
  },
  {
   "cell_type": "code",
   "execution_count": 7,
   "metadata": {},
   "outputs": [
    {
     "data": {
      "application/octet-stream": null,
      "text/iclojure-html": [
       "<ul><li class='string'>\"12.7 MB\"</ul>"
      ],
      "text/plain": [
       "\"12.7 MB\"\n"
      ]
     },
     "execution_count": 7,
     "metadata": {},
     "output_type": "execute_result"
    }
   ],
   "source": [
    "(mm/measure flights10k)"
   ]
  },
  {
   "cell_type": "markdown",
   "metadata": {},
   "source": [
    "in R the full dataset uses 40 MB memory and the first 10k rows 1.3 MB. Here 12.7 MB is used which is an order of magnitude of difference! Let's see if we can use less memory in clojure by casting data types. There's a issue [here](https://github.com/metasoarous/semantic-csv/issues/2) about creating a column type sniffer. Functionality like this is also present in `R` functions like `readr::read_csv` and greatly simplifies reading in data from a csv file."
   ]
  },
  {
   "cell_type": "code",
   "execution_count": 167,
   "metadata": {},
   "outputs": [
    {
     "data": {
      "text/iclojure-html": [
       "<ul><li class=browsable><ul><li class=var>#'user/flights10k2<li class=browser><li class=elision data-expr='(unrepl.repl$p8QhJwTpu2S19yqqZbyXWLOYcI8/fetch :G__43243)'>…</ul></ul>"
      ],
      "text/plain": [
       "#unrepl/browsable \u001b[2m[\u001b[22m#'user/flights10k2 \u001b[4m/203\u001b[m\u001b[2m]\u001b[22m\n"
      ]
     },
     "execution_count": 167,
     "metadata": {},
     "output_type": "execute_result"
    }
   ],
   "source": [
    "(def flights10k2\n",
    "    (with-open [reader (io/reader \"flights.csv\")]\n",
    "        (->> reader\n",
    "             csv/read-csv\n",
    "             (take 10000)\n",
    "             sc/mappify\n",
    "             (sc/cast-with sc/->int {:only [:day :hour :sched_dep_time :arr_time :sched_arr_time :month :dep_time :arr_delay :year :dep_delay :flight :distance :air_time :minute] \n",
    "                                  :exception-handler (fn [colname value] nil)})\n",
    "             (sc/cast-with keyword  {:only [:tailnum :carrier :origin :dest] \n",
    "                                  :exception-handler (fn [colname value] nil)})\n",
    "             (sc/cast-with {:time_hour jtime/java-date} {:exception-handler (fn [colname value] nil)})\n",
    "             doall)))"
   ]
  },
  {
   "cell_type": "code",
   "execution_count": 168,
   "metadata": {},
   "outputs": [
    {
     "data": {
      "application/octet-stream": null,
      "text/iclojure-html": [
       "<ul><li class='string'>\"5.8 MB\"</ul>"
      ],
      "text/plain": [
       "\"5.8 MB\"\n"
      ]
     },
     "execution_count": 168,
     "metadata": {},
     "output_type": "execute_result"
    }
   ],
   "source": [
    "(mm/measure flights10k2)"
   ]
  },
  {
   "cell_type": "markdown",
   "metadata": {},
   "source": [
    "We're still using more than 4 times more data than in R :/ What if we use structs?"
   ]
  },
  {
   "cell_type": "code",
   "execution_count": 91,
   "metadata": {},
   "outputs": [
    {
     "data": {
      "text/iclojure-html": [
       "<ul><li class=browsable><ul><li class=var>#'user/flights10k3<span class=browse>&#x1F50D;</span><li class=elision data-expr='(unrepl.repl$p8QhJwTpu2S19yqqZbyXWLOYcI8/fetch :G__2073)'>…</ul></ul>"
      ],
      "text/plain": [
       "#unrepl/browsable \u001b[2m[\u001b[22m#'user/flights10k3 \u001b[4m/100\u001b[m\u001b[2m]\u001b[22m\n"
      ]
     },
     "execution_count": 91,
     "metadata": {},
     "output_type": "execute_result"
    }
   ],
   "source": [
    "(def flights10k3\n",
    "    (with-open [reader (io/reader \"flights.csv\")]\n",
    "        (->> reader\n",
    "             csv/read-csv\n",
    "             (take 10000)\n",
    "             (sc/mappify {:structs true})\n",
    "             (sc/cast-with sc/->int {:only [:day :hour :sched_dep_time :arr_time :sched_arr_time :month :dep_time :arr_delay :year :dep_delay :flight :distance :air_time :minute] \n",
    "                                  :exception-handler (fn [colname value] nil)})\n",
    "             (sc/cast-with keyword  {:only [:tailnum :carrier :origin :dest] \n",
    "                                  :exception-handler (fn [colname value] nil)})\n",
    "             (sc/cast-with {:time_hour jtime/java-date} {:exception-handler (fn [colname value] nil)})\n",
    "             doall)))"
   ]
  },
  {
   "cell_type": "code",
   "execution_count": 92,
   "metadata": {},
   "outputs": [
    {
     "data": {
      "application/octet-stream": null,
      "text/iclojure-html": [
       "<ul><li class='string'>\"7.8 MB\"</ul>"
      ],
      "text/plain": [
       "\"7.8 MB\"\n"
      ]
     },
     "execution_count": 92,
     "metadata": {},
     "output_type": "execute_result"
    }
   ],
   "source": [
    "(mm/measure flights10k3)"
   ]
  },
  {
   "cell_type": "markdown",
   "metadata": {},
   "source": [
    "Using structs makes it worse. Lets stick to normal maps. What if we use incanter?"
   ]
  },
  {
   "cell_type": "code",
   "execution_count": 19,
   "metadata": {},
   "outputs": [
    {
     "data": {
      "text/iclojure-html": [
       "<ul><li class=browsable><ul><li class=var>#'user/flights10k-incanter<span class=browse>&#x1F50D;</span><li class=elision data-expr='(unrepl.repl$p8QhJwTpu2S19yqqZbyXWLOYcI8/fetch :G__16143)'>…</ul></ul>"
      ],
      "text/plain": [
       "#unrepl/browsable \u001b[2m[\u001b[22m#'user/flights10k-incanter \u001b[4m/21\u001b[m\u001b[2m]\u001b[22m\n"
      ]
     },
     "execution_count": 19,
     "metadata": {},
     "output_type": "execute_result"
    }
   ],
   "source": [
    "(def flights10k-incanter (ic/to-dataset flights10k2))"
   ]
  },
  {
   "cell_type": "code",
   "execution_count": 20,
   "metadata": {},
   "outputs": [
    {
     "data": {
      "application/octet-stream": null,
      "text/iclojure-html": [
       "<ul><li class='string'>\"2.6 MB\"</ul>"
      ],
      "text/plain": [
       "\"2.6 MB\"\n"
      ]
     },
     "execution_count": 20,
     "metadata": {},
     "output_type": "execute_result"
    }
   ],
   "source": [
    "(mm/measure flights10k-incanter)"
   ]
  },
  {
   "cell_type": "markdown",
   "metadata": {},
   "source": [
    "ok, so now we've arrived at factor 2 memory use from R. However, I'm not going to use incanter as I don't like it's departure from idiomatic clojure. Instead I will use huri in this tutorial. Let's first load the data "
   ]
  },
  {
   "cell_type": "code",
   "execution_count": 6,
   "metadata": {},
   "outputs": [
    {
     "name": "stdout",
     "output_type": "stream",
     "text": [
      "\"Elapsed time: 14598.714012 msecs\"\n"
     ]
    },
    {
     "data": {
      "text/iclojure-html": [
       "<ul><li class=browsable><ul><li class=var>#'user/flights<li class=browser><li class=elision data-expr='(unrepl.repl$p8QhJwTpu2S19yqqZbyXWLOYcI8/fetch :G__41155)'>…</ul></ul>"
      ],
      "text/plain": [
       "#unrepl/browsable \u001b[2m[\u001b[22m#'user/flights \u001b[4m/6\u001b[m\u001b[2m]\u001b[22m\n"
      ]
     },
     "execution_count": 6,
     "metadata": {},
     "output_type": "execute_result"
    }
   ],
   "source": [
    "(time (def flights\n",
    "    (with-open [reader (io/reader \"flights.csv\")]\n",
    "        (->> reader\n",
    "             csv/read-csv\n",
    "             sc/mappify\n",
    "             (sc/cast-with sc/->int {:only [:day :hour :sched_dep_time :arr_time :sched_arr_time :month :dep_time :arr_delay :year :dep_delay :flight :distance :air_time :minute] \n",
    "                                  :exception-handler (fn [colname value] nil)})\n",
    "             (sc/cast-with keyword  {:only [:tailnum :carrier :origin :dest] \n",
    "                                  :exception-handler (fn [colname value] nil)})\n",
    "             (sc/cast-with {:time_hour jtime/java-date} {:exception-handler (fn [colname value] nil)})\n",
    "             doall))))"
   ]
  },
  {
   "cell_type": "code",
   "execution_count": 93,
   "metadata": {},
   "outputs": [
    {
     "data": {
      "application/octet-stream": null,
      "text/iclojure-html": [
       "<ul><li class='string'>\"187.2 MB\"</ul>"
      ],
      "text/plain": [
       "\"187.2 MB\"\n"
      ]
     },
     "execution_count": 93,
     "metadata": {},
     "output_type": "execute_result"
    }
   ],
   "source": [
    "(mm/measure flights)"
   ]
  },
  {
   "cell_type": "markdown",
   "metadata": {},
   "source": [
    "It uses 180 mb. Loading it into memory from csv takes more around 15 seconds on my computer. Let's see if we can speed it up a bit by reading it from disk in a different format. "
   ]
  },
  {
   "cell_type": "code",
   "execution_count": 94,
   "metadata": {},
   "outputs": [
    {
     "name": "stdout",
     "output_type": "stream",
     "text": [
      "\"Elapsed time: 2167.734177 msecs\"\n"
     ]
    },
    {
     "data": {
      "application/octet-stream": null,
      "text/iclojure-html": [
       "<ul><li class='misc'>nil</ul>"
      ],
      "text/plain": [
       "nil\n"
      ]
     },
     "execution_count": 94,
     "metadata": {},
     "output_type": "execute_result"
    }
   ],
   "source": [
    "(time \n",
    "    (with-open [w (io/output-stream \"flights.nippy\")]\n",
    "        (nippy/freeze-to-out! (DataOutputStream. w) flights)))"
   ]
  },
  {
   "cell_type": "code",
   "execution_count": 19,
   "metadata": {},
   "outputs": [
    {
     "name": "stdout",
     "output_type": "stream",
     "text": [
      "\"Elapsed time: 7150.267986 msecs\"\n"
     ]
    },
    {
     "data": {
      "text/iclojure-html": [
       "<ul><li class=browsable><ul><li class=var>#'user/flights<li class=browser><li class=elision data-expr='(unrepl.repl$p8QhJwTpu2S19yqqZbyXWLOYcI8/fetch :G__41384)'>…</ul></ul>"
      ],
      "text/plain": [
       "#unrepl/browsable \u001b[2m[\u001b[22m#'user/flights \u001b[4m/25\u001b[m\u001b[2m]\u001b[22m\n"
      ]
     },
     "execution_count": 19,
     "metadata": {},
     "output_type": "execute_result"
    }
   ],
   "source": [
    "(time \n",
    "    (def flights \n",
    "        (with-open [r (io/input-stream \"flights.nippy\")] \n",
    "            (nippy/thaw-from-in! (DataInputStream. r)))))"
   ]
  },
  {
   "cell_type": "markdown",
   "metadata": {},
   "source": [
    "2 seconds. Aah, much nicer :) "
   ]
  },
  {
   "cell_type": "markdown",
   "metadata": {},
   "source": [
    "## Data transformation\n",
    "So lets start working through chapter 5 of Hadley Wickham & Garrett Grolemund's excelent book https://r4ds.had.co.nz/. In this chapter you're introduced to using the tidyverse to do basic data wrangling tasks. I'd like to show how to perform these tasks with the tools available in clojure. \n",
    "\n",
    "Huri uses plumbing which I think uses the idea for keys to always be present and throw exception when key is not present. So I include keys with nil values. See `safe-get` in https://github.com/plumatic/plumbing#more-good-stuff"
   ]
  },
  {
   "cell_type": "code",
   "execution_count": 6,
   "metadata": {},
   "outputs": [
    {
     "data": {
      "application/octet-stream": null,
      "text/iclojure-html": [
       "<ul><li class=vector>[<ul><li class='misc'>336776<li class=space> <li class='misc'>19<li class=trail>]</ul></ul>"
      ],
      "text/plain": [
       "\u001b[2m[\u001b[22m336776 19\u001b[2m]\u001b[22m\n"
      ]
     },
     "execution_count": 6,
     "metadata": {},
     "output_type": "execute_result"
    }
   ],
   "source": [
    "(hc/size flights)"
   ]
  },
  {
   "cell_type": "code",
   "execution_count": 9,
   "metadata": {},
   "outputs": [
    {
     "name": "stdout",
     "output_type": "stream",
     "text": [
      "\n",
      "| :day | :hour | :sched_dep_time | :tailnum | :arr_time | :sched_arr_time | :month | :dep_time | :carrier | :arr_delay | :year | :dep_delay | :origin | :flight | :distance | :air_time | :dest |               :time_hour | :minute |\n",
      "|------+-------+-----------------+----------+-----------+-----------------+--------+-----------+----------+------------+-------+------------+---------+---------+-----------+-----------+-------+--------------------------+---------|\n",
      "|    1 |     5 |             515 |  :N14228 |       830 |             819 |      1 |       517 |      :UA |         11 |  2013 |          2 |    :EWR |    1545 |      1400 |       227 |  :IAH | 2013-01-01T10:00:00.000Z |      15 |\n",
      "|    1 |     5 |             529 |  :N24211 |       850 |             830 |      1 |       533 |      :UA |         20 |  2013 |          4 |    :LGA |    1714 |      1416 |       227 |  :IAH | 2013-01-01T10:00:00.000Z |      29 |\n",
      "|    1 |     5 |             540 |  :N619AA |       923 |             850 |      1 |       542 |      :AA |         33 |  2013 |          2 |    :JFK |    1141 |      1089 |       160 |  :MIA | 2013-01-01T10:00:00.000Z |      40 |\n",
      "|    1 |     5 |             545 |  :N804JB |      1004 |            1022 |      1 |       544 |      :B6 |        -18 |  2013 |         -1 |    :JFK |     725 |      1576 |       183 |  :BQN | 2013-01-01T10:00:00.000Z |      45 |\n",
      "|    1 |     6 |             600 |  :N668DN |       812 |             837 |      1 |       554 |      :DL |        -25 |  2013 |         -6 |    :LGA |     461 |       762 |       116 |  :ATL | 2013-01-01T11:00:00.000Z |       0 |\n",
      "|    1 |     5 |             558 |  :N39463 |       740 |             728 |      1 |       554 |      :UA |         12 |  2013 |         -4 |    :EWR |    1696 |       719 |       150 |  :ORD | 2013-01-01T10:00:00.000Z |      58 |\n",
      "|    1 |     6 |             600 |  :N516JB |       913 |             854 |      1 |       555 |      :B6 |         19 |  2013 |         -5 |    :EWR |     507 |      1065 |       158 |  :FLL | 2013-01-01T11:00:00.000Z |       0 |\n",
      "|    1 |     6 |             600 |  :N829AS |       709 |             723 |      1 |       557 |      :EV |        -14 |  2013 |         -3 |    :LGA |    5708 |       229 |        53 |  :IAD | 2013-01-01T11:00:00.000Z |       0 |\n",
      "|    1 |     6 |             600 |  :N593JB |       838 |             846 |      1 |       557 |      :B6 |         -8 |  2013 |         -3 |    :JFK |      79 |       944 |       140 |  :MCO | 2013-01-01T11:00:00.000Z |       0 |\n",
      "|    1 |     6 |             600 |  :N3ALAA |       753 |             745 |      1 |       558 |      :AA |          8 |  2013 |         -2 |    :LGA |     301 |       733 |       138 |  :ORD | 2013-01-01T11:00:00.000Z |       0 |\n"
     ]
    },
    {
     "data": {
      "application/octet-stream": null,
      "text/iclojure-html": [
       "<ul><li class='misc'>nil</ul>"
      ],
      "text/plain": [
       "nil\n"
      ]
     },
     "execution_count": 9,
     "metadata": {},
     "output_type": "execute_result"
    }
   ],
   "source": [
    "(pp/print-table (take 10 flights))"
   ]
  },
  {
   "cell_type": "markdown",
   "metadata": {},
   "source": [
    "### filter "
   ]
  },
  {
   "cell_type": "code",
   "execution_count": 29,
   "metadata": {},
   "outputs": [
    {
     "data": {
      "application/octet-stream": null,
      "text/iclojure-html": [
       "<ul><li class=seq>(<ul><li class=map>{<ul><li><ul><li class=keyword>:day<li class=space> <li class='misc'>1<li class=trail>,</ul><li class=space> <li><ul><li class=keyword>:hour<li class=space> <li class='misc'>5<li class=trail>,</ul><li class=space> <li><ul><li class=keyword>:sched_dep_time<li class=space> <li class='misc'>515<li class=trail>,</ul><li class=space> <li><ul><li class=keyword>:tailnum<li class=space> <li class=keyword>:N14228<li class=trail>,</ul><li class=space> <li><ul><li class=keyword>:arr_time<li class=space> <li class='misc'>830<li class=trail>,</ul><li class=space> <li><ul><li class=keyword>:sched_arr_time<li class=space> <li class='misc'>819<li class=trail>,</ul><li class=space> <li><ul><li class=keyword>:month<li class=space> <li class='misc'>1<li class=trail>,</ul><li class=space> <li><ul><li class=keyword>:dep_time<li class=space> <li class='misc'>517<li class=trail>,</ul><li class=space> <li><ul><li class=keyword>:carrier<li class=space> <li class=keyword>:UA<li class=trail>,</ul><li class=space> <li><ul><li class=keyword>:arr_delay<li class=space> <li class='misc'>11<li class=trail>,</ul><li class=space> <li class=elision data-expr='(unrepl.repl$p8QhJwTpu2S19yqqZbyXWLOYcI8/fetch :G__42822)'>…<li class=trail>}</ul><li class=space> <li class=map>{<ul><li><ul><li class=keyword>:day<li class=space> <li class='misc'>1<li class=trail>,</ul><li class=space> <li><ul><li class=keyword>:hour<li class=space> <li class='misc'>5<li class=trail>,</ul><li class=space> <li><ul><li class=keyword>:sched_dep_time<li class=space> <li class='misc'>529<li class=trail>,</ul><li class=space> <li><ul><li class=keyword>:tailnum<li class=space> <li class=keyword>:N24211<li class=trail>,</ul><li class=space> <li><ul><li class=keyword>:arr_time<li class=space> <li class='misc'>850<li class=trail>,</ul><li class=space> <li><ul><li class=keyword>:sched_arr_time<li class=space> <li class='misc'>830<li class=trail>,</ul><li class=space> <li><ul><li class=keyword>:month<li class=space> <li class='misc'>1<li class=trail>,</ul><li class=space> <li><ul><li class=keyword>:dep_time<li class=space> <li class='misc'>533<li class=trail>,</ul><li class=space> <li><ul><li class=keyword>:carrier<li class=space> <li class=keyword>:UA<li class=trail>,</ul><li class=space> <li><ul><li class=keyword>:arr_delay<li class=space> <li class='misc'>20<li class=trail>,</ul><li class=space> <li class=elision data-expr='(unrepl.repl$p8QhJwTpu2S19yqqZbyXWLOYcI8/fetch :G__42823)'>…<li class=trail>}</ul><li class=space> <li class=map>{<ul><li><ul><li class=keyword>:day<li class=space> <li class='misc'>1<li class=trail>,</ul><li class=space> <li><ul><li class=keyword>:hour<li class=space> <li class='misc'>5<li class=trail>,</ul><li class=space> <li><ul><li class=keyword>:sched_dep_time<li class=space> <li class='misc'>540<li class=trail>,</ul><li class=space> <li><ul><li class=keyword>:tailnum<li class=space> <li class=keyword>:N619AA<li class=trail>,</ul><li class=space> <li><ul><li class=keyword>:arr_time<li class=space> <li class='misc'>923<li class=trail>,</ul><li class=space> <li><ul><li class=keyword>:sched_arr_time<li class=space> <li class='misc'>850<li class=trail>,</ul><li class=space> <li><ul><li class=keyword>:month<li class=space> <li class='misc'>1<li class=trail>,</ul><li class=space> <li><ul><li class=keyword>:dep_time<li class=space> <li class='misc'>542<li class=trail>,</ul><li class=space> <li><ul><li class=keyword>:carrier<li class=space> <li class=keyword>:AA<li class=trail>,</ul><li class=space> <li><ul><li class=keyword>:arr_delay<li class=space> <li class='misc'>33<li class=trail>,</ul><li class=space> <li class=elision data-expr='(unrepl.repl$p8QhJwTpu2S19yqqZbyXWLOYcI8/fetch :G__42824)'>…<li class=trail>}</ul><li class=space> <li class=map>{<ul><li><ul><li class=keyword>:day<li class=space> <li class='misc'>1<li class=trail>,</ul><li class=space> <li><ul><li class=keyword>:hour<li class=space> <li class='misc'>5<li class=trail>,</ul><li class=space> <li><ul><li class=keyword>:sched_dep_time<li class=space> <li class='misc'>545<li class=trail>,</ul><li class=space> <li><ul><li class=keyword>:tailnum<li class=space> <li class=keyword>:N804JB<li class=trail>,</ul><li class=space> <li><ul><li class=keyword>:arr_time<li class=space> <li class='misc'>1004<li class=trail>,</ul><li class=space> <li><ul><li class=keyword>:sched_arr_time<li class=space> <li class='misc'>1022<li class=trail>,</ul><li class=space> <li class=elision data-expr='(unrepl.repl$p8QhJwTpu2S19yqqZbyXWLOYcI8/fetch :G__42825)'>…<li class=trail>}</ul><li class=space> <li class=elision data-expr='(unrepl.repl$p8QhJwTpu2S19yqqZbyXWLOYcI8/fetch :G__42826)'>…<li class=trail>)</ul></ul>"
      ],
      "text/plain": [
       "\u001b[2m(\u001b[22m\u001b[2m{\u001b[22m\u001b[36m:day\u001b[m 1\u001b[2m,\u001b[22m \u001b[36m:hour\u001b[m 5\u001b[2m,\u001b[22m \u001b[36m:sched_dep_time\u001b[m 515\u001b[2m,\u001b[22m \u001b[36m:tailnum\u001b[m \u001b[36m:N14228\u001b[m\u001b[2m,\u001b[22m\n",
       "  \u001b[36m:arr_time\u001b[m 830\u001b[2m,\u001b[22m \u001b[36m:sched_arr_time\u001b[m 819\u001b[2m,\u001b[22m \u001b[36m:month\u001b[m 1\u001b[2m,\u001b[22m\n",
       "  \u001b[36m:dep_time\u001b[m 517\u001b[2m,\u001b[22m \u001b[36m:carrier\u001b[m \u001b[36m:UA\u001b[m\u001b[2m,\u001b[22m \u001b[36m:arr_delay\u001b[m 11\u001b[2m,\u001b[22m \u001b[4m/57\u001b[m\u001b[2m}\u001b[22m\n",
       " \u001b[2m{\u001b[22m\u001b[36m:day\u001b[m 1\u001b[2m,\u001b[22m \u001b[36m:hour\u001b[m 5\u001b[2m,\u001b[22m \u001b[36m:sched_dep_time\u001b[m 529\u001b[2m,\u001b[22m \u001b[36m:tailnum\u001b[m \u001b[36m:N24211\u001b[m\u001b[2m,\u001b[22m\n",
       "  \u001b[36m:arr_time\u001b[m 850\u001b[2m,\u001b[22m \u001b[36m:sched_arr_time\u001b[m 830\u001b[2m,\u001b[22m \u001b[36m:month\u001b[m 1\u001b[2m,\u001b[22m\n",
       "  \u001b[36m:dep_time\u001b[m 533\u001b[2m,\u001b[22m \u001b[36m:carrier\u001b[m \u001b[36m:UA\u001b[m\u001b[2m,\u001b[22m \u001b[36m:arr_delay\u001b[m 20\u001b[2m,\u001b[22m \u001b[4m/58\u001b[m\u001b[2m}\u001b[22m\n",
       " \u001b[2m{\u001b[22m\u001b[36m:day\u001b[m 1\u001b[2m,\u001b[22m \u001b[36m:hour\u001b[m 5\u001b[2m,\u001b[22m \u001b[36m:sched_dep_time\u001b[m 540\u001b[2m,\u001b[22m \u001b[36m:tailnum\u001b[m \u001b[36m:N619AA\u001b[m\u001b[2m,\u001b[22m\n",
       "  \u001b[36m:arr_time\u001b[m 923\u001b[2m,\u001b[22m \u001b[36m:sched_arr_time\u001b[m 850\u001b[2m,\u001b[22m \u001b[36m:month\u001b[m 1\u001b[2m,\u001b[22m\n",
       "  \u001b[36m:dep_time\u001b[m 542\u001b[2m,\u001b[22m \u001b[36m:carrier\u001b[m \u001b[36m:AA\u001b[m\u001b[2m,\u001b[22m \u001b[36m:arr_delay\u001b[m 33\u001b[2m,\u001b[22m \u001b[4m/59\u001b[m\u001b[2m}\u001b[22m\n",
       " \u001b[2m{\u001b[22m\u001b[36m:day\u001b[m 1\u001b[2m,\u001b[22m \u001b[36m:hour\u001b[m 5\u001b[2m,\u001b[22m \u001b[36m:sched_dep_time\u001b[m 545\u001b[2m,\u001b[22m \u001b[36m:tailnum\u001b[m \u001b[36m:N804JB\u001b[m\u001b[2m,\u001b[22m\n",
       "  \u001b[36m:arr_time\u001b[m 1004\u001b[2m,\u001b[22m \u001b[36m:sched_arr_time\u001b[m 1022\u001b[2m,\u001b[22m \u001b[4m/60\u001b[m\u001b[2m}\u001b[22m\n",
       " \u001b[4m/61\u001b[m\u001b[2m)\u001b[22m\n"
      ]
     },
     "execution_count": 29,
     "metadata": {},
     "output_type": "execute_result"
    }
   ],
   "source": [
    "(filter #(and (= 1 (:month %))\n",
    "              (= 1 (:day %)))\n",
    "        flights)"
   ]
  },
  {
   "cell_type": "markdown",
   "metadata": {},
   "source": [
    "Using the huri library you can construct queries as follows"
   ]
  },
  {
   "cell_type": "code",
   "execution_count": 21,
   "metadata": {},
   "outputs": [
    {
     "data": {
      "application/octet-stream": null,
      "text/iclojure-html": [
       "<ul><li class=seq>(<ul><li class=map>{<ul><li><ul><li class=keyword>:day<li class=space> <li class='misc'>1<li class=trail>,</ul><li class=space> <li><ul><li class=keyword>:hour<li class=space> <li class='misc'>15<li class=trail>,</ul><li class=space> <li><ul><li class=keyword>:sched_dep_time<li class=space> <li class='misc'>1530<li class=trail>,</ul><li class=space> <li><ul><li class=keyword>:tailnum<li class=space> <li class=keyword>:N719MQ<li class=trail>,</ul><li class=space> <li><ul><li class=keyword>:arr_time<li class=space> <li class='misc'>1934<li class=trail>,</ul><li class=space> <li><ul><li class=keyword>:sched_arr_time<li class=space> <li class='misc'>1805<li class=trail>,</ul><li class=space> <li><ul><li class=keyword>:month<li class=space> <li class='misc'>1<li class=trail>,</ul><li class=space> <li><ul><li class=keyword>:dep_time<li class=space> <li class='misc'>1525<li class=trail>,</ul><li class=space> <li><ul><li class=keyword>:carrier<li class=space> <li class=keyword>:MQ<li class=trail>,</ul><li class=space> <li><ul><li class=keyword>:arr_delay<li class=space> <li class='misc'>nil<li class=trail>,</ul><li class=space> <li class=elision data-expr='(unrepl.repl$p8QhJwTpu2S19yqqZbyXWLOYcI8/fetch :G__41428)'>…<li class=trail>}</ul><li class=trail>)</ul></ul>"
      ],
      "text/plain": [
       "\u001b[2m(\u001b[22m\u001b[2m{\u001b[22m\u001b[36m:day\u001b[m 1\u001b[2m,\u001b[22m \u001b[36m:hour\u001b[m 15\u001b[2m,\u001b[22m \u001b[36m:sched_dep_time\u001b[m 1530\u001b[2m,\u001b[22m \u001b[36m:tailnum\u001b[m \u001b[36m:N719MQ\u001b[m\u001b[2m,\u001b[22m\n",
       "  \u001b[36m:arr_time\u001b[m 1934\u001b[2m,\u001b[22m \u001b[36m:sched_arr_time\u001b[m 1805\u001b[2m,\u001b[22m \u001b[36m:month\u001b[m 1\u001b[2m,\u001b[22m\n",
       "  \u001b[36m:dep_time\u001b[m 1525\u001b[2m,\u001b[22m \u001b[36m:carrier\u001b[m \u001b[36m:MQ\u001b[m\u001b[2m,\u001b[22m \u001b[36m:arr_delay\u001b[m nil\u001b[2m,\u001b[22m \u001b[4m/31\u001b[m\u001b[2m}\u001b[22m\u001b[2m)\u001b[22m\n"
      ]
     },
     "execution_count": 21,
     "metadata": {},
     "output_type": "execute_result"
    }
   ],
   "source": [
    "(->> flights\n",
    "     (hc/where {:tailnum [= :N719MQ]\n",
    "                :day 1\n",
    "                :month [< 3]\n",
    "                :arr_delay nil}))"
   ]
  },
  {
   "cell_type": "markdown",
   "metadata": {},
   "source": [
    "> NOTE: \n",
    "I don't know what I should do with missing values yet. Currently I'm replacing them with nil. But according to clojure's philosphy instead of having a key with the value nil in a map, the key should just not be in there. When the data is sparse this may also reduce the memory footprint significantly.  For now I'll leave nil in there.\n",
    "\n",
    "Let's define a convenience function for printing the table"
   ]
  },
  {
   "cell_type": "code",
   "execution_count": 8,
   "metadata": {},
   "outputs": [
    {
     "data": {
      "text/iclojure-html": [
       "<ul><li class=browsable><ul><li class=var>#'user/print-table<li class=browser><li class=elision data-expr='(unrepl.repl$p8QhJwTpu2S19yqqZbyXWLOYcI8/fetch :G__41164)'>…</ul></ul>"
      ],
      "text/plain": [
       "#unrepl/browsable \u001b[2m[\u001b[22m#'user/print-table \u001b[4m/7\u001b[m\u001b[2m]\u001b[22m\n"
      ]
     },
     "execution_count": 8,
     "metadata": {},
     "output_type": "execute_result"
    }
   ],
   "source": [
    "(defn print-table\n",
    "    ([df] (print-table df 5))\n",
    "    ([df n] (clojure.pprint/print-table (take n df))))"
   ]
  },
  {
   "cell_type": "code",
   "execution_count": 9,
   "metadata": {},
   "outputs": [
    {
     "name": "stdout",
     "output_type": "stream",
     "text": [
      "\n",
      "| :day | :hour | :sched_dep_time | :tailnum | :arr_time | :sched_arr_time | :month | :dep_time | :carrier | :arr_delay | :year | :dep_delay | :origin | :flight | :distance | :air_time | :dest |                   :time_hour | :minute |\n",
      "|------+-------+-----------------+----------+-----------+-----------------+--------+-----------+----------+------------+-------+------------+---------+---------+-----------+-----------+-------+------------------------------+---------|\n",
      "|   31 |     6 |             625 |      :NA |           |             934 |      1 |           |      :UA |            |  2013 |            |    :LGA |    1497 |      1416 |           |  :IAH | Thu Jan 31 12:00:00 CET 2013 |      25 |\n",
      "|   31 |    14 |            1446 |      :NA |           |            1757 |      1 |           |      :UA |            |  2013 |            |    :LGA |     337 |      1416 |           |  :IAH | Thu Jan 31 20:00:00 CET 2013 |      46 |\n",
      "|   31 |    14 |            1410 |  :N734MQ |           |            1555 |      1 |           |      :MQ |            |  2013 |            |    :LGA |    4491 |       419 |           |  :CLE | Thu Jan 31 20:00:00 CET 2013 |      10 |\n",
      "|   31 |    12 |            1200 |  :N505MQ |           |            1430 |      1 |           |      :MQ |            |  2013 |            |    :LGA |    4658 |       762 |           |  :ATL | Thu Jan 31 18:00:00 CET 2013 |       0 |\n",
      "|   31 |    13 |            1325 |  :N730MQ |           |            1505 |      1 |           |      :MQ |            |  2013 |            |    :LGA |    4475 |       431 |           |  :RDU | Thu Jan 31 19:00:00 CET 2013 |      25 |\n"
     ]
    },
    {
     "data": {
      "application/octet-stream": null,
      "text/iclojure-html": [
       "<ul><li class='misc'>nil</ul>"
      ],
      "text/plain": [
       "nil\n"
      ]
     },
     "execution_count": 9,
     "metadata": {},
     "output_type": "execute_result"
    }
   ],
   "source": [
    "(->> flights\n",
    "     (hc/where {:month [(partial contains? [11 12])]})\n",
    "     print-table)"
   ]
  },
  {
   "cell_type": "markdown",
   "metadata": {},
   "source": [
    "nil?\n"
   ]
  },
  {
   "cell_type": "code",
   "execution_count": 10,
   "metadata": {},
   "outputs": [
    {
     "ename": "Oops",
     "evalue": "",
     "output_type": "error",
     "traceback": [
      "Exception while evaluating the expression.",
      "#unrepl/browsable\n  \u001b[2m[\u001b[22m\u001b[31m#error\u001b[m \u001b[2m{\u001b[22m\u001b[36m:via\u001b[m \u001b[2m[\u001b[22m\u001b[2m{\u001b[22m\u001b[36m:type\u001b[m java.lang.NullPointerException\u001b[2m,\u001b[22m\n                  \u001b[36m:at\u001b[m \u001b[2m[\u001b[22mclojure.lang.Numbers ops \"Numbers.java\" 1068\u001b[2m]\u001b[22m\u001b[2m}\u001b[22m\u001b[2m]\u001b[22m\u001b[2m,\u001b[22m\n           \u001b[36m:trace\u001b[m \u001b[2m[\u001b[22m\u001b[2m[\u001b[22mclojure.lang.Numbers ops \"Numbers.java\" 1068\u001b[2m]\u001b[22m\n                   \u001b[2m[\u001b[22mclojure.lang.Numbers lte \"Numbers.java\" 255\u001b[2m]\u001b[22m\n                   \u001b[2m[\u001b[22mclojure.core$_LT__EQ_ invokeStatic \"core.clj\" 1062\u001b[2m]\u001b[22m\n                   \u001b[2m[\u001b[22mclojure.core$_LT__EQ_ invoke \"core.clj\" 1055\u001b[2m]\u001b[22m\n                   \u001b[2m[\u001b[22mclojure.lang.AFn applyToHelper \"AFn.java\" 156\u001b[2m]\u001b[22m\n                   \u001b[2m[\u001b[22mclojure.lang.RestFn applyTo \"RestFn.java\" 132\u001b[2m]\u001b[22m\n                   \u001b[2m[\u001b[22mclojure.core$apply invokeStatic \"core.clj\" 665\u001b[2m]\u001b[22m\n                   \u001b[2m[\u001b[22mclojure.core$apply invoke \"core.clj\" 660\u001b[2m]\u001b[22m\n                   \u001b[2m[\u001b[22mhuri.core$fn__18975$fn__18980 invoke \"core.clj\" 163\u001b[2m]\u001b[22m\n                   \u001b[2m[\u001b[22mclojure.core$comp$fn__5792 invoke \"core.clj\" 2569\u001b[2m]\u001b[22m \u001b[4m/8\u001b[m\u001b[2m]\u001b[22m\u001b[2m}\u001b[22m\n   \u001b[4m/9\u001b[m\u001b[2m]\u001b[22m\n"
     ]
    }
   ],
   "source": [
    "(->> flights\n",
    "     (hc/where {(hc/every-of :arr_delay :dep_delay) [<= 120]}))"
   ]
  },
  {
   "cell_type": "markdown",
   "metadata": {},
   "source": [
    "Here we get an error because the function `<=` applied to a nil value throws a nullpointerexception.  \n",
    "\n",
    "### missing values\n",
    "nil behaves differently in clojure than NA in R in that nil is equal to nil, and performing numeric operations on nil throw an exception instead of returning nil. "
   ]
  },
  {
   "cell_type": "code",
   "execution_count": 66,
   "metadata": {},
   "outputs": [
    {
     "data": {
      "application/octet-stream": null,
      "text/iclojure-html": [
       "<ul><li class='misc'>true</ul>"
      ],
      "text/plain": [
       "true\n"
      ]
     },
     "execution_count": 66,
     "metadata": {},
     "output_type": "execute_result"
    }
   ],
   "source": [
    "(= nil nil)"
   ]
  },
  {
   "cell_type": "code",
   "execution_count": 67,
   "metadata": {},
   "outputs": [
    {
     "ename": "Oops",
     "evalue": "",
     "output_type": "error",
     "traceback": [
      "Exception while evaluating the expression.",
      "#unrepl/browsable\n  \u001b[2m[\u001b[22m\u001b[31m#error\u001b[m \u001b[2m{\u001b[22m\u001b[36m:via\u001b[m \u001b[2m[\u001b[22m\u001b[2m{\u001b[22m\u001b[36m:type\u001b[m java.lang.NullPointerException\u001b[2m}\u001b[22m\u001b[2m]\u001b[22m\u001b[2m,\u001b[22m \u001b[36m:trace\u001b[m \u001b[2m[\u001b[22m\u001b[2m]\u001b[22m\u001b[2m}\u001b[22m \u001b[4m/139\u001b[m\u001b[2m]\u001b[22m\n"
     ]
    }
   ],
   "source": [
    "(+ nil 1)"
   ]
  },
  {
   "cell_type": "code",
   "execution_count": 68,
   "metadata": {},
   "outputs": [
    {
     "ename": "Oops",
     "evalue": "",
     "output_type": "error",
     "traceback": [
      "Exception while evaluating the expression.",
      "#unrepl/browsable\n  \u001b[2m[\u001b[22m\u001b[31m#error\u001b[m \u001b[2m{\u001b[22m\u001b[36m:via\u001b[m \u001b[2m[\u001b[22m\u001b[2m{\u001b[22m\u001b[36m:type\u001b[m java.lang.NullPointerException\u001b[2m}\u001b[22m\u001b[2m]\u001b[22m\u001b[2m,\u001b[22m \u001b[36m:trace\u001b[m \u001b[2m[\u001b[22m\u001b[2m]\u001b[22m\u001b[2m}\u001b[22m \u001b[4m/140\u001b[m\u001b[2m]\u001b[22m\n"
     ]
    }
   ],
   "source": [
    "(/ nil 2)"
   ]
  },
  {
   "cell_type": "code",
   "execution_count": 15,
   "metadata": {},
   "outputs": [
    {
     "data": {
      "application/octet-stream": null,
      "text/iclojure-html": [
       "<ul><li class=seq>(<ul><li class=map>{<ul><li><ul><li class=keyword>:x<li class=space> <li class='misc'>1</ul><li class=trail>}</ul><li class=space> <li class=map>{<ul><li><ul><li class=keyword>:x<li class=space> <li class='misc'>nil</ul><li class=trail>}</ul><li class=space> <li class=map>{<ul><li><ul><li class=keyword>:x<li class=space> <li class='misc'>3</ul><li class=trail>}</ul><li class=trail>)</ul></ul>"
      ],
      "text/plain": [
       "\u001b[2m(\u001b[22m\u001b[2m{\u001b[22m\u001b[36m:x\u001b[m 1\u001b[2m}\u001b[22m \u001b[2m{\u001b[22m\u001b[36m:x\u001b[m nil\u001b[2m}\u001b[22m \u001b[2m{\u001b[22m\u001b[36m:x\u001b[m 3\u001b[2m}\u001b[22m\u001b[2m)\u001b[22m\n"
      ]
     },
     "execution_count": 15,
     "metadata": {},
     "output_type": "execute_result"
    }
   ],
   "source": [
    "(def df \n",
    "    (for [val [1 nil 3]] \n",
    "        {:x val}))\n",
    "df"
   ]
  },
  {
   "cell_type": "code",
   "execution_count": 16,
   "metadata": {},
   "outputs": [
    {
     "data": {
      "application/octet-stream": null,
      "text/iclojure-html": [
       "<ul><li class=seq>(<ul><li class=taglit>#<ul><li class=symbol>unrepl.core/lazy-error<li class=browsable><ul><li class=taglit>#<ul><li class=symbol>error<li class=map>{<ul><li><ul><li class=keyword>:via<li class=space> <li class=vector>[<ul><li class=map>{<ul><li><ul><li class=keyword>:type<li class=space> <li class=symbol>java.lang.NullPointerException</ul><li class=trail>}</ul><li class=trail>]</ul><li class=trail>,</ul><li class=space> <li><ul><li class=keyword>:trace<li class=space> <li class=vector>[<ul><li class=trail>]</ul></ul><li class=trail>}</ul></ul><li class=browser><li class=elision data-expr='(unrepl.repl$p8QhJwTpu2S19yqqZbyXWLOYcI8/fetch :G__41285)'>…</ul></ul><li class=trail>)</ul></ul>"
      ],
      "text/plain": [
       "\u001b[2m(\u001b[22m#unrepl.core/lazy-error\n",
       "   #unrepl/browsable\n",
       "     \u001b[2m[\u001b[22m\u001b[31m#error\u001b[m \u001b[2m{\u001b[22m\u001b[36m:via\u001b[m \u001b[2m[\u001b[22m\u001b[2m{\u001b[22m\u001b[36m:type\u001b[m java.lang.NullPointerException\u001b[2m}\u001b[22m\u001b[2m]\u001b[22m\u001b[2m,\u001b[22m \u001b[36m:trace\u001b[m \u001b[2m[\u001b[22m\u001b[2m]\u001b[22m\u001b[2m}\u001b[22m \u001b[4m/17\u001b[m\u001b[2m]\u001b[22m\u001b[2m)\u001b[22m\n"
      ]
     },
     "execution_count": 16,
     "metadata": {},
     "output_type": "execute_result"
    }
   ],
   "source": [
    "(->> df\n",
    "     (hc/where {:x [> 2]}))"
   ]
  },
  {
   "cell_type": "markdown",
   "metadata": {},
   "source": [
    "Because > applied to nil gives expection. We could workaround it as follows "
   ]
  },
  {
   "cell_type": "code",
   "execution_count": 17,
   "metadata": {},
   "outputs": [
    {
     "data": {
      "application/octet-stream": null,
      "text/iclojure-html": [
       "<ul><li class=seq>(<ul><li class=map>{<ul><li><ul><li class=keyword>:x<li class=space> <li class='misc'>3</ul><li class=trail>}</ul><li class=trail>)</ul></ul>"
      ],
      "text/plain": [
       "\u001b[2m(\u001b[22m\u001b[2m{\u001b[22m\u001b[36m:x\u001b[m 3\u001b[2m}\u001b[22m\u001b[2m)\u001b[22m\n"
      ]
     },
     "execution_count": 17,
     "metadata": {},
     "output_type": "execute_result"
    }
   ],
   "source": [
    "(->> df\n",
    "     (hc/where {:x (every-pred some? #(> % 2))}))"
   ]
  },
  {
   "cell_type": "markdown",
   "metadata": {},
   "source": [
    "It works because of conditional execution of `every-pred`. `fsome` is a higher-order function that transforms an function such that it returns nil (which is falsey) when any of the input arguments is `nil`. With this function you can also do the following"
   ]
  },
  {
   "cell_type": "code",
   "execution_count": 21,
   "metadata": {},
   "outputs": [
    {
     "data": {
      "application/octet-stream": null,
      "text/iclojure-html": [
       "<ul><li class=seq>(<ul><li class=map>{<ul><li><ul><li class=keyword>:x<li class=space> <li class='misc'>3</ul><li class=trail>}</ul><li class=trail>)</ul></ul>"
      ],
      "text/plain": [
       "\u001b[2m(\u001b[22m\u001b[2m{\u001b[22m\u001b[36m:x\u001b[m 3\u001b[2m}\u001b[22m\u001b[2m)\u001b[22m\n"
      ]
     },
     "execution_count": 21,
     "metadata": {},
     "output_type": "execute_result"
    }
   ],
   "source": [
    "(->> df\n",
    "     (hc/where {:x [(hc/fsome >) 2]}))"
   ]
  },
  {
   "cell_type": "markdown",
   "metadata": {},
   "source": [
    "If you also want to keep the nil values you can do the following "
   ]
  },
  {
   "cell_type": "code",
   "execution_count": 20,
   "metadata": {},
   "outputs": [
    {
     "data": {
      "application/octet-stream": null,
      "text/iclojure-html": [
       "<ul><li class=seq>(<ul><li class=map>{<ul><li><ul><li class=keyword>:x<li class=space> <li class='misc'>nil</ul><li class=trail>}</ul><li class=space> <li class=map>{<ul><li><ul><li class=keyword>:x<li class=space> <li class='misc'>3</ul><li class=trail>}</ul><li class=trail>)</ul></ul>"
      ],
      "text/plain": [
       "\u001b[2m(\u001b[22m\u001b[2m{\u001b[22m\u001b[36m:x\u001b[m nil\u001b[2m}\u001b[22m \u001b[2m{\u001b[22m\u001b[36m:x\u001b[m 3\u001b[2m}\u001b[22m\u001b[2m)\u001b[22m\n"
      ]
     },
     "execution_count": 20,
     "metadata": {},
     "output_type": "execute_result"
    }
   ],
   "source": [
    "(->> df\n",
    "     (hc/where {:x (some-fn nil? \n",
    "                            #(> % 2))}))"
   ]
  },
  {
   "cell_type": "markdown",
   "metadata": {},
   "source": [
    "So now we know how to handle the last query of the previous section "
   ]
  },
  {
   "cell_type": "code",
   "execution_count": 24,
   "metadata": {},
   "outputs": [
    {
     "name": "stdout",
     "output_type": "stream",
     "text": [
      "\n",
      "| :day | :hour | :sched_dep_time | :tailnum | :arr_time | :sched_arr_time | :month | :dep_time | :carrier | :arr_delay | :year | :dep_delay | :origin | :flight | :distance | :air_time | :dest |                    :time_hour | :minute |\n",
      "|------+-------+-----------------+----------+-----------+-----------------+--------+-----------+----------+------------+-------+------------+---------+---------+-----------+-----------+-------+-------------------------------+---------|\n",
      "|   30 |    23 |            2359 |  :N516JB |       325 |             350 |      9 |      2349 |      :B6 |        -25 |  2013 |        -10 |    :JFK |     745 |      1617 |       196 |  :PSE | Tue Oct 01 05:00:00 CEST 2013 |      59 |\n",
      "|   30 |    22 |            2255 |  :N565JB |      2359 |            2358 |      9 |      2307 |      :B6 |          1 |  2013 |         12 |    :JFK |     718 |       187 |        33 |  :BOS | Tue Oct 01 04:00:00 CEST 2013 |      55 |\n",
      "|   30 |    22 |            2246 |  :N346JB |      2345 |               1 |      9 |      2241 |      :B6 |        -16 |  2013 |         -5 |    :JFK |     486 |       264 |        47 |  :ROC | Tue Oct 01 04:00:00 CEST 2013 |      46 |\n",
      "|   30 |    22 |            2250 |  :N281JB |      2347 |               7 |      9 |      2240 |      :B6 |        -20 |  2013 |        -10 |    :JFK |    2002 |       301 |        52 |  :BUF | Tue Oct 01 04:00:00 CEST 2013 |      50 |\n",
      "|   30 |    22 |            2245 |  :N354JB |      2334 |            2351 |      9 |      2240 |      :B6 |        -17 |  2013 |         -5 |    :JFK |    1816 |       209 |        41 |  :SYR | Tue Oct 01 04:00:00 CEST 2013 |      45 |\n"
     ]
    },
    {
     "data": {
      "application/octet-stream": null,
      "text/iclojure-html": [
       "<ul><li class='misc'>nil</ul>"
      ],
      "text/plain": [
       "nil\n"
      ]
     },
     "execution_count": 24,
     "metadata": {},
     "output_type": "execute_result"
    }
   ],
   "source": [
    "(->> flights\n",
    "     (hc/where {(hc/every-of :arr_delay :dep_delay) [(hc/fsome <=) 120]})\n",
    "     print-table)"
   ]
  },
  {
   "cell_type": "markdown",
   "metadata": {},
   "source": [
    "## Arrange rows"
   ]
  },
  {
   "cell_type": "code",
   "execution_count": 106,
   "metadata": {},
   "outputs": [
    {
     "name": "stdout",
     "output_type": "stream",
     "text": [
      "\n",
      "| :day | :hour | :sched_dep_time | :tailnum | :arr_time | :sched_arr_time | :month | :dep_time | :carrier | :arr_delay | :year | :dep_delay | :origin | :flight | :distance | :air_time | :dest |                   :time_hour | :minute |\n",
      "|------+-------+-----------------+----------+-----------+-----------------+--------+-----------+----------+------------+-------+------------+---------+---------+-----------+-----------+-------+------------------------------+---------|\n",
      "|    1 |     5 |             515 |  :N14228 |       830 |             819 |      1 |       517 |      :UA |         11 |  2013 |          2 |    :EWR |    1545 |      1400 |       227 |  :IAH | Tue Jan 01 11:00:00 CET 2013 |      15 |\n",
      "|    1 |     5 |             529 |  :N24211 |       850 |             830 |      1 |       533 |      :UA |         20 |  2013 |          4 |    :LGA |    1714 |      1416 |       227 |  :IAH | Tue Jan 01 11:00:00 CET 2013 |      29 |\n",
      "|    1 |     5 |             540 |  :N619AA |       923 |             850 |      1 |       542 |      :AA |         33 |  2013 |          2 |    :JFK |    1141 |      1089 |       160 |  :MIA | Tue Jan 01 11:00:00 CET 2013 |      40 |\n",
      "|    1 |     5 |             545 |  :N804JB |      1004 |            1022 |      1 |       544 |      :B6 |        -18 |  2013 |         -1 |    :JFK |     725 |      1576 |       183 |  :BQN | Tue Jan 01 11:00:00 CET 2013 |      45 |\n"
     ]
    },
    {
     "data": {
      "application/octet-stream": null,
      "text/iclojure-html": [
       "<ul><li class='misc'>nil</ul>"
      ],
      "text/plain": [
       "nil\n"
      ]
     },
     "execution_count": 106,
     "metadata": {},
     "output_type": "execute_result"
    }
   ],
   "source": [
    "(->> flights\n",
    "     (sort-by (juxt :year :month :day))\n",
    "     (take 4)\n",
    "     pp/print-table)"
   ]
  },
  {
   "cell_type": "code",
   "execution_count": 159,
   "metadata": {},
   "outputs": [
    {
     "name": "stdout",
     "output_type": "stream",
     "text": [
      "\n",
      "| :day | :hour | :sched_dep_time | :tailnum | :arr_time | :sched_arr_time | :month | :dep_time | :carrier | :arr_delay | :year | :dep_delay | :origin | :flight | :distance | :air_time | :dest |                    :time_hour | :minute |\n",
      "|------+-------+-----------------+----------+-----------+-----------------+--------+-----------+----------+------------+-------+------------+---------+---------+-----------+-----------+-------+-------------------------------+---------|\n",
      "|    9 |     9 |             900 |  :N384HA |      1242 |            1530 |      1 |       641 |      :HA |       1272 |  2013 |       1301 |    :JFK |      51 |      4983 |       640 |  :HNL |  Wed Jan 09 15:00:00 CET 2013 |       0 |\n",
      "|   15 |    19 |            1935 |  :N504MQ |      1607 |            2120 |      6 |      1432 |      :MQ |       1127 |  2013 |       1137 |    :JFK |    3535 |       483 |        74 |  :CMH | Sun Jun 16 01:00:00 CEST 2013 |      35 |\n",
      "|   10 |    16 |            1635 |  :N517MQ |      1239 |            1810 |      1 |      1121 |      :MQ |       1109 |  2013 |       1126 |    :EWR |    3695 |       719 |       111 |  :ORD |  Thu Jan 10 22:00:00 CET 2013 |      35 |\n",
      "|   20 |    18 |            1845 |  :N338AA |      1457 |            2210 |      9 |      1139 |      :AA |       1007 |  2013 |       1014 |    :JFK |     177 |      2586 |       354 |  :SFO | Sat Sep 21 00:00:00 CEST 2013 |      45 |\n"
     ]
    },
    {
     "data": {
      "application/octet-stream": null,
      "text/iclojure-html": [
       "<ul><li class='misc'>nil</ul>"
      ],
      "text/plain": [
       "nil\n"
      ]
     },
     "execution_count": 159,
     "metadata": {},
     "output_type": "execute_result"
    }
   ],
   "source": [
    "(->> flights\n",
    "     (sort-by :dep_delay )\n",
    "     reverse\n",
    "     (take 4)\n",
    "     pp/print-table)"
   ]
  },
  {
   "cell_type": "markdown",
   "metadata": {},
   "source": [
    "I don't like the use of reverse, because it doesn't let me choose whether I want to sort ascending or descending per keyword.  Futhermore, I like to have the nil results last whether I sort ascending or descending. Therefore I've defined the following function that returns a comparator. "
   ]
  },
  {
   "cell_type": "code",
   "execution_count": 57,
   "metadata": {},
   "outputs": [
    {
     "data": {
      "application/octet-stream": null,
      "text/iclojure-html": [
       "<ul><li class=seq>(<ul><li class=map>{<ul><li><ul><li class=keyword>:a<li class=space> <li class='misc'>2<li class=trail>,</ul><li class=space> <li><ul><li class=keyword>:b<li class=space> <li class='misc'>4</ul><li class=trail>}</ul><li class=space> <li class=map>{<ul><li><ul><li class=keyword>:a<li class=space> <li class='misc'>3<li class=trail>,</ul><li class=space> <li><ul><li class=keyword>:b<li class=space> <li class='misc'>3</ul><li class=trail>}</ul><li class=space> <li class=map>{<ul><li><ul><li class=keyword>:a<li class=space> <li class='misc'>nil<li class=trail>,</ul><li class=space> <li><ul><li class=keyword>:b<li class=space> <li class='misc'>5</ul><li class=trail>}</ul><li class=space> <li class=map>{<ul><li><ul><li class=keyword>:a<li class=space> <li class='misc'>nil<li class=trail>,</ul><li class=space> <li><ul><li class=keyword>:b<li class=space> <li class='misc'>4</ul><li class=trail>}</ul><li class=space> <li class=map>{<ul><li><ul><li class=keyword>:a<li class=space> <li class='misc'>nil<li class=trail>,</ul><li class=space> <li><ul><li class=keyword>:b<li class=space> <li class='misc'>nil</ul><li class=trail>}</ul><li class=trail>)</ul></ul>"
      ],
      "text/plain": [
       "\u001b[2m(\u001b[22m\u001b[2m{\u001b[22m\u001b[36m:a\u001b[m 2\u001b[2m,\u001b[22m \u001b[36m:b\u001b[m 4\u001b[2m}\u001b[22m \u001b[2m{\u001b[22m\u001b[36m:a\u001b[m 3\u001b[2m,\u001b[22m \u001b[36m:b\u001b[m 3\u001b[2m}\u001b[22m \u001b[2m{\u001b[22m\u001b[36m:a\u001b[m nil\u001b[2m,\u001b[22m \u001b[36m:b\u001b[m 5\u001b[2m}\u001b[22m \u001b[2m{\u001b[22m\u001b[36m:a\u001b[m nil\u001b[2m,\u001b[22m \u001b[36m:b\u001b[m 4\u001b[2m}\u001b[22m \u001b[2m{\u001b[22m\u001b[36m:a\u001b[m nil\u001b[2m,\u001b[22m \u001b[36m:b\u001b[m nil\u001b[2m}\u001b[22m\u001b[2m)\u001b[22m\n"
      ]
     },
     "execution_count": 57,
     "metadata": {},
     "output_type": "execute_result"
    }
   ],
   "source": [
    "(defn compare-by [& key-cmp-pairs]\n",
    "    \"Adapted this function from https://groups.google.com/d/msg/clojure/VVVa3TS15pU/pT3iG_W2VroJ\n",
    "    Changed how nil is handled. Now it's always sorted last.\"\n",
    "    (fn [x y] \n",
    "      (loop [[map-k cmp-k & more] key-cmp-pairs] \n",
    "         (let [x' (map-k x)\n",
    "               y' (map-k y)\n",
    "               compare-fn (cmp-k {:asc compare :desc #(compare %2 %1)})\n",
    "               result (compare-fn x' y')] \n",
    "             (cond \n",
    "                 (and (= nil x' y') more)  (recur more)\n",
    "                 (= nil x' y')             0\n",
    "                 (nil? x')                 1\n",
    "                 (nil? y')                 -1\n",
    "                 (and (zero? result) more) (recur more)\n",
    "                 :else                     result)))))\n",
    "             \n",
    ";; (sort (compare-by :a :asc :b :desc) [{:a 3 :b 3} {:a 2 :b 4}{:a nil :b 4} {:a nil :b nil} {:a nil :b 5}]) ; => ({:a 2, :b 4} {:a 3, :b 3} {:a nil, :b 5} {:a nil, :b 4} {:a nil, :b nil}) "
   ]
  },
  {
   "cell_type": "code",
   "execution_count": 190,
   "metadata": {},
   "outputs": [
    {
     "name": "stdout",
     "output_type": "stream",
     "text": [
      "\n",
      "| :day | :hour | :sched_dep_time | :tailnum | :arr_time | :sched_arr_time | :month | :dep_time | :carrier | :arr_delay | :year | :dep_delay | :origin | :flight | :distance | :air_time | :dest |                    :time_hour | :minute |\n",
      "|------+-------+-----------------+----------+-----------+-----------------+--------+-----------+----------+------------+-------+------------+---------+---------+-----------+-----------+-------+-------------------------------+---------|\n",
      "|    9 |     9 |             900 |  :N384HA |      1242 |            1530 |      1 |       641 |      :HA |       1272 |  2013 |       1301 |    :JFK |      51 |      4983 |       640 |  :HNL |  Wed Jan 09 15:00:00 CET 2013 |       0 |\n",
      "|   15 |    19 |            1935 |  :N504MQ |      1607 |            2120 |      6 |      1432 |      :MQ |       1127 |  2013 |       1137 |    :JFK |    3535 |       483 |        74 |  :CMH | Sun Jun 16 01:00:00 CEST 2013 |      35 |\n",
      "|   10 |    16 |            1635 |  :N517MQ |      1239 |            1810 |      1 |      1121 |      :MQ |       1109 |  2013 |       1126 |    :EWR |    3695 |       719 |       111 |  :ORD |  Thu Jan 10 22:00:00 CET 2013 |      35 |\n",
      "|   20 |    18 |            1845 |  :N338AA |      1457 |            2210 |      9 |      1139 |      :AA |       1007 |  2013 |       1014 |    :JFK |     177 |      2586 |       354 |  :SFO | Sat Sep 21 00:00:00 CEST 2013 |      45 |\n",
      "|   22 |    16 |            1600 |  :N665MQ |      1044 |            1815 |      7 |       845 |      :MQ |        989 |  2013 |       1005 |    :JFK |    3075 |       589 |        96 |  :CVG | Mon Jul 22 22:00:00 CEST 2013 |       0 |\n"
     ]
    },
    {
     "data": {
      "application/octet-stream": null,
      "text/iclojure-html": [
       "<ul><li class='misc'>nil</ul>"
      ],
      "text/plain": [
       "nil\n"
      ]
     },
     "execution_count": 190,
     "metadata": {},
     "output_type": "execute_result"
    }
   ],
   "source": [
    "(->> flights     \n",
    "     (sort (compare-by :dep_delay :desc :arr_time :asc))\n",
    "     print-table)"
   ]
  },
  {
   "cell_type": "code",
   "execution_count": 42,
   "metadata": {},
   "outputs": [
    {
     "name": "stdout",
     "output_type": "stream",
     "text": [
      "({:x 2} {:x 5} {:x nil})\n",
      "\n",
      "| :x |\n",
      "|----|\n",
      "|  5 |\n",
      "|  2 |\n",
      "|    |\n"
     ]
    },
    {
     "data": {
      "application/octet-stream": null,
      "text/iclojure-html": [
       "<ul><li class='misc'>nil</ul>"
      ],
      "text/plain": [
       "nil\n"
      ]
     },
     "execution_count": 42,
     "metadata": {},
     "output_type": "execute_result"
    }
   ],
   "source": [
    "(def df (for [x [5 2 nil]] {:x x}))\n",
    "(->> df\n",
    "     (sort (compare-by :x :asc))\n",
    "     println\n",
    "     )\n",
    "\n",
    "(->> df\n",
    "     (sort (compare-by :x :desc))\n",
    "     pp/print-table\n",
    "     )"
   ]
  },
  {
   "cell_type": "markdown",
   "metadata": {},
   "source": [
    "## Select columns"
   ]
  },
  {
   "cell_type": "code",
   "execution_count": 25,
   "metadata": {},
   "outputs": [
    {
     "name": "stdout",
     "output_type": "stream",
     "text": [
      "\n",
      "| :year | :month | :day |\n",
      "|-------+--------+------|\n",
      "|  2013 |      1 |    1 |\n",
      "|  2013 |      1 |    1 |\n",
      "|  2013 |      1 |    1 |\n",
      "|  2013 |      1 |    1 |\n",
      "|  2013 |      1 |    1 |\n"
     ]
    },
    {
     "data": {
      "application/octet-stream": null,
      "text/iclojure-html": [
       "<ul><li class='misc'>nil</ul>"
      ],
      "text/plain": [
       "nil\n"
      ]
     },
     "execution_count": 25,
     "metadata": {},
     "output_type": "execute_result"
    }
   ],
   "source": [
    "(->> flights \n",
    "     (hc/select-cols [:year :month :day])\n",
    "     print-table)"
   ]
  },
  {
   "cell_type": "markdown",
   "metadata": {},
   "source": [
    "I use the following convenience function that filters the column name keywords"
   ]
  },
  {
   "cell_type": "code",
   "execution_count": 11,
   "metadata": {},
   "outputs": [
    {
     "data": {
      "text/iclojure-html": [
       "<ul><li class=browsable><ul><li class=var>#'user/filter-cols<li class=browser><li class=elision data-expr='(unrepl.repl$p8QhJwTpu2S19yqqZbyXWLOYcI8/fetch :G__41200)'>…</ul></ul>"
      ],
      "text/plain": [
       "#unrepl/browsable \u001b[2m[\u001b[22m#'user/filter-cols \u001b[4m/11\u001b[m\u001b[2m]\u001b[22m\n"
      ]
     },
     "execution_count": 11,
     "metadata": {},
     "output_type": "execute_result"
    }
   ],
   "source": [
    "(defn filter-cols [pred df]\n",
    "    \"filters collection of column name keywords with pred and selects all remaining columns\"\n",
    "    (hc/select-cols (filter pred (hc/cols df)) df))"
   ]
  },
  {
   "cell_type": "code",
   "execution_count": 113,
   "metadata": {},
   "outputs": [
    {
     "name": "stdout",
     "output_type": "stream",
     "text": [
      "\n",
      "| :day | :hour | :month |\n",
      "|------+-------+--------|\n",
      "|    1 |     5 |      1 |\n",
      "|    1 |     5 |      1 |\n",
      "|    1 |     5 |      1 |\n",
      "|    1 |     5 |      1 |\n",
      "|    1 |     6 |      1 |\n"
     ]
    },
    {
     "data": {
      "application/octet-stream": null,
      "text/iclojure-html": [
       "<ul><li class='misc'>nil</ul>"
      ],
      "text/plain": [
       "nil\n"
      ]
     },
     "execution_count": 113,
     "metadata": {},
     "output_type": "execute_result"
    }
   ],
   "source": [
    "(->> flights\n",
    "     (filter-cols (every-pred #(> 6 (count (name %)))\n",
    "                              #(not (contains? #{:year :dest} %))))\n",
    "     print-table)"
   ]
  },
  {
   "cell_type": "markdown",
   "metadata": {},
   "source": [
    "With the function `filter-cols` it's a small step to define a function that selects columns using regular expressions "
   ]
  },
  {
   "cell_type": "code",
   "execution_count": 12,
   "metadata": {},
   "outputs": [
    {
     "name": "stdout",
     "output_type": "stream",
     "text": [
      "\n",
      "| :dep_time | :dep_delay |\n",
      "|-----------+------------|\n",
      "|       517 |          2 |\n",
      "|       533 |          4 |\n",
      "|       542 |          2 |\n",
      "|       544 |         -1 |\n",
      "|       554 |         -6 |\n"
     ]
    },
    {
     "data": {
      "application/octet-stream": null,
      "text/iclojure-html": [
       "<ul><li class='misc'>nil</ul>"
      ],
      "text/plain": [
       "nil\n"
      ]
     },
     "execution_count": 12,
     "metadata": {},
     "output_type": "execute_result"
    }
   ],
   "source": [
    "(defn select-cols-regex\n",
    "    [pattern df] \n",
    "    (filter-cols #(re-matches pattern (name %)) df)) \n",
    "\n",
    "(->> flights\n",
    "     (select-cols-regex #\"dep.*\")\n",
    "     print-table)                  \n",
    "                "
   ]
  },
  {
   "cell_type": "code",
   "execution_count": 160,
   "metadata": {},
   "outputs": [
    {
     "name": "stdout",
     "output_type": "stream",
     "text": [
      "\n",
      "| :day | :month | :year |\n",
      "|------+--------+-------|\n",
      "|    1 |      1 |  2013 |\n",
      "|    1 |      1 |  2013 |\n",
      "|    1 |      1 |  2013 |\n",
      "|    1 |      1 |  2013 |\n",
      "|    1 |      1 |  2013 |\n"
     ]
    },
    {
     "data": {
      "application/octet-stream": null,
      "text/iclojure-html": [
       "<ul><li class='misc'>nil</ul>"
      ],
      "text/plain": [
       "nil\n"
      ]
     },
     "execution_count": 160,
     "metadata": {},
     "output_type": "execute_result"
    }
   ],
   "source": [
    "(->> flights\n",
    "     (filter-cols (partial contains? #{:month :day :year}))\n",
    "     print-table)"
   ]
  },
  {
   "cell_type": "code",
   "execution_count": 159,
   "metadata": {},
   "outputs": [
    {
     "name": "stdout",
     "output_type": "stream",
     "text": [
      "nil\n",
      "true\n"
     ]
    },
    {
     "data": {
      "application/octet-stream": null,
      "text/iclojure-html": [
       "<ul><li class='misc'>nil</ul>"
      ],
      "text/plain": [
       "nil\n"
      ]
     },
     "execution_count": 159,
     "metadata": {},
     "output_type": "execute_result"
    }
   ],
   "source": [
    "(println           (#{nil} nil)) ; => nil, which is falsey\n",
    "(println (contains? #{nil} nil)) ; => true"
   ]
  },
  {
   "cell_type": "markdown",
   "metadata": {},
   "source": [
    "Sets are functions in clojure. They will return the argument if the argument is a member of the set or they will return nil. The only 2 falsey values are nil and false. Since the column names have to be keywords they cannot be equal to nil and false. Therefore you can use this shortened method: "
   ]
  },
  {
   "cell_type": "code",
   "execution_count": 189,
   "metadata": {},
   "outputs": [
    {
     "name": "stdout",
     "output_type": "stream",
     "text": [
      "\n",
      "| :day | :month | :year |\n",
      "|------+--------+-------|\n",
      "|    1 |      1 |  2013 |\n",
      "|    1 |      1 |  2013 |\n",
      "|    1 |      1 |  2013 |\n",
      "|    1 |      1 |  2013 |\n",
      "|    1 |      1 |  2013 |\n",
      "\n",
      "| :hour | :sched_dep_time | :tailnum | :arr_time | :sched_arr_time | :dep_time | :carrier | :arr_delay | :dep_delay | :origin | :flight | :distance | :air_time | :dest |                   :time_hour | :minute |\n",
      "|-------+-----------------+----------+-----------+-----------------+-----------+----------+------------+------------+---------+---------+-----------+-----------+-------+------------------------------+---------|\n",
      "|     5 |             515 |  :N14228 |       830 |             819 |       517 |      :UA |         11 |          2 |    :EWR |    1545 |      1400 |       227 |  :IAH | Tue Jan 01 11:00:00 CET 2013 |      15 |\n",
      "|     5 |             529 |  :N24211 |       850 |             830 |       533 |      :UA |         20 |          4 |    :LGA |    1714 |      1416 |       227 |  :IAH | Tue Jan 01 11:00:00 CET 2013 |      29 |\n",
      "|     5 |             540 |  :N619AA |       923 |             850 |       542 |      :AA |         33 |          2 |    :JFK |    1141 |      1089 |       160 |  :MIA | Tue Jan 01 11:00:00 CET 2013 |      40 |\n",
      "|     5 |             545 |  :N804JB |      1004 |            1022 |       544 |      :B6 |        -18 |         -1 |    :JFK |     725 |      1576 |       183 |  :BQN | Tue Jan 01 11:00:00 CET 2013 |      45 |\n",
      "|     6 |             600 |  :N668DN |       812 |             837 |       554 |      :DL |        -25 |         -6 |    :LGA |     461 |       762 |       116 |  :ATL | Tue Jan 01 12:00:00 CET 2013 |       0 |\n"
     ]
    },
    {
     "data": {
      "application/octet-stream": null,
      "text/iclojure-html": [
       "<ul><li class='misc'>nil</ul>"
      ],
      "text/plain": [
       "nil\n"
      ]
     },
     "execution_count": 189,
     "metadata": {},
     "output_type": "execute_result"
    }
   ],
   "source": [
    "(->> flights\n",
    "     (filter-cols #{:month :day :year})\n",
    "     print-table)\n",
    "\n",
    ";; and this \n",
    "(->> flights\n",
    "     (filter-cols (complement #{:month :day :year}))\n",
    "     print-table)"
   ]
  },
  {
   "cell_type": "markdown",
   "metadata": {},
   "source": [
    "### rename column"
   ]
  },
  {
   "cell_type": "markdown",
   "metadata": {},
   "source": [
    "Clojure has very nice standard library for working with sets and maps. For example, when I want to rename columns I can do the following "
   ]
  },
  {
   "cell_type": "code",
   "execution_count": 51,
   "metadata": {},
   "outputs": [
    {
     "name": "stdout",
     "output_type": "stream",
     "text": [
      "\n",
      "| :day | :hour | :sched_dep_time | :arr_time | :sched_arr_time | :month | :dep_time | :carrier | :arr_delay | :year | :dep_delay | :origin | :flight | :distance | :air_time | :tail_num | :dest |                    :time_hour | :minute |\n",
      "|------+-------+-----------------+-----------+-----------------+--------+-----------+----------+------------+-------+------------+---------+---------+-----------+-----------+-----------+-------+-------------------------------+---------|\n",
      "|   21 |    15 |            1525 |      1828 |            1734 |     12 |      1618 |      :EV |         54 |  2013 |         53 |    :EWR |    4667 |      1008 |       164 |   :N13161 |  :MSP |  Sat Dec 21 21:00:00 CET 2013 |      25 |\n",
      "|   22 |    12 |            1200 |      1654 |            1509 |      4 |      1223 |      :DL |        105 |  2013 |         23 |    :LGA |    1174 |      1035 |       178 |   :N989DL |  :PBI | Mon Apr 22 18:00:00 CEST 2013 |       0 |\n",
      "|    7 |    10 |            1050 |      1314 |            1340 |      2 |      1046 |      :UA |        -26 |  2013 |         -4 |    :EWR |    1284 |      2227 |       311 |   :N78506 |  :LAS |  Thu Feb 07 16:00:00 CET 2013 |      50 |\n",
      "|    1 |    10 |            1021 |      1240 |            1247 |      5 |      1018 |      :DL |         -7 |  2013 |         -3 |    :JFK |    1529 |      2248 |       291 |   :N393DA |  :LAS | Wed May 01 16:00:00 CEST 2013 |      21 |\n",
      "|    7 |    10 |            1055 |      1409 |            1353 |      9 |      1115 |      :B6 |         16 |  2013 |         20 |    :JFK |       1 |      1069 |       158 |   :N646JB |  :FLL | Sat Sep 07 16:00:00 CEST 2013 |      55 |\n"
     ]
    },
    {
     "data": {
      "application/octet-stream": null,
      "text/iclojure-html": [
       "<ul><li class=vector>[<ul><li class='misc'>336776<li class=space> <li class='misc'>19<li class=trail>]</ul></ul>"
      ],
      "text/plain": [
       "\u001b[2m[\u001b[22m336776 19\u001b[2m]\u001b[22m\n"
      ]
     },
     "execution_count": 51,
     "metadata": {},
     "output_type": "execute_result"
    }
   ],
   "source": [
    "(-> flights\n",
    "    (clojure.set/rename {:tailnum :tail_num})\n",
    "    (->> (run!-pipe print-table))\n",
    "    hc/size)"
   ]
  },
  {
   "cell_type": "code",
   "execution_count": 79,
   "metadata": {},
   "outputs": [
    {
     "name": "stdout",
     "output_type": "stream",
     "text": [
      "\n",
      "| :day | :hour | :sched_dep_time | :arr_time | :sched_arr_time | :month | :dep_time | :carrier | :arr_delay | :year | :dep_delay | :origin | :flight | :distance | :air_time | :tail_num | :dest |                   :time_hour | :minute |\n",
      "|------+-------+-----------------+-----------+-----------------+--------+-----------+----------+------------+-------+------------+---------+---------+-----------+-----------+-----------+-------+------------------------------+---------|\n",
      "|    1 |     5 |             515 |       830 |             819 |      1 |       517 |      :UA |         11 |  2013 |          2 |    :EWR |    1545 |      1400 |       227 |   :N14228 |  :IAH | Tue Jan 01 11:00:00 CET 2013 |      15 |\n",
      "|    1 |     5 |             529 |       850 |             830 |      1 |       533 |      :UA |         20 |  2013 |          4 |    :LGA |    1714 |      1416 |       227 |   :N24211 |  :IAH | Tue Jan 01 11:00:00 CET 2013 |      29 |\n",
      "|    1 |     5 |             540 |       923 |             850 |      1 |       542 |      :AA |         33 |  2013 |          2 |    :JFK |    1141 |      1089 |       160 |   :N619AA |  :MIA | Tue Jan 01 11:00:00 CET 2013 |      40 |\n",
      "|    1 |     5 |             545 |      1004 |            1022 |      1 |       544 |      :B6 |        -18 |  2013 |         -1 |    :JFK |     725 |      1576 |       183 |   :N804JB |  :BQN | Tue Jan 01 11:00:00 CET 2013 |      45 |\n",
      "|    1 |     6 |             600 |       812 |             837 |      1 |       554 |      :DL |        -25 |  2013 |         -6 |    :LGA |     461 |       762 |       116 |   :N668DN |  :ATL | Tue Jan 01 12:00:00 CET 2013 |       0 |\n"
     ]
    },
    {
     "data": {
      "application/octet-stream": null,
      "text/iclojure-html": [
       "<ul><li class=vector>[<ul><li class='misc'>336776<li class=space> <li class='misc'>19<li class=trail>]</ul></ul>"
      ],
      "text/plain": [
       "\u001b[2m[\u001b[22m336776 19\u001b[2m]\u001b[22m\n"
      ]
     },
     "execution_count": 79,
     "metadata": {},
     "output_type": "execute_result"
    }
   ],
   "source": [
    "(->> flights\n",
    "    (hc/derive-cols {:tail_num  :tailnum})\n",
    "    (filter-cols (partial not= :tailnum))\n",
    "    (run!-pipe print-table)\n",
    "    hc/size)\n"
   ]
  },
  {
   "cell_type": "code",
   "execution_count": 63,
   "metadata": {},
   "outputs": [
    {
     "name": "stdout",
     "output_type": "stream",
     "text": [
      "\n",
      "| :day | :hour | :sched_dep_time | :arr_time | :sched_arr_time | :month | :dep_time | :carrier | :arr_delay | :year | :dep_delay | :origin | :flight | :distance | :air_time | :tail_num | :dest |                   :time_hour | :minute |\n",
      "|------+-------+-----------------+-----------+-----------------+--------+-----------+----------+------------+-------+------------+---------+---------+-----------+-----------+-----------+-------+------------------------------+---------|\n",
      "|    1 |     5 |             515 |       830 |             819 |      1 |       517 |      :UA |         11 |  2013 |          2 |    :EWR |    1545 |      1400 |       227 |   :N14228 |  :IAH | Tue Jan 01 11:00:00 CET 2013 |      15 |\n",
      "|    1 |     5 |             529 |       850 |             830 |      1 |       533 |      :UA |         20 |  2013 |          4 |    :LGA |    1714 |      1416 |       227 |   :N24211 |  :IAH | Tue Jan 01 11:00:00 CET 2013 |      29 |\n",
      "|    1 |     5 |             540 |       923 |             850 |      1 |       542 |      :AA |         33 |  2013 |          2 |    :JFK |    1141 |      1089 |       160 |   :N619AA |  :MIA | Tue Jan 01 11:00:00 CET 2013 |      40 |\n",
      "|    1 |     5 |             545 |      1004 |            1022 |      1 |       544 |      :B6 |        -18 |  2013 |         -1 |    :JFK |     725 |      1576 |       183 |   :N804JB |  :BQN | Tue Jan 01 11:00:00 CET 2013 |      45 |\n",
      "|    1 |     6 |             600 |       812 |             837 |      1 |       554 |      :DL |        -25 |  2013 |         -6 |    :LGA |     461 |       762 |       116 |   :N668DN |  :ATL | Tue Jan 01 12:00:00 CET 2013 |       0 |\n"
     ]
    },
    {
     "data": {
      "application/octet-stream": null,
      "text/iclojure-html": [
       "<ul><li class=vector>[<ul><li class='misc'>336776<li class=space> <li class='misc'>19<li class=trail>]</ul></ul>"
      ],
      "text/plain": [
       "\u001b[2m[\u001b[22m336776 19\u001b[2m]\u001b[22m\n"
      ]
     },
     "execution_count": 63,
     "metadata": {},
     "output_type": "execute_result"
    }
   ],
   "source": [
    "(->> flights\n",
    "    (hc/derive-cols {:tail_num [identity :tailnum]})\n",
    "    (filter-cols (complement #{:tailnum}))\n",
    "    (run!-pipe print-table)\n",
    "    hc/size)"
   ]
  },
  {
   "cell_type": "markdown",
   "metadata": {},
   "source": [
    "## Add new variables "
   ]
  },
  {
   "cell_type": "markdown",
   "metadata": {},
   "source": [
    "flights_sml <- select(flights, \n",
    "  year:day, \n",
    "  ends_with(\"delay\"), \n",
    "  distance, \n",
    "  air_time\n",
    ")"
   ]
  },
  {
   "cell_type": "code",
   "execution_count": 89,
   "metadata": {},
   "outputs": [
    {
     "name": "stdout",
     "output_type": "stream",
     "text": [
      "\n",
      "| :day | :month | :arr_delay | :year | :dep_delay | :distance | :air_time |\n",
      "|------+--------+------------+-------+------------+-----------+-----------|\n",
      "|    1 |      1 |         11 |  2013 |          2 |      1400 |       227 |\n",
      "|    1 |      1 |         20 |  2013 |          4 |      1416 |       227 |\n",
      "|    1 |      1 |         33 |  2013 |          2 |      1089 |       160 |\n",
      "|    1 |      1 |        -18 |  2013 |         -1 |      1576 |       183 |\n",
      "|    1 |      1 |        -25 |  2013 |         -6 |       762 |       116 |\n"
     ]
    },
    {
     "data": {
      "application/octet-stream": null,
      "text/iclojure-html": [
       "<ul><li class='misc'>nil</ul>"
      ],
      "text/plain": [
       "nil\n"
      ]
     },
     "execution_count": 89,
     "metadata": {},
     "output_type": "execute_result"
    }
   ],
   "source": [
    "(def flights-small \n",
    "    (filter-cols (some-fn #{:year :month :day :distance :air_time}\n",
    "                          #(re-matches #\".*delay\" (name %))) \n",
    "                 flights))\n",
    "\n",
    "(print-table flights-small)"
   ]
  },
  {
   "cell_type": "code",
   "execution_count": 90,
   "metadata": {},
   "outputs": [
    {
     "name": "stdout",
     "output_type": "stream",
     "text": [
      "\n",
      "| :day |    :speed | :month | :arr_delay | :year | :gain | :dep_delay | :distance | :air_time |\n",
      "|------+-----------+--------+------------+-------+-------+------------+-----------+-----------|\n",
      "|    1 | 84000/227 |      1 |         11 |  2013 |    -9 |          2 |      1400 |       227 |\n",
      "|    1 | 84960/227 |      1 |         20 |  2013 |   -16 |          4 |      1416 |       227 |\n",
      "|    1 |    3267/8 |      1 |         33 |  2013 |   -31 |          2 |      1089 |       160 |\n",
      "|    1 |  31520/61 |      1 |        -18 |  2013 |    17 |         -1 |      1576 |       183 |\n",
      "|    1 |  11430/29 |      1 |        -25 |  2013 |    19 |         -6 |       762 |       116 |\n"
     ]
    },
    {
     "data": {
      "application/octet-stream": null,
      "text/iclojure-html": [
       "<ul><li class='misc'>nil</ul>"
      ],
      "text/plain": [
       "nil\n"
      ]
     },
     "execution_count": 90,
     "metadata": {},
     "output_type": "execute_result"
    }
   ],
   "source": [
    "(->> flights-small \n",
    "     (hc/derive-cols {:gain [- :dep_delay :arr_delay]\n",
    "                      :speed [#(* 60 (/ %1 %2)) :distance :air_time]})\n",
    "     print-table)"
   ]
  },
  {
   "cell_type": "code",
   "execution_count": 102,
   "metadata": {},
   "outputs": [
    {
     "ename": "Oops",
     "evalue": "",
     "output_type": "error",
     "traceback": [
      "Exception while evaluating the expression.",
      "#unrepl/browsable\n  \u001b[2m[\u001b[22m\u001b[31m#error\u001b[m\n     \u001b[2m{\u001b[22m\u001b[36m:via\u001b[m \u001b[2m[\u001b[22m\u001b[2m{\u001b[22m\u001b[36m:type\u001b[m java.lang.RuntimeException\u001b[2m,\u001b[22m\n             \u001b[36m:message\u001b[m\n               \"Key :hours not found in [:day :month :arr_delay :year :dep_delay :distance :air_\"\u001b[4m/185\u001b[m\u001b[2m,\u001b[22m\n             \u001b[36m:at\u001b[m \u001b[2m[\u001b[22mplumbing.core$safe_get invokeStatic \"core.clj\" 136\u001b[2m]\u001b[22m\u001b[2m}\u001b[22m\u001b[2m]\u001b[22m\u001b[2m,\u001b[22m\n      \u001b[36m:trace\u001b[m \u001b[2m[\u001b[22m\u001b[2m[\u001b[22mplumbing.core$safe_get invokeStatic \"core.clj\" 136\u001b[2m]\u001b[22m\n              \u001b[2m[\u001b[22mplumbing.core$safe_get invoke \"core.clj\" 131\u001b[2m]\u001b[22m\n              \u001b[2m[\u001b[22mhuri.core$fn__18920$fn__18925 invoke \"core.clj\" 96\u001b[2m]\u001b[22m\n              \u001b[2m[\u001b[22mclojure.core$juxt$fn__5805 invoke \"core.clj\" 2587\u001b[2m]\u001b[22m\n              \u001b[2m[\u001b[22mclojure.core$comp$fn__5792 invoke \"core.clj\" 2569\u001b[2m]\u001b[22m\n              \u001b[2m[\u001b[22mhuri.core$derive_cols$fn__18947$fn__18951 invoke \"core.clj\" 128\u001b[2m]\u001b[22m\n              \u001b[2m[\u001b[22mclojure.core$comp$fn__5792 invoke \"core.clj\" 2569\u001b[2m]\u001b[22m\n              \u001b[2m[\u001b[22mclojure.core$map$fn__5851 invoke \"core.clj\" 2753\u001b[2m]\u001b[22m\n              \u001b[2m[\u001b[22mclojure.lang.LazySeq sval \"LazySeq.java\" 42\u001b[2m]\u001b[22m\n              \u001b[2m[\u001b[22mclojure.lang.LazySeq seq \"LazySeq.java\" 51\u001b[2m]\u001b[22m \u001b[4m/186\u001b[m\u001b[2m]\u001b[22m\u001b[2m,\u001b[22m\n      \u001b[36m:cause\u001b[m\n        \"Key :hours not found in [:day :month :arr_delay :year :dep_delay :distance :air_\"\u001b[4m/187\u001b[m\u001b[2m}\u001b[22m\n   \u001b[4m/188\u001b[m\u001b[2m]\u001b[22m\n"
     ]
    }
   ],
   "source": [
    "(->> flights-small \n",
    "     (hc/derive-cols {:gain [- :dep_delay :arr_delay]\n",
    "                      :hours [#(/ % 60)  :air_time ]\n",
    "                      :tmp [#(+ 1 %) :hours ]\n",
    "                      })\n",
    "     print-table)"
   ]
  },
  {
   "cell_type": "code",
   "execution_count": 91,
   "metadata": {},
   "outputs": [
    {
     "name": "stdout",
     "output_type": "stream",
     "text": [
      "\n",
      "| :day | :month | :arr_delay | :year | :gain | :dep_delay | :hours | :distance | :air_time |\n",
      "|------+--------+------------+-------+-------+------------+--------+-----------+-----------|\n",
      "|    1 |      1 |         11 |  2013 |    -9 |          2 | 227/60 |      1400 |       227 |\n",
      "|    1 |      1 |         20 |  2013 |   -16 |          4 | 227/60 |      1416 |       227 |\n",
      "|    1 |      1 |         33 |  2013 |   -31 |          2 |    8/3 |      1089 |       160 |\n",
      "|    1 |      1 |        -18 |  2013 |    17 |         -1 |  61/20 |      1576 |       183 |\n",
      "|    1 |      1 |        -25 |  2013 |    19 |         -6 |  29/15 |       762 |       116 |\n"
     ]
    },
    {
     "data": {
      "application/octet-stream": null,
      "text/iclojure-html": [
       "<ul><li class='misc'>nil</ul>"
      ],
      "text/plain": [
       "nil\n"
      ]
     },
     "execution_count": 91,
     "metadata": {},
     "output_type": "execute_result"
    }
   ],
   "source": [
    "(->> flights-small \n",
    "     (hc/derive-cols {:gain [- :dep_delay :arr_delay]\n",
    "                      :hours [#(/ % 60)   :air_time]\n",
    "                     ; :gain_per_hour [/ :gain :hours]\n",
    "                      })\n",
    "     print-table)"
   ]
  },
  {
   "cell_type": "code",
   "execution_count": 87,
   "metadata": {},
   "outputs": [
    {
     "data": {
      "text/iclojure-html": [
       "<ul><li class=browsable><ul><li class=var>#'user/partial-right<li class=browser><li class=elision data-expr='(unrepl.repl$p8QhJwTpu2S19yqqZbyXWLOYcI8/fetch :G__43331)'>…</ul></ul>"
      ],
      "text/plain": [
       "#unrepl/browsable \u001b[2m[\u001b[22m#'user/partial-right \u001b[4m/158\u001b[m\u001b[2m]\u001b[22m\n"
      ]
     },
     "execution_count": 87,
     "metadata": {},
     "output_type": "execute_result"
    }
   ],
   "source": [
    "(defn partial-right\n",
    "  \"Takes a function f and fewer than the normal arguments to f, and\n",
    " returns a fn that takes a variable number of additional args. When\n",
    " called, the returned function calls f with additional args + args.\"\n",
    "  ([f] f)\n",
    "  ([f arg1]\n",
    "   (fn [& args] (apply f (concat args [arg1]))))\n",
    "  ([f arg1 arg2]\n",
    "   (fn [& args] (apply f (concat args [arg1 arg2]))))\n",
    "  ([f arg1 arg2 arg3]\n",
    "   (fn [& args] (apply f (concat args [arg1 arg2 arg3]))))\n",
    "  ([f arg1 arg2 arg3 & more]\n",
    "   (fn [& args] (apply f (concat args (concat [arg1 arg2 arg3] more))))))\n",
    "\n",
    "\n"
   ]
  },
  {
   "cell_type": "code",
   "execution_count": null,
   "metadata": {},
   "outputs": [],
   "source": []
  },
  {
   "cell_type": "code",
   "execution_count": null,
   "metadata": {},
   "outputs": [],
   "source": []
  },
  {
   "cell_type": "code",
   "execution_count": null,
   "metadata": {},
   "outputs": [],
   "source": []
  },
  {
   "cell_type": "code",
   "execution_count": null,
   "metadata": {},
   "outputs": [],
   "source": []
  },
  {
   "cell_type": "code",
   "execution_count": 150,
   "metadata": {},
   "outputs": [
    {
     "data": {
      "application/octet-stream": null,
      "text/iclojure-html": [
       "<ul><li class='misc'>nil</ul>"
      ],
      "text/plain": [
       "nil\n"
      ]
     },
     "execution_count": 150,
     "metadata": {},
     "output_type": "execute_result"
    }
   ],
   "source": [
    "( #{:tailnum} :tailndum)"
   ]
  },
  {
   "cell_type": "code",
   "execution_count": null,
   "metadata": {},
   "outputs": [],
   "source": []
  },
  {
   "cell_type": "code",
   "execution_count": null,
   "metadata": {},
   "outputs": [],
   "source": []
  },
  {
   "cell_type": "code",
   "execution_count": null,
   "metadata": {},
   "outputs": [],
   "source": []
  },
  {
   "cell_type": "code",
   "execution_count": null,
   "metadata": {},
   "outputs": [],
   "source": []
  },
  {
   "cell_type": "code",
   "execution_count": null,
   "metadata": {},
   "outputs": [],
   "source": []
  },
  {
   "cell_type": "code",
   "execution_count": 133,
   "metadata": {},
   "outputs": [
    {
     "data": {
      "application/octet-stream": null,
      "text/iclojure-html": [
       "<ul><li class='string'>\"(\\\"a b\\\" \\\"a b\\\")c d\"</ul>"
      ],
      "text/plain": [
       "\"(\\\"a b\\\" \\\"a b\\\")c d\"\n"
      ]
     },
     "execution_count": 133,
     "metadata": {},
     "output_type": "execute_result"
    }
   ],
   "source": [
    "(as-> \"a b\" s\n",
    "     (repeat 2 s)\n",
    "     (str s \"c d\" ))"
   ]
  },
  {
   "cell_type": "code",
   "execution_count": 126,
   "metadata": {},
   "outputs": [
    {
     "data": {
      "application/octet-stream": null,
      "text/iclojure-html": [
       "<ul><li class=seq>(<ul><li class='string'>\"dep_time\"<li class=space> <li class='string'>\"dep_delay\"<li class=trail>)</ul></ul>"
      ],
      "text/plain": [
       "\u001b[2m(\u001b[22m\"dep_time\" \"dep_delay\"\u001b[2m)\u001b[22m\n"
      ]
     },
     "execution_count": 126,
     "metadata": {},
     "output_type": "execute_result"
    }
   ],
   "source": [
    "(->> flights\n",
    "     (hc/cols)\n",
    "     (map name)\n",
    "     (filter (partial re-matches #\"dep.*\"))    \n",
    "     )"
   ]
  },
  {
   "cell_type": "code",
   "execution_count": 26,
   "metadata": {},
   "outputs": [
    {
     "name": "stdout",
     "output_type": "stream",
     "text": [
      "\n",
      "| :hour | :sched_dep_time | :tailnum | :arr_time | :sched_arr_time | :dep_time | :carrier | :arr_delay | :dep_delay | :origin | :flight | :distance | :air_time | :dest |                   :time_hour | :minute |\n",
      "|-------+-----------------+----------+-----------+-----------------+-----------+----------+------------+------------+---------+---------+-----------+-----------+-------+------------------------------+---------|\n",
      "|     5 |             515 |  :N14228 |       830 |             819 |       517 |      :UA |         11 |          2 |    :EWR |    1545 |      1400 |       227 |  :IAH | Tue Jan 01 11:00:00 CET 2013 |      15 |\n",
      "|     5 |             529 |  :N24211 |       850 |             830 |       533 |      :UA |         20 |          4 |    :LGA |    1714 |      1416 |       227 |  :IAH | Tue Jan 01 11:00:00 CET 2013 |      29 |\n",
      "|     5 |             540 |  :N619AA |       923 |             850 |       542 |      :AA |         33 |          2 |    :JFK |    1141 |      1089 |       160 |  :MIA | Tue Jan 01 11:00:00 CET 2013 |      40 |\n",
      "|     5 |             545 |  :N804JB |      1004 |            1022 |       544 |      :B6 |        -18 |         -1 |    :JFK |     725 |      1576 |       183 |  :BQN | Tue Jan 01 11:00:00 CET 2013 |      45 |\n",
      "|     6 |             600 |  :N668DN |       812 |             837 |       554 |      :DL |        -25 |         -6 |    :LGA |     461 |       762 |       116 |  :ATL | Tue Jan 01 12:00:00 CET 2013 |       0 |\n"
     ]
    },
    {
     "data": {
      "application/octet-stream": null,
      "text/iclojure-html": [
       "<ul><li class='misc'>nil</ul>"
      ],
      "text/plain": [
       "nil\n"
      ]
     },
     "execution_count": 26,
     "metadata": {},
     "output_type": "execute_result"
    }
   ],
   "source": [
    "(->> flights \n",
    "     (hc/select-cols (clojure.set/difference (set (hc/cols flights))\n",
    "                                             #{:year :month :day}))\n",
    "     print-table\n",
    "     )"
   ]
  },
  {
   "cell_type": "markdown",
   "metadata": {},
   "source": [
    "You can use regular expression on keyword to select columns with the following convenience function. "
   ]
  },
  {
   "cell_type": "code",
   "execution_count": 56,
   "metadata": {},
   "outputs": [
    {
     "name": "stdout",
     "output_type": "stream",
     "text": [
      "\n",
      "| :dep_time | :dep_delay |\n",
      "|-----------+------------|\n",
      "|       517 |          2 |\n",
      "|       533 |          4 |\n",
      "|       542 |          2 |\n",
      "|       544 |         -1 |\n",
      "|       554 |         -6 |\n"
     ]
    },
    {
     "data": {
      "application/octet-stream": null,
      "text/iclojure-html": [
       "<ul><li class='misc'>nil</ul>"
      ],
      "text/plain": [
       "nil\n"
      ]
     },
     "execution_count": 56,
     "metadata": {},
     "output_type": "execute_result"
    }
   ],
   "source": [
    "(defn select-cols-regex \n",
    "    [pattern df] \n",
    "    (hc/select-cols (filter #(re-matches pattern \n",
    "                                         (name %)) \n",
    "                            (hc/cols df))  \n",
    "                    df))\n",
    "(->> flights \n",
    "     (select-cols-regex #\"dep.*\")\n",
    "     print-table)"
   ]
  },
  {
   "cell_type": "markdown",
   "metadata": {},
   "source": [
    "rename(flights, tail_num = tailnum)"
   ]
  },
  {
   "cell_type": "code",
   "execution_count": 80,
   "metadata": {},
   "outputs": [
    {
     "name": "stdout",
     "output_type": "stream",
     "text": [
      "\n",
      "| :day | :hour | :sched_dep_time | :arr_time | :sched_arr_time | :month | :dep_time | :carrier | :arr_delay | :year | :dep_delay | :origin | :flight | :distance | :air_time | :tail_num | :dest |                   :time_hour | :minute |\n",
      "|------+-------+-----------------+-----------+-----------------+--------+-----------+----------+------------+-------+------------+---------+---------+-----------+-----------+-----------+-------+------------------------------+---------|\n",
      "|    1 |     5 |             515 |       830 |             819 |      1 |       517 |      :UA |         11 |  2013 |          2 |    :EWR |    1545 |      1400 |       227 |   :N14228 |  :IAH | Tue Jan 01 11:00:00 CET 2013 |      15 |\n",
      "|    1 |     5 |             529 |       850 |             830 |      1 |       533 |      :UA |         20 |  2013 |          4 |    :LGA |    1714 |      1416 |       227 |   :N24211 |  :IAH | Tue Jan 01 11:00:00 CET 2013 |      29 |\n",
      "|    1 |     5 |             540 |       923 |             850 |      1 |       542 |      :AA |         33 |  2013 |          2 |    :JFK |    1141 |      1089 |       160 |   :N619AA |  :MIA | Tue Jan 01 11:00:00 CET 2013 |      40 |\n",
      "|    1 |     5 |             545 |      1004 |            1022 |      1 |       544 |      :B6 |        -18 |  2013 |         -1 |    :JFK |     725 |      1576 |       183 |   :N804JB |  :BQN | Tue Jan 01 11:00:00 CET 2013 |      45 |\n",
      "|    1 |     6 |             600 |       812 |             837 |      1 |       554 |      :DL |        -25 |  2013 |         -6 |    :LGA |     461 |       762 |       116 |   :N668DN |  :ATL | Tue Jan 01 12:00:00 CET 2013 |       0 |\n"
     ]
    },
    {
     "data": {
      "application/octet-stream": null,
      "text/iclojure-html": [
       "<ul><li class='misc'>nil</ul>"
      ],
      "text/plain": [
       "nil\n"
      ]
     },
     "execution_count": 80,
     "metadata": {},
     "output_type": "execute_result"
    }
   ],
   "source": [
    "(defn remove-cols [coll df]\n",
    "    (hc/select-cols (clojure.set/difference (set (hc/cols df)) \n",
    "                                            (set coll)) \n",
    "                    df))\n",
    "    \n",
    "(->> flights\n",
    "     (hc/derive-cols {:tail_num :tailnum})\n",
    "     (remove-cols [:tailnum])\n",
    "     print-table)"
   ]
  },
  {
   "cell_type": "markdown",
   "metadata": {},
   "source": [
    "# ask jeroen:\n",
    "I don't know how those combinators work, but I'd love to be able to write\n",
    "\n",
    "(->> flights\n",
    "     (hc/where {(hc/every-of :arr_delay :dep_delay) [<= 120]}))\n",
    "     \n",
    "     \n",
    "I would love it if select-cols would accept a option map like semantic-csv instead of me having to define separate functions for select-cols-except and select-cols-regex.\n",
    "Just like `where` returns only the rows for which all filters are truthy, this could also be the case with select-cols. I think it makes the api more consistent.  in the supplied map it would accept only \n",
    "\n",
    "extend the idae: except takes a map of filters . Problem is : what to do when you have conflict between filters? One says include other says exclude. Do you exclude? Is it easier to add remove-cols function?\n",
    "\n",
    "with `where` all filters need to be true. \n",
    "``` clojure \n",
    "(select-cols { :except [:tailnum]\n",
    "               :regex #\"dep.*\"}\n",
    "      \n",
    "             df)\n",
    "```\n",
    "instead of\n",
    "``` clojure \n",
    "(select-cols-except [:tailnum])\n",
    "```\n",
    "\n",
    "Whcih uses do I see for select-cols? \n",
    "1: include this list of columns\n",
    "2: remove this list of columns\n",
    "3: include based on regex\n",
    "4: remove based on regex\n",
    "5: index using sorted mpa?? I htink not.  xxx\n",
    "6: select columns based on type: include all with datatype date / numeric etc.. \n",
    "\n",
    "option for syntax. Just apply cols of df to functions like you apply the values of certain keys to functins in where. Now instead of keyword(s) and function, we just have set of fumctions, because the only collection of values that we  apply to functions is the collection with keywords. Although is this right? We could also say: keep all columns with dates, or keep all columns with numeric values. So we have 2 rows: the keywords and a representative random row to check content. \n",
    "``` clojure\n",
    "(select-cols {:header {#contains }\n",
    "              :values     \n",
    "             df)\n",
    "```\n",
    "I wish select-cols would take a  1 argument pred and apply that to all keywords\n",
    "``` clojure\n",
    "(select-cols (every-pred #(re-matches #\"dep.*\" (name %))\n",
    "                         (partial )}\n",
    "              :drop      \n",
    "             df)\n",
    "```\n",
    "``` clojure\n",
    "(select-cols-filter [pred df]\n",
    "                    (hc/select-cols (filter pred (hc/cols df)) df)\n",
    "\n",
    "```\n",
    "some-fn\n",
    "every-pred"
   ]
  },
  {
   "cell_type": "code",
   "execution_count": 104,
   "metadata": {},
   "outputs": [
    {
     "data": {
      "text/iclojure-html": [
       "<ul><li class=browsable><ul><li class=var>#'user/filter-cols<li class=browser><li class=elision data-expr='(unrepl.repl$p8QhJwTpu2S19yqqZbyXWLOYcI8/fetch :G__43715)'>…</ul></ul>"
      ],
      "text/plain": [
       "#unrepl/browsable \u001b[2m[\u001b[22m#'user/filter-cols \u001b[4m/147\u001b[m\u001b[2m]\u001b[22m\n"
      ]
     },
     "execution_count": 104,
     "metadata": {},
     "output_type": "execute_result"
    }
   ],
   "source": [
    "(defn filter-cols [pred df]\n",
    "    \"filters collection of column name keywords with pred and selects all remaining columns\"\n",
    "    (hc/select-cols (filter pred (hc/cols df)) df))"
   ]
  },
  {
   "cell_type": "code",
   "execution_count": null,
   "metadata": {},
   "outputs": [],
   "source": [
    "(defn select-cols-regex2\n",
    "    [pattern df] \n",
    "    (select-cols-filter #(re-matches pattern (name %)) \n",
    "                        df))\n",
    "                    \n",
    "\n"
   ]
  },
  {
   "cell_type": "markdown",
   "metadata": {},
   "source": [
    "This function composes nicely, because the pred can be any composition of preds\n",
    "``` clojure\n",
    "\n",
    "```\n",
    "\n",
    "Alternatively we could have done\n",
    "\n",
    "``` clojure\n",
    "(def pred' (every-pred ...)\n",
    "(->> df\n",
    "     ;; transformation, perhaps new columns are added\n",
    "     (#(select-cols (filter pred' (hc/cols %) )\n",
    "```"
   ]
  },
  {
   "cell_type": "markdown",
   "metadata": {},
   "source": [
    "Say I want to filter columns based on some predicate like a regular expression, whether it is an element of some collection or some composition of these. In this case it would be nice to have a function like `filter-cols` as it simplifies the code as follows:  \n"
   ]
  },
  {
   "cell_type": "code",
   "execution_count": 108,
   "metadata": {},
   "outputs": [
    {
     "name": "stdout",
     "output_type": "stream",
     "text": [
      "\n",
      "| :day | :hour | :month |\n",
      "|------+-------+--------|\n",
      "|    1 |     5 |      1 |\n",
      "|    1 |     5 |      1 |\n",
      "|    1 |     5 |      1 |\n",
      "|    1 |     5 |      1 |\n",
      "|    1 |     6 |      1 |\n",
      "\n",
      "| :day | :hour | :month |\n",
      "|------+-------+--------|\n",
      "|    1 |     5 |      1 |\n",
      "|    1 |     5 |      1 |\n",
      "|    1 |     5 |      1 |\n",
      "|    1 |     5 |      1 |\n",
      "|    1 |     6 |      1 |\n"
     ]
    },
    {
     "data": {
      "application/octet-stream": null,
      "text/iclojure-html": [
       "<ul><li class='misc'>nil</ul>"
      ],
      "text/plain": [
       "nil\n"
      ]
     },
     "execution_count": 108,
     "metadata": {},
     "output_type": "execute_result"
    }
   ],
   "source": [
    "(def pred' (every-pred #(> 6 (count (name %)))\n",
    "                       #(not (contains? #{:year :dest} %))))\n",
    "\n",
    "(->> flights\n",
    "     ;; transformation, perhaps new columns are added\n",
    "     (#(hc/select-cols (filter pred' (hc/cols %)) % ))\n",
    "     print-table)\n",
    "\n",
    "; instead of \n",
    "(->> flights\n",
    "     ;; transformation, perhaps new columns are added\n",
    "     (filter-cols pred')\n",
    "     print-table)"
   ]
  },
  {
   "cell_type": "markdown",
   "metadata": {},
   "source": [
    "I can implement select-cols-regex as follows "
   ]
  },
  {
   "cell_type": "code",
   "execution_count": 109,
   "metadata": {},
   "outputs": [
    {
     "name": "stdout",
     "output_type": "stream",
     "text": [
      "\n",
      "| :dep_time | :dep_delay |\n",
      "|-----------+------------|\n",
      "|       517 |          2 |\n",
      "|       533 |          4 |\n",
      "|       542 |          2 |\n",
      "|       544 |         -1 |\n",
      "|       554 |         -6 |\n"
     ]
    },
    {
     "data": {
      "application/octet-stream": null,
      "text/iclojure-html": [
       "<ul><li class='misc'>nil</ul>"
      ],
      "text/plain": [
       "nil\n"
      ]
     },
     "execution_count": 109,
     "metadata": {},
     "output_type": "execute_result"
    }
   ],
   "source": [
    "(defn select-cols-regex2\n",
    "    [pattern df] \n",
    "    (filter-cols #(re-matches pattern (name %)) \n",
    "                 df))\n",
    "\n",
    "(->> flights\n",
    "     ;; transformation, perhaps new columns are added\n",
    "     (select-cols-regex2 #\"dep.*\")\n",
    "     print-table)"
   ]
  },
  {
   "cell_type": "code",
   "execution_count": 100,
   "metadata": {},
   "outputs": [
    {
     "name": "stdout",
     "output_type": "stream",
     "text": [
      "\n",
      "| :day | :hour | :month |\n",
      "|------+-------+--------|\n",
      "|    1 |     5 |      1 |\n",
      "|    1 |     5 |      1 |\n",
      "|    1 |     5 |      1 |\n",
      "|    1 |     5 |      1 |\n",
      "|    1 |     6 |      1 |\n"
     ]
    },
    {
     "data": {
      "application/octet-stream": null,
      "text/iclojure-html": [
       "<ul><li class='misc'>nil</ul>"
      ],
      "text/plain": [
       "nil\n"
      ]
     },
     "execution_count": 100,
     "metadata": {},
     "output_type": "execute_result"
    }
   ],
   "source": [
    "(->> flights\n",
    "     (select-cols-filter (every-pred #(> 6 (count (name %)))\n",
    "                                     #(not (contains? #{:year :dest} %))))\n",
    "     print-table)\n"
   ]
  },
  {
   "cell_type": "code",
   "execution_count": 95,
   "metadata": {},
   "outputs": [
    {
     "data": {
      "application/octet-stream": null,
      "text/iclojure-html": [
       "<ul><li class=seq>(<ul><li class=trail>)</ul></ul>"
      ],
      "text/plain": [
       "\u001b[2m(\u001b[22m\u001b[2m)\u001b[22m\n"
      ]
     },
     "execution_count": 95,
     "metadata": {},
     "output_type": "execute_result"
    }
   ],
   "source": [
    "(filter   #(contains? [:year :dest] %) (hc/cols flights))\n",
    "\n",
    "\n",
    "\n",
    "\n",
    ";(filter (every-pred #(> 6 (count (name %)))   #(contains? [:year :dest] %)) (hc/cols flights))"
   ]
  },
  {
   "cell_type": "code",
   "execution_count": 98,
   "metadata": {},
   "outputs": [
    {
     "data": {
      "application/octet-stream": null,
      "text/iclojure-html": [
       "<ul><li class='misc'>true</ul>"
      ],
      "text/plain": [
       "true\n"
      ]
     },
     "execution_count": 98,
     "metadata": {},
     "output_type": "execute_result"
    }
   ],
   "source": [
    "(contains? (set [:year :day]) :year)"
   ]
  },
  {
   "cell_type": "code",
   "execution_count": 83,
   "metadata": {},
   "outputs": [
    {
     "data": {
      "application/octet-stream": null,
      "text/iclojure-html": [
       "<ul><li class=seq>(<ul><li class=trail>)</ul></ul>"
      ],
      "text/plain": [
       "\u001b[2m(\u001b[22m\u001b[2m)\u001b[22m\n"
      ]
     },
     "execution_count": 83,
     "metadata": {},
     "output_type": "execute_result"
    }
   ],
   "source": [
    "(->> flights\n",
    "     (hc/where {:arr_delay (hc/every-of [> 120] [< 60])})) "
   ]
  },
  {
   "cell_type": "code",
   "execution_count": 79,
   "metadata": {},
   "outputs": [
    {
     "data": {
      "application/octet-stream": null,
      "text/iclojure-html": [
       "<ul><li class=seq>(<ul><li class=map>{<ul><li><ul><li class=keyword>:day<li class=space> <li class='misc'>30<li class=trail>,</ul><li class=space> <li><ul><li class=keyword>:hour<li class=space> <li class='misc'>23<li class=trail>,</ul><li class=space> <li><ul><li class=keyword>:sched_dep_time<li class=space> <li class='misc'>2359<li class=trail>,</ul><li class=space> <li><ul><li class=keyword>:tailnum<li class=space> <li class=keyword>:N516JB<li class=trail>,</ul><li class=space> <li><ul><li class=keyword>:arr_time<li class=space> <li class='misc'>325<li class=trail>,</ul><li class=space> <li><ul><li class=keyword>:sched_arr_time<li class=space> <li class='misc'>350<li class=trail>,</ul><li class=space> <li><ul><li class=keyword>:month<li class=space> <li class='misc'>9<li class=trail>,</ul><li class=space> <li><ul><li class=keyword>:dep_time<li class=space> <li class='misc'>2349<li class=trail>,</ul><li class=space> <li><ul><li class=keyword>:carrier<li class=space> <li class=keyword>:B6<li class=trail>,</ul><li class=space> <li><ul><li class=keyword>:arr_delay<li class=space> <li class='misc'>-25<li class=trail>,</ul><li class=space> <li class=elision data-expr='(unrepl.repl$p8QhJwTpu2S19yqqZbyXWLOYcI8/fetch :G__43337)'>…<li class=trail>}</ul><li class=space> <li class=map>{<ul><li><ul><li class=keyword>:day<li class=space> <li class='misc'>30<li class=trail>,</ul><li class=space> <li><ul><li class=keyword>:hour<li class=space> <li class='misc'>22<li class=trail>,</ul><li class=space> <li><ul><li class=keyword>:sched_dep_time<li class=space> <li class='misc'>2255<li class=trail>,</ul><li class=space> <li><ul><li class=keyword>:tailnum<li class=space> <li class=keyword>:N565JB<li class=trail>,</ul><li class=space> <li><ul><li class=keyword>:arr_time<li class=space> <li class='misc'>2359<li class=trail>,</ul><li class=space> <li><ul><li class=keyword>:sched_arr_time<li class=space> <li class='misc'>2358<li class=trail>,</ul><li class=space> <li><ul><li class=keyword>:month<li class=space> <li class='misc'>9<li class=trail>,</ul><li class=space> <li><ul><li class=keyword>:dep_time<li class=space> <li class='misc'>2307<li class=trail>,</ul><li class=space> <li><ul><li class=keyword>:carrier<li class=space> <li class=keyword>:B6<li class=trail>,</ul><li class=space> <li><ul><li class=keyword>:arr_delay<li class=space> <li class='misc'>1<li class=trail>,</ul><li class=space> <li class=elision data-expr='(unrepl.repl$p8QhJwTpu2S19yqqZbyXWLOYcI8/fetch :G__43338)'>…<li class=trail>}</ul><li class=space> <li class=map>{<ul><li><ul><li class=keyword>:day<li class=space> <li class='misc'>30<li class=trail>,</ul><li class=space> <li><ul><li class=keyword>:hour<li class=space> <li class='misc'>22<li class=trail>,</ul><li class=space> <li><ul><li class=keyword>:sched_dep_time<li class=space> <li class='misc'>2246<li class=trail>,</ul><li class=space> <li><ul><li class=keyword>:tailnum<li class=space> <li class=keyword>:N346JB<li class=trail>,</ul><li class=space> <li><ul><li class=keyword>:arr_time<li class=space> <li class='misc'>2345<li class=trail>,</ul><li class=space> <li><ul><li class=keyword>:sched_arr_time<li class=space> <li class='misc'>1<li class=trail>,</ul><li class=space> <li><ul><li class=keyword>:month<li class=space> <li class='misc'>9<li class=trail>,</ul><li class=space> <li><ul><li class=keyword>:dep_time<li class=space> <li class='misc'>2241<li class=trail>,</ul><li class=space> <li><ul><li class=keyword>:carrier<li class=space> <li class=keyword>:B6<li class=trail>,</ul><li class=space> <li><ul><li class=keyword>:arr_delay<li class=space> <li class='misc'>-16<li class=trail>,</ul><li class=space> <li class=elision data-expr='(unrepl.repl$p8QhJwTpu2S19yqqZbyXWLOYcI8/fetch :G__43339)'>…<li class=trail>}</ul><li class=space> <li class=map>{<ul><li><ul><li class=keyword>:day<li class=space> <li class='misc'>30<li class=trail>,</ul><li class=space> <li><ul><li class=keyword>:hour<li class=space> <li class='misc'>22<li class=trail>,</ul><li class=space> <li><ul><li class=keyword>:sched_dep_time<li class=space> <li class='misc'>2250<li class=trail>,</ul><li class=space> <li><ul><li class=keyword>:tailnum<li class=space> <li class=keyword>:N281JB<li class=trail>,</ul><li class=space> <li><ul><li class=keyword>:arr_time<li class=space> <li class='misc'>2347<li class=trail>,</ul><li class=space> <li><ul><li class=keyword>:sched_arr_time<li class=space> <li class='misc'>7<li class=trail>,</ul><li class=space> <li class=elision data-expr='(unrepl.repl$p8QhJwTpu2S19yqqZbyXWLOYcI8/fetch :G__43340)'>…<li class=trail>}</ul><li class=space> <li class=elision data-expr='(unrepl.repl$p8QhJwTpu2S19yqqZbyXWLOYcI8/fetch :G__43341)'>…<li class=trail>)</ul></ul>"
      ],
      "text/plain": [
       "\u001b[2m(\u001b[22m\u001b[2m{\u001b[22m\u001b[36m:day\u001b[m 30\u001b[2m,\u001b[22m \u001b[36m:hour\u001b[m 23\u001b[2m,\u001b[22m \u001b[36m:sched_dep_time\u001b[m 2359\u001b[2m,\u001b[22m \u001b[36m:tailnum\u001b[m \u001b[36m:N516JB\u001b[m\u001b[2m,\u001b[22m\n",
       "  \u001b[36m:arr_time\u001b[m 325\u001b[2m,\u001b[22m \u001b[36m:sched_arr_time\u001b[m 350\u001b[2m,\u001b[22m \u001b[36m:month\u001b[m 9\u001b[2m,\u001b[22m\n",
       "  \u001b[36m:dep_time\u001b[m 2349\u001b[2m,\u001b[22m \u001b[36m:carrier\u001b[m \u001b[36m:B6\u001b[m\u001b[2m,\u001b[22m \u001b[36m:arr_delay\u001b[m -25\u001b[2m,\u001b[22m \u001b[4m/114\u001b[m\u001b[2m}\u001b[22m\n",
       " \u001b[2m{\u001b[22m\u001b[36m:day\u001b[m 30\u001b[2m,\u001b[22m \u001b[36m:hour\u001b[m 22\u001b[2m,\u001b[22m \u001b[36m:sched_dep_time\u001b[m 2255\u001b[2m,\u001b[22m \u001b[36m:tailnum\u001b[m \u001b[36m:N565JB\u001b[m\u001b[2m,\u001b[22m\n",
       "  \u001b[36m:arr_time\u001b[m 2359\u001b[2m,\u001b[22m \u001b[36m:sched_arr_time\u001b[m 2358\u001b[2m,\u001b[22m \u001b[36m:month\u001b[m 9\u001b[2m,\u001b[22m\n",
       "  \u001b[36m:dep_time\u001b[m 2307\u001b[2m,\u001b[22m \u001b[36m:carrier\u001b[m \u001b[36m:B6\u001b[m\u001b[2m,\u001b[22m \u001b[36m:arr_delay\u001b[m 1\u001b[2m,\u001b[22m \u001b[4m/115\u001b[m\u001b[2m}\u001b[22m\n",
       " \u001b[2m{\u001b[22m\u001b[36m:day\u001b[m 30\u001b[2m,\u001b[22m \u001b[36m:hour\u001b[m 22\u001b[2m,\u001b[22m \u001b[36m:sched_dep_time\u001b[m 2246\u001b[2m,\u001b[22m \u001b[36m:tailnum\u001b[m \u001b[36m:N346JB\u001b[m\u001b[2m,\u001b[22m\n",
       "  \u001b[36m:arr_time\u001b[m 2345\u001b[2m,\u001b[22m \u001b[36m:sched_arr_time\u001b[m 1\u001b[2m,\u001b[22m \u001b[36m:month\u001b[m 9\u001b[2m,\u001b[22m\n",
       "  \u001b[36m:dep_time\u001b[m 2241\u001b[2m,\u001b[22m \u001b[36m:carrier\u001b[m \u001b[36m:B6\u001b[m\u001b[2m,\u001b[22m \u001b[36m:arr_delay\u001b[m -16\u001b[2m,\u001b[22m \u001b[4m/116\u001b[m\u001b[2m}\u001b[22m\n",
       " \u001b[2m{\u001b[22m\u001b[36m:day\u001b[m 30\u001b[2m,\u001b[22m \u001b[36m:hour\u001b[m 22\u001b[2m,\u001b[22m \u001b[36m:sched_dep_time\u001b[m 2250\u001b[2m,\u001b[22m \u001b[36m:tailnum\u001b[m \u001b[36m:N281JB\u001b[m\u001b[2m,\u001b[22m\n",
       "  \u001b[36m:arr_time\u001b[m 2347\u001b[2m,\u001b[22m \u001b[36m:sched_arr_time\u001b[m 7\u001b[2m,\u001b[22m \u001b[4m/117\u001b[m\u001b[2m}\u001b[22m\n",
       " \u001b[4m/118\u001b[m\u001b[2m)\u001b[22m\n"
      ]
     },
     "execution_count": 79,
     "metadata": {},
     "output_type": "execute_result"
    }
   ],
   "source": [
    "(->> flights\n",
    "     (hc/where {(hc/every-of :arr_delay :dep_delay) identity})) \n",
    "     ;(hc/where {(hc/every-of :arr_delay :dep_delay) [<= 120]}))"
   ]
  },
  {
   "cell_type": "code",
   "execution_count": null,
   "metadata": {},
   "outputs": [],
   "source": []
  },
  {
   "cell_type": "code",
   "execution_count": null,
   "metadata": {},
   "outputs": [],
   "source": []
  },
  {
   "cell_type": "code",
   "execution_count": null,
   "metadata": {},
   "outputs": [],
   "source": []
  },
  {
   "cell_type": "code",
   "execution_count": null,
   "metadata": {},
   "outputs": [],
   "source": []
  },
  {
   "cell_type": "code",
   "execution_count": null,
   "metadata": {},
   "outputs": [],
   "source": []
  },
  {
   "cell_type": "code",
   "execution_count": null,
   "metadata": {},
   "outputs": [],
   "source": []
  },
  {
   "cell_type": "code",
   "execution_count": null,
   "metadata": {},
   "outputs": [],
   "source": []
  },
  {
   "cell_type": "markdown",
   "metadata": {},
   "source": [
    "## grouped mutate \n",
    "holds also for filter, which I explore later"
   ]
  },
  {
   "cell_type": "code",
   "execution_count": null,
   "metadata": {},
   "outputs": [],
   "source": [
    "(->> df\n",
    "     (group-by :a)\n",
    "     (derive-cols {:better-than-average? [> :b [mean :b]]}))\n",
    "; problem . nested function calls not supported\n",
    ";options?\n",
    "..\n",
    "\n",
    "(->> df\n",
    "     (group-by :a)\n",
    "     (derive-cols {:mean-b [mean :b]\n",
    "                   :better-than-average? [> :b :mean-b ]}))\n",
    "; How do I signal to mean function that it should operate on the whole column of b instead of the value in just this map. > just operates on value in one map\n",
    "; 1: I can add option map to operation, e.g. [mean :b :rowwise false]\n",
    "; 2: use plumbing.core. it uses following data structure {:a coll :b coll}. So to use it i tranform vector of maps to map of vectors. mean of cols is just anohter key with a scalar value. If then the next function operation is rowwise \n",
    "; like > you could broadcast it by \n",
    "\n",
    "\n",
    "(->> df\n",
    "     (group-by :a)\n",
    "     (derive-cols {:mean-b [mean :b]\n",
    "                      :better-than-average? [> :b [mean :b]]}))\n",
    "\n",
    "; after group-by there is another layer of nesting. How does group-by know that it needs to go 1 level deeper?\n",
    "; 1: metadata on df, e.g. :grouped true. Downside, must change group-by to do that and derive-cols now expects that. If i use normal group-by function derive-cols would have the metadata and doesnt work \n",
    "; 2 make separate function grouped-derive-cols\n",
    "; 3 derive-cols takes option map :opts {:grouped true}\n",
    "\n"
   ]
  },
  {
   "cell_type": "code",
   "execution_count": 103,
   "metadata": {},
   "outputs": [
    {
     "ename": "Oops",
     "evalue": "",
     "output_type": "error",
     "traceback": [
      "Exception while evaluating the expression.",
      "#unrepl/browsable\n  \u001b[2m[\u001b[22m\u001b[31m#error\u001b[m\n     \u001b[2m{\u001b[22m\u001b[36m:via\u001b[m \u001b[2m[\u001b[22m\u001b[2m{\u001b[22m\u001b[36m:type\u001b[m java.lang.ClassCastException\u001b[2m,\u001b[22m\n             \u001b[36m:message\u001b[m\n               \"clojure.lang.PersistentVector cannot be cast to java.lang.Number\"\u001b[2m,\u001b[22m\n             \u001b[36m:at\u001b[m \u001b[2m[\u001b[22mclojure.lang.Numbers gt \"Numbers.java\" 259\u001b[2m]\u001b[22m\u001b[2m}\u001b[22m\u001b[2m]\u001b[22m\u001b[2m,\u001b[22m\n      \u001b[36m:trace\u001b[m \u001b[2m[\u001b[22m\u001b[2m[\u001b[22mclojure.lang.Numbers gt \"Numbers.java\" 259\u001b[2m]\u001b[22m\n              \u001b[2m[\u001b[22mclojure.lang.Numbers gt \"Numbers.java\" 3957\u001b[2m]\u001b[22m\n              \u001b[2m[\u001b[22muser$eval43598 invokeStatic \"NO_SOURCE_PATH\" 1\u001b[2m]\u001b[22m\n              \u001b[2m[\u001b[22muser$eval43598 invoke \"NO_SOURCE_PATH\" 1\u001b[2m]\u001b[22m\n              \u001b[2m[\u001b[22mclojure.lang.Compiler eval \"Compiler.java\" 7176\u001b[2m]\u001b[22m\n              \u001b[2m[\u001b[22mclojure.lang.Compiler eval \"Compiler.java\" 7131\u001b[2m]\u001b[22m\n              \u001b[2m[\u001b[22mclojure.core$eval invokeStatic \"core.clj\" 3214\u001b[2m]\u001b[22m\n              \u001b[2m[\u001b[22mclojure.core$eval invoke \"core.clj\" 3210\u001b[2m]\u001b[22m\n              \u001b[2m[\u001b[22muser$eval43591 invokeStatic \"NO_SOURCE_PATH\" 102\u001b[2m]\u001b[22m\n              \u001b[2m[\u001b[22muser$eval43591 invoke \"NO_SOURCE_PATH\" 102\u001b[2m]\u001b[22m \u001b[4m/189\u001b[m\u001b[2m]\u001b[22m\u001b[2m,\u001b[22m\n      \u001b[36m:cause\u001b[m \"clojure.lang.PersistentVector cannot be cast to java.lang.Number\"\u001b[2m}\u001b[22m\n   \u001b[4m/190\u001b[m\u001b[2m]\u001b[22m\n"
     ]
    }
   ],
   "source": [
    "(> [3 4 5] 3)\n",
    "\n",
    ";; doesn't suppport broadcasting. should I change how the function is applied? recognize that there's a scalar and a vector and do somethign like (map > [3 4 5] (repeated 3))"
   ]
  },
  {
   "cell_type": "code",
   "execution_count": 104,
   "metadata": {},
   "outputs": [
    {
     "ename": "Oops",
     "evalue": "",
     "output_type": "error",
     "traceback": [
      "Exception while doing something unexpected.",
      "#unrepl/browsable\n  \u001b[2m[\u001b[22m\u001b[31m#error\u001b[m\n     \u001b[2m{\u001b[22m\u001b[36m:via\u001b[m \u001b[2m[\u001b[22m\u001b[2m{\u001b[22m\u001b[36m:type\u001b[m clojure.lang.Compiler$CompilerException\u001b[2m,\u001b[22m\n             \u001b[36m:message\u001b[m \"Syntax error compiling at (unrepl-reader-749:1:1).\"\u001b[2m,\u001b[22m\n             \u001b[36m:data\u001b[m \u001b[2m{\u001b[22m\u001b[36m:clojure.error/phase\u001b[m \u001b[36m:compile-syntax-check\u001b[m\u001b[2m,\u001b[22m\n                    \u001b[36m:clojure.error/line\u001b[m 1\u001b[2m,\u001b[22m \u001b[36m:clojure.error/column\u001b[m 1\u001b[2m,\u001b[22m\n                    \u001b[36m:clojure.error/source\u001b[m \"unrepl-reader-749\"\u001b[2m}\u001b[22m\u001b[2m,\u001b[22m\n             \u001b[36m:at\u001b[m \u001b[2m[\u001b[22mclojure.lang.Compiler analyze \"Compiler.java\" 6808\u001b[2m]\u001b[22m\u001b[2m}\u001b[22m\n            \u001b[2m{\u001b[22m\u001b[36m:type\u001b[m java.lang.RuntimeException\u001b[2m,\u001b[22m\n             \u001b[36m:message\u001b[m \"Unable to resolve symbol: mean in this context\"\u001b[2m,\u001b[22m\n             \u001b[36m:at\u001b[m \u001b[2m[\u001b[22mclojure.lang.Util runtimeException \"Util.java\" 221\u001b[2m]\u001b[22m\u001b[2m}\u001b[22m\u001b[2m]\u001b[22m\u001b[2m,\u001b[22m\n      \u001b[36m:trace\u001b[m \u001b[2m[\u001b[22m\u001b[2m[\u001b[22mclojure.lang.Util runtimeException \"Util.java\" 221\u001b[2m]\u001b[22m\n              \u001b[2m[\u001b[22mclojure.lang.Compiler resolveIn \"Compiler.java\" 7413\u001b[2m]\u001b[22m\n              \u001b[2m[\u001b[22mclojure.lang.Compiler resolve \"Compiler.java\" 7357\u001b[2m]\u001b[22m\n              \u001b[2m[\u001b[22mclojure.lang.Compiler analyzeSymbol \"Compiler.java\" 7318\u001b[2m]\u001b[22m\n              \u001b[2m[\u001b[22mclojure.lang.Compiler analyze \"Compiler.java\" 6768\u001b[2m]\u001b[22m\n              \u001b[2m[\u001b[22mclojure.lang.Compiler analyze \"Compiler.java\" 6745\u001b[2m]\u001b[22m\n              \u001b[2m[\u001b[22mclojure.lang.Compiler$InvokeExpr parse \"Compiler.java\" 3820\u001b[2m]\u001b[22m\n              \u001b[2m[\u001b[22mclojure.lang.Compiler analyzeSeq \"Compiler.java\" 7108\u001b[2m]\u001b[22m \u001b[4m/191\u001b[m\u001b[2m]\u001b[22m\u001b[2m,\u001b[22m\n      \u001b[4m/192\u001b[m\u001b[2m}\u001b[22m\n   \u001b[4m/193\u001b[m\u001b[2m]\u001b[22m\n"
     ]
    }
   ],
   "source": [
    "(mean 4)"
   ]
  },
  {
   "cell_type": "code",
   "execution_count": 117,
   "metadata": {},
   "outputs": [
    {
     "ename": "Oops",
     "evalue": "",
     "output_type": "error",
     "traceback": [
      "Exception while evaluating the expression.",
      "#unrepl/browsable\n  \u001b[2m[\u001b[22m\u001b[31m#error\u001b[m \u001b[2m{\u001b[22m\u001b[36m:via\u001b[m \u001b[2m[\u001b[22m\u001b[2m{\u001b[22m\u001b[36m:type\u001b[m java.lang.IllegalArgumentException\u001b[2m,\u001b[22m\n                  \u001b[36m:message\u001b[m \"Don't know how to create ISeq from: java.lang.Long\"\u001b[2m,\u001b[22m\n                  \u001b[36m:at\u001b[m \u001b[2m[\u001b[22mclojure.lang.RT seqFrom \"RT.java\" 553\u001b[2m]\u001b[22m\u001b[2m}\u001b[22m\u001b[2m]\u001b[22m\u001b[2m,\u001b[22m\n           \u001b[36m:trace\u001b[m \u001b[2m[\u001b[22m\u001b[2m[\u001b[22mclojure.lang.RT seqFrom \"RT.java\" 553\u001b[2m]\u001b[22m\n                   \u001b[2m[\u001b[22mclojure.lang.RT seq \"RT.java\" 533\u001b[2m]\u001b[22m\n                   \u001b[2m[\u001b[22mclojure.core$seq__5387 invokeStatic \"core.clj\" 137\u001b[2m]\u001b[22m\n                   \u001b[2m[\u001b[22mclojure.core.protocols$seq_reduce\n                    invokeStatic \"protocols.clj\" 24\u001b[2m]\u001b[22m\n                   \u001b[2m[\u001b[22mclojure.core.protocols$fn__8121\n                    invokeStatic \"protocols.clj\" 75\u001b[2m]\u001b[22m\n                   \u001b[2m[\u001b[22mclojure.core.protocols$fn__8121 invoke \"protocols.clj\" 75\u001b[2m]\u001b[22m\n                   \u001b[2m[\u001b[22mclojure.core.protocols$fn__8073$G__8068__8086\n                    invoke \"protocols.clj\" 13\u001b[2m]\u001b[22m\n                   \u001b[2m[\u001b[22mclojure.core$transduce invokeStatic \"core.clj\" 6884\u001b[2m]\u001b[22m\n                   \u001b[2m[\u001b[22mclojure.core$transduce invokeStatic \"core.clj\" 6879\u001b[2m]\u001b[22m\n                   \u001b[2m[\u001b[22mclojure.core$transduce invoke \"core.clj\" 6870\u001b[2m]\u001b[22m \u001b[4m/205\u001b[m\u001b[2m]\u001b[22m\u001b[2m,\u001b[22m\n           \u001b[36m:cause\u001b[m \"Don't know how to create ISeq from: java.lang.Long\"\u001b[2m}\u001b[22m\n   \u001b[4m/206\u001b[m\u001b[2m]\u001b[22m\n"
     ]
    }
   ],
   "source": [
    "(transduce identity kixi/mean  3)"
   ]
  },
  {
   "cell_type": "code",
   "execution_count": null,
   "metadata": {},
   "outputs": [],
   "source": []
  },
  {
   "cell_type": "code",
   "execution_count": null,
   "metadata": {},
   "outputs": [],
   "source": []
  },
  {
   "cell_type": "code",
   "execution_count": null,
   "metadata": {},
   "outputs": [],
   "source": []
  },
  {
   "cell_type": "code",
   "execution_count": null,
   "metadata": {},
   "outputs": [],
   "source": []
  },
  {
   "cell_type": "code",
   "execution_count": null,
   "metadata": {},
   "outputs": [],
   "source": []
  },
  {
   "cell_type": "code",
   "execution_count": null,
   "metadata": {},
   "outputs": [],
   "source": []
  },
  {
   "cell_type": "markdown",
   "metadata": {},
   "source": [
    "# snippets"
   ]
  },
  {
   "cell_type": "code",
   "execution_count": null,
   "metadata": {},
   "outputs": [],
   "source": [
    "(defn desc [col]\n",
    "  [:desc col])\n",
    "\n",
    "(defn compare-by [& cols]\n",
    "  (let [cols (mapv (fn [col]\n",
    "                    (if (keyword? col)\n",
    "                      [:asc col]\n",
    "                      col))\n",
    "                  cols)]\n",
    "    (fn [x y]\n",
    "      (* -1 (or (some (fn [[direction col-fn]]\n",
    "                        (let [x' (col-fn x)\n",
    "                              y' (col-fn y) \n",
    "                              res (compare x' y')]\n",
    "                          (when-not (zero? res)\n",
    "                            (if (or (nil? x')\n",
    "                                    (nil? y'))\n",
    "                              -1\n",
    "                              (if (= direction :asc)\n",
    "                                res\n",
    "                                (* res -1))))))\n",
    "                      cols)\n",
    "                0)))))\n",
    "\n",
    "(sort (compare-by :a (desc :b)) [{:a 3 :b 3} {:a 2 :b 4}{:a nil :b 4} {:a nil :b nil} {:a nil :b 5}])"
   ]
  },
  {
   "cell_type": "code",
   "execution_count": null,
   "metadata": {},
   "outputs": [],
   "source": []
  },
  {
   "cell_type": "code",
   "execution_count": null,
   "metadata": {},
   "outputs": [],
   "source": []
  },
  {
   "cell_type": "code",
   "execution_count": 207,
   "metadata": {},
   "outputs": [
    {
     "data": {
      "application/octet-stream": null,
      "text/iclojure-html": [
       "<ul><li class=seq>(<ul><li class=map>{<ul><li><ul><li class=keyword>:name<li class=space> <li class='string'>\"hogle\"<li class=trail>,</ul><li class=space> <li><ul><li class=keyword>:cost<li class=space> <li class='misc'>5</ul><li class=trail>}</ul><li class=space> <li class=map>{<ul><li><ul><li class=keyword>:name<li class=space> <li class='string'>\"minsun\"<li class=trail>,</ul><li class=space> <li><ul><li class=keyword>:cost<li class=space> <li class='misc'>nil</ul><li class=trail>}</ul><li class=trail>)</ul></ul>"
      ],
      "text/plain": [
       "\u001b[2m(\u001b[22m\u001b[2m{\u001b[22m\u001b[36m:name\u001b[m \"hogle\"\u001b[2m,\u001b[22m \u001b[36m:cost\u001b[m 5\u001b[2m}\u001b[22m \u001b[2m{\u001b[22m\u001b[36m:name\u001b[m \"minsun\"\u001b[2m,\u001b[22m \u001b[36m:cost\u001b[m nil\u001b[2m}\u001b[22m\u001b[2m)\u001b[22m\n"
      ]
     },
     "execution_count": 207,
     "metadata": {},
     "output_type": "execute_result"
    }
   ],
   "source": [
    "(def sample [{:name \"minsun\" :device \"iphone6\" :cost nil}\n",
    "                    {:name \"hogle\" :device \"iphone7 matte black\" :cost 5}])\n",
    "\n",
    "(sort-by :name (clojure.set/project sample [:name :cost]))"
   ]
  },
  {
   "cell_type": "code",
   "execution_count": 206,
   "metadata": {},
   "outputs": [
    {
     "data": {
      "application/octet-stream": null,
      "text/iclojure-html": [
       "<ul><li class=seq>(<ul><li class='string'>\"hogle\"<li class=space> <li class='string'>\"minsun\"<li class=trail>)</ul></ul>"
      ],
      "text/plain": [
       "\u001b[2m(\u001b[22m\"hogle\" \"minsun\"\u001b[2m)\u001b[22m\n"
      ]
     },
     "execution_count": 206,
     "metadata": {},
     "output_type": "execute_result"
    }
   ],
   "source": [
    "(sort (map :name sample))"
   ]
  },
  {
   "cell_type": "code",
   "execution_count": null,
   "metadata": {},
   "outputs": [],
   "source": []
  },
  {
   "cell_type": "code",
   "execution_count": null,
   "metadata": {},
   "outputs": [],
   "source": [
    "(defn select-cols\n",
    "  [cols df]\n",
    "  (map (juxtm (plumbing.core/map-from-keys ->keyfn cols)) df))\n"
   ]
  },
  {
   "cell_type": "code",
   "execution_count": 24,
   "metadata": {},
   "outputs": [
    {
     "data": {
      "text/iclojure-html": [
       "<ul><li class=browsable><ul><li class=var>#'user/juxtm<li class=browser><li class=elision data-expr='(unrepl.repl$p8QhJwTpu2S19yqqZbyXWLOYcI8/fetch :G__41465)'>…</ul></ul>"
      ],
      "text/plain": [
       "#unrepl/browsable \u001b[2m[\u001b[22m#'user/juxtm \u001b[4m/17\u001b[m\u001b[2m]\u001b[22m\n"
      ]
     },
     "execution_count": 24,
     "metadata": {},
     "output_type": "execute_result"
    }
   ],
   "source": [
    "(defn juxtm\n",
    "  [m]\n",
    "  (fn [& args]\n",
    "    (plumbing.core/map-vals #(apply % args) m)))\n"
   ]
  },
  {
   "cell_type": "code",
   "execution_count": null,
   "metadata": {},
   "outputs": [],
   "source": []
  },
  {
   "cell_type": "code",
   "execution_count": 26,
   "metadata": {},
   "outputs": [
    {
     "ename": "Oops",
     "evalue": "",
     "output_type": "error",
     "traceback": [
      "Exception while doing something unexpected.",
      "#unrepl/browsable\n  \u001b[2m[\u001b[22m\u001b[31m#error\u001b[m\n     \u001b[2m{\u001b[22m\u001b[36m:via\u001b[m \u001b[2m[\u001b[22m\u001b[2m{\u001b[22m\u001b[36m:type\u001b[m clojure.lang.Compiler$CompilerException\u001b[2m,\u001b[22m\n             \u001b[36m:message\u001b[m \"Syntax error compiling at (unrepl-reader-749:1:1).\"\u001b[2m,\u001b[22m\n             \u001b[36m:data\u001b[m \u001b[2m{\u001b[22m\u001b[36m:clojure.error/phase\u001b[m \u001b[36m:compile-syntax-check\u001b[m\u001b[2m,\u001b[22m\n                    \u001b[36m:clojure.error/line\u001b[m 1\u001b[2m,\u001b[22m \u001b[36m:clojure.error/column\u001b[m 1\u001b[2m,\u001b[22m\n                    \u001b[36m:clojure.error/source\u001b[m \"unrepl-reader-749\"\u001b[2m}\u001b[22m\u001b[2m,\u001b[22m\n             \u001b[36m:at\u001b[m \u001b[2m[\u001b[22mclojure.lang.Compiler analyze \"Compiler.java\" 6808\u001b[2m]\u001b[22m\u001b[2m}\u001b[22m\n            \u001b[2m{\u001b[22m\u001b[36m:type\u001b[m java.lang.RuntimeException\u001b[2m,\u001b[22m\n             \u001b[36m:message\u001b[m \"Unable to resolve symbol: ->keyfn in this context\"\u001b[2m,\u001b[22m\n             \u001b[36m:at\u001b[m \u001b[2m[\u001b[22mclojure.lang.Util runtimeException \"Util.java\" 221\u001b[2m]\u001b[22m\u001b[2m}\u001b[22m\u001b[2m]\u001b[22m\u001b[2m,\u001b[22m\n      \u001b[36m:trace\u001b[m \u001b[2m[\u001b[22m\u001b[2m[\u001b[22mclojure.lang.Util runtimeException \"Util.java\" 221\u001b[2m]\u001b[22m\n              \u001b[2m[\u001b[22mclojure.lang.Compiler resolveIn \"Compiler.java\" 7413\u001b[2m]\u001b[22m\n              \u001b[2m[\u001b[22mclojure.lang.Compiler resolve \"Compiler.java\" 7357\u001b[2m]\u001b[22m\n              \u001b[2m[\u001b[22mclojure.lang.Compiler analyzeSymbol \"Compiler.java\" 7318\u001b[2m]\u001b[22m\n              \u001b[2m[\u001b[22mclojure.lang.Compiler analyze \"Compiler.java\" 6768\u001b[2m]\u001b[22m\n              \u001b[2m[\u001b[22mclojure.lang.Compiler analyze \"Compiler.java\" 6745\u001b[2m]\u001b[22m\n              \u001b[2m[\u001b[22mclojure.lang.Compiler$InvokeExpr parse \"Compiler.java\" 3820\u001b[2m]\u001b[22m\n              \u001b[2m[\u001b[22mclojure.lang.Compiler analyzeSeq \"Compiler.java\" 7108\u001b[2m]\u001b[22m \u001b[4m/21\u001b[m\u001b[2m]\u001b[22m\u001b[2m,\u001b[22m\n      \u001b[4m/22\u001b[m\u001b[2m}\u001b[22m\n   \u001b[4m/23\u001b[m\u001b[2m]\u001b[22m\n"
     ]
    }
   ],
   "source": [
    "(->keyfn \"hi\")"
   ]
  },
  {
   "cell_type": "code",
   "execution_count": 59,
   "metadata": {},
   "outputs": [
    {
     "name": "stdout",
     "output_type": "stream",
     "text": [
      "\n"
     ]
    },
    {
     "data": {
      "application/octet-stream": null,
      "text/iclojure-html": [
       "<ul><li class='misc'>nil</ul>"
      ],
      "text/plain": [
       "nil\n"
      ]
     },
     "execution_count": 59,
     "metadata": {},
     "output_type": "execute_result"
    }
   ],
   "source": [
    "(println (str (:a {:a nil})))"
   ]
  },
  {
   "cell_type": "code",
   "execution_count": 68,
   "metadata": {},
   "outputs": [
    {
     "data": {
      "application/octet-stream": null,
      "text/iclojure-html": [
       "<ul><li class='misc'>0</ul>"
      ],
      "text/plain": [
       "0\n"
      ]
     },
     "execution_count": 68,
     "metadata": {},
     "output_type": "execute_result"
    }
   ],
   "source": [
    "(compare nil nil)"
   ]
  },
  {
   "cell_type": "code",
   "execution_count": 53,
   "metadata": {},
   "outputs": [
    {
     "data": {
      "application/octet-stream": null,
      "text/iclojure-html": [
       "<ul><li class='misc'>true</ul>"
      ],
      "text/plain": [
       "true\n"
      ]
     },
     "execution_count": 53,
     "metadata": {},
     "output_type": "execute_result"
    }
   ],
   "source": [
    "(some nil? [a b])"
   ]
  },
  {
   "cell_type": "code",
   "execution_count": 47,
   "metadata": {},
   "outputs": [
    {
     "data": {
      "application/octet-stream": null,
      "text/iclojure-html": [
       "<ul><li class=seq>(<ul><li class=map>{<ul><li><ul><li class=keyword>:a<li class=space> <li class='misc'>nil<li class=trail>,</ul><li class=space> <li><ul><li class=keyword>:b<li class=space> <li class='misc'>4</ul><li class=trail>}</ul><li class=space> <li class=map>{<ul><li><ul><li class=keyword>:a<li class=space> <li class='misc'>2<li class=trail>,</ul><li class=space> <li><ul><li class=keyword>:b<li class=space> <li class='misc'>4</ul><li class=trail>}</ul><li class=space> <li class=map>{<ul><li><ul><li class=keyword>:a<li class=space> <li class='misc'>3<li class=trail>,</ul><li class=space> <li><ul><li class=keyword>:b<li class=space> <li class='misc'>3</ul><li class=trail>}</ul><li class=trail>)</ul></ul>"
      ],
      "text/plain": [
       "\u001b[2m(\u001b[22m\u001b[2m{\u001b[22m\u001b[36m:a\u001b[m nil\u001b[2m,\u001b[22m \u001b[36m:b\u001b[m 4\u001b[2m}\u001b[22m \u001b[2m{\u001b[22m\u001b[36m:a\u001b[m 2\u001b[2m,\u001b[22m \u001b[36m:b\u001b[m 4\u001b[2m}\u001b[22m \u001b[2m{\u001b[22m\u001b[36m:a\u001b[m 3\u001b[2m,\u001b[22m \u001b[36m:b\u001b[m 3\u001b[2m}\u001b[22m\u001b[2m)\u001b[22m\n"
      ]
     },
     "execution_count": 47,
     "metadata": {},
     "output_type": "execute_result"
    }
   ],
   "source": [
    "(sort (compare-by :a asc :b desc) [{:a 3 :b 3} {:a 2 :b 4}{:a nil :b 4}])"
   ]
  },
  {
   "cell_type": "code",
   "execution_count": 42,
   "metadata": {},
   "outputs": [
    {
     "data": {
      "application/octet-stream": null,
      "text/iclojure-html": [
       "<ul><li class='misc'>true</ul>"
      ],
      "text/plain": [
       "true\n"
      ]
     },
     "execution_count": 42,
     "metadata": {},
     "output_type": "execute_result"
    }
   ],
   "source": [
    "(def a nil)\n",
    "(def b nil)\n",
    "(= nil a b)"
   ]
  },
  {
   "cell_type": "code",
   "execution_count": null,
   "metadata": {},
   "outputs": [],
   "source": [
    "Now I'd like this to extend this to be able to choose the nil last or first . Maybe change syntax to be more in line with huri? also where do you input nil-last as argument? \n",
    "is nil behaviour only defined on first comparator argument or for all , with standard behaviour of nil last??\n"
   ]
  },
  {
   "cell_type": "code",
   "execution_count": 39,
   "metadata": {},
   "outputs": [
    {
     "data": {
      "application/octet-stream": null,
      "text/iclojure-html": [
       "<ul><li class='misc'>nil</ul>"
      ],
      "text/plain": [
       "nil\n"
      ]
     },
     "execution_count": 39,
     "metadata": {},
     "output_type": "execute_result"
    }
   ],
   "source": [
    "(let [[a b & more] [2 3]] \n",
    "    (if more (println \"hello\")))"
   ]
  },
  {
   "cell_type": "code",
   "execution_count": null,
   "metadata": {},
   "outputs": [],
   "source": []
  },
  {
   "cell_type": "markdown",
   "metadata": {},
   "source": [
    "OOOOLLLDDDD\n",
    "# Goal:\n",
    "be able to sort ascending based on dep_delay, descending on something else, and choose whether nil values come first or last. \n",
    "\n",
    " I want that logic to be in comparator. \n",
    "\n",
    "2 other hack options:\n",
    "- option i used below: combine juxt and (* -1) to build a sort keyrn\n",
    "- replace (* -1) with newly derived cols that are negative of existing cols, then use juxt.  \n",
    "\n",
    "workarounds:\n",
    "- ignore nil, just filter it out\n",
    "- patch-nil with  +inf. Now it is -inf. \n",
    "\n",
    "\n",
    "# ask jeroen. "
   ]
  },
  {
   "cell_type": "markdown",
   "metadata": {},
   "source": [
    "I can't use reverse tho if I want to sort figure out how to do nil last always when sorting. make that function argument? or can I use comparator for this?? check clojure protocol for comparator out . or use patch-nil to replace with infinity. THen it becomes -infinity and get sorted last . I think that with the standard comparator (maybe > ) the value nil is treated as infinity. Look up source code of sort-by"
   ]
  },
  {
   "cell_type": "code",
   "execution_count": 27,
   "metadata": {},
   "outputs": [
    {
     "data": {
      "application/octet-stream": null,
      "text/iclojure-html": [
       "<ul><li class='misc'>-1</ul>"
      ],
      "text/plain": [
       "-1\n"
      ]
     },
     "execution_count": 27,
     "metadata": {},
     "output_type": "execute_result"
    }
   ],
   "source": [
    "(compare [nil 3] [-6 6])"
   ]
  },
  {
   "cell_type": "code",
   "execution_count": 28,
   "metadata": {},
   "outputs": [
    {
     "data": {
      "text/iclojure-html": [
       "<ul><li class=browsable><ul><li class=var>#'user/my-comp<li class=browser><li class=elision data-expr='(unrepl.repl$p8QhJwTpu2S19yqqZbyXWLOYcI8/fetch :G__41432)'>…</ul></ul>"
      ],
      "text/plain": [
       "#unrepl/browsable \u001b[2m[\u001b[22m#'user/my-comp \u001b[4m/19\u001b[m\u001b[2m]\u001b[22m\n"
      ]
     },
     "execution_count": 28,
     "metadata": {},
     "output_type": "execute_result"
    }
   ],
   "source": [
    "(defn my-comp [a b]\n",
    "    (compare b a))"
   ]
  },
  {
   "cell_type": "code",
   "execution_count": 29,
   "metadata": {},
   "outputs": [
    {
     "name": "stdout",
     "output_type": "stream",
     "text": [
      "([4 5] [2 5] [2 5] [-1 5] [-6 6] [nil 3])\n"
     ]
    },
    {
     "data": {
      "application/octet-stream": null,
      "text/iclojure-html": [
       "<ul><li class='misc'>nil</ul>"
      ],
      "text/plain": [
       "nil\n"
      ]
     },
     "execution_count": 29,
     "metadata": {},
     "output_type": "execute_result"
    }
   ],
   "source": [
    "(->> flights\n",
    "     (take 5)\n",
    "    ; (map :dep_delay)\n",
    "     (map (juxt :dep_delay :hour))\n",
    "     (cons [nil 3])\n",
    "     (sort my-comp)\n",
    "     pp/pprint)"
   ]
  },
  {
   "cell_type": "code",
   "execution_count": 14,
   "metadata": {},
   "outputs": [
    {
     "name": "stdout",
     "output_type": "stream",
     "text": [
      "\n",
      "| :day | :hour | :sched_dep_time | :tailnum | :arr_time | :sched_arr_time | :month | :dep_time | :carrier | :arr_delay | :year | :dep_delay | :origin | :flight | :distance | :air_time | :dest |                   :time_hour | :minute |\n",
      "|------+-------+-----------------+----------+-----------+-----------------+--------+-----------+----------+------------+-------+------------+---------+---------+-----------+-----------+-------+------------------------------+---------|\n",
      "|    1 |    16 |            1630 |  :N18120 |           |            1815 |      1 |           |      :EV |            |  2013 |            |    :EWR |    4308 |       416 |           |  :RDU | Tue Jan 01 22:00:00 CET 2013 |      30 |\n",
      "|    1 |    19 |            1935 |  :N3EHAA |           |            2240 |      1 |           |      :AA |            |  2013 |            |    :LGA |     791 |      1389 |           |  :DFW | Wed Jan 02 01:00:00 CET 2013 |      35 |\n",
      "|    1 |    15 |            1500 |  :N3EVAA |           |            1825 |      1 |           |      :AA |            |  2013 |            |    :LGA |    1925 |      1096 |           |  :MIA | Tue Jan 01 21:00:00 CET 2013 |       0 |\n",
      "|    1 |     6 |             600 |  :N618JB |           |             901 |      1 |           |      :B6 |            |  2013 |            |    :JFK |     125 |      1069 |           |  :FLL | Tue Jan 01 12:00:00 CET 2013 |       0 |\n"
     ]
    },
    {
     "data": {
      "application/octet-stream": null,
      "text/iclojure-html": [
       "<ul><li class='misc'>nil</ul>"
      ],
      "text/plain": [
       "nil\n"
      ]
     },
     "execution_count": 14,
     "metadata": {},
     "output_type": "execute_result"
    }
   ],
   "source": [
    "(->> flights\n",
    "     (sort-by #(some->> %\n",
    "                        :dep_delay\n",
    "                        (* -1)))\n",
    "     (take 4)\n",
    "     pp/print-table)"
   ]
  },
  {
   "cell_type": "code",
   "execution_count": 11,
   "metadata": {},
   "outputs": [
    {
     "name": "stdout",
     "output_type": "stream",
     "text": [
      "\n",
      "| :day | :hour | :sched_dep_time | :tailnum | :arr_time | :sched_arr_time | :month | :dep_time | :carrier | :arr_delay | :year | :dep_delay | :origin | :flight | :distance | :air_time | :dest |                   :time_hour | :minute |\n",
      "|------+-------+-----------------+----------+-----------+-----------------+--------+-----------+----------+------------+-------+------------+---------+---------+-----------+-----------+-------+------------------------------+---------|\n",
      "|    7 |    21 |            2123 |  :N592JB |        40 |            2352 |     12 |      2040 |      :B6 |         48 |  2013 |        -43 |    :JFK |      97 |      1626 |       265 |  :DEN | Sun Dec 08 03:00:00 CET 2013 |      23 |\n",
      "|    3 |    20 |            2055 |  :N612DL |      2240 |            2338 |      2 |      2022 |      :DL |        -58 |  2013 |        -33 |    :LGA |    1715 |      1183 |       162 |  :MSY | Mon Feb 04 02:00:00 CET 2013 |      55 |\n",
      "|   10 |    14 |            1440 |  :N825AS |      1549 |            1559 |     11 |      1408 |      :EV |        -10 |  2013 |        -32 |    :LGA |    5713 |       229 |        52 |  :IAD | Sun Nov 10 20:00:00 CET 2013 |      40 |\n",
      "|   11 |    19 |            1930 |  :N934DL |      2233 |            2243 |      1 |      1900 |      :DL |        -10 |  2013 |        -30 |    :LGA |    1435 |      1010 |       139 |  :TPA | Sat Jan 12 01:00:00 CET 2013 |      30 |\n"
     ]
    },
    {
     "data": {
      "application/octet-stream": null,
      "text/iclojure-html": [
       "<ul><li class='misc'>nil</ul>"
      ],
      "text/plain": [
       "nil\n"
      ]
     },
     "execution_count": 11,
     "metadata": {},
     "output_type": "execute_result"
    }
   ],
   "source": [
    "(->> flights\n",
    "     (filter :dep_delay)\n",
    "     ;(hc/where {:dep_delay some?})\n",
    "     (sort-by #(some->> %\n",
    "                        :dep_delay\n",
    "                        ;(* -1)\n",
    "                        ))  \n",
    "     (take 4)\n",
    "     \n",
    "     pp/print-table)"
   ]
  },
  {
   "cell_type": "markdown",
   "metadata": {},
   "source": [
    "Goal: "
   ]
  },
  {
   "cell_type": "code",
   "execution_count": null,
   "metadata": {},
   "outputs": [],
   "source": [
    "(defn my-comparator [a b]\n",
    "    (cond\n",
    "        \n",
    "        ))"
   ]
  },
  {
   "cell_type": "code",
   "execution_count": 87,
   "metadata": {},
   "outputs": [
    {
     "data": {
      "application/octet-stream": null,
      "text/iclojure-html": [
       "<ul><li class='string'>\"5.8 MB\"</ul>"
      ],
      "text/plain": [
       "\"5.8 MB\"\n"
      ]
     },
     "execution_count": 87,
     "metadata": {},
     "output_type": "execute_result"
    }
   ],
   "source": [
    "(mm/measure flights10k2)"
   ]
  },
  {
   "cell_type": "code",
   "execution_count": 55,
   "metadata": {},
   "outputs": [
    {
     "data": {
      "application/octet-stream": null,
      "text/iclojure-html": [
       "<ul><li class=seq>(<ul><li class='string'>\"N14228\"<li class=space> <li class='string'>\"N24211\"<li class=space> <li class='string'>\"N619AA\"<li class=space> <li class='string'>\"N804JB\"<li class=space> <li class='string'>\"N668DN\"<li class=space> <li class='string'>\"N39463\"<li class=space> <li class='string'>\"N516JB\"<li class=space> <li class='string'>\"N829AS\"<li class=space> <li class='string'>\"N593JB\"<li class=space> <li class='string'>\"N3ALAA\"<li class=space> <li class=elision data-expr='(unrepl.repl$p8QhJwTpu2S19yqqZbyXWLOYcI8/fetch :G__1619)'>…<li class=trail>)</ul></ul>"
      ],
      "text/plain": [
       "\u001b[2m(\u001b[22m\"N14228\" \"N24211\" \"N619AA\" \"N804JB\" \"N668DN\"\n",
       " \"N39463\" \"N516JB\" \"N829AS\" \"N593JB\" \"N3ALAA\" \u001b[4m/69\u001b[m\u001b[2m)\u001b[22m\n"
      ]
     },
     "execution_count": 55,
     "metadata": {},
     "output_type": "execute_result"
    }
   ],
   "source": [
    " (map :tailnum flights10k2)"
   ]
  },
  {
   "cell_type": "code",
   "execution_count": 84,
   "metadata": {},
   "outputs": [
    {
     "ename": "Oops",
     "evalue": "",
     "output_type": "error",
     "traceback": [
      "Exception while doing something unexpected.",
      "#unrepl/browsable\n  \u001b[2m[\u001b[22m\u001b[31m#error\u001b[m\n     \u001b[2m{\u001b[22m\u001b[36m:via\u001b[m \u001b[2m[\u001b[22m\u001b[2m{\u001b[22m\u001b[36m:type\u001b[m clojure.lang.Compiler$CompilerException\u001b[2m,\u001b[22m\n             \u001b[36m:message\u001b[m \"Syntax error compiling at (unrepl-reader-749:82:1).\"\u001b[2m,\u001b[22m\n             \u001b[36m:data\u001b[m \u001b[2m{\u001b[22m\u001b[36m:clojure.error/phase\u001b[m \u001b[36m:compile-syntax-check\u001b[m\u001b[2m,\u001b[22m\n                    \u001b[36m:clojure.error/line\u001b[m 82\u001b[2m,\u001b[22m \u001b[36m:clojure.error/column\u001b[m 1\u001b[2m,\u001b[22m\n                    \u001b[36m:clojure.error/source\u001b[m \"unrepl-reader-749\"\u001b[2m}\u001b[22m\u001b[2m,\u001b[22m\n             \u001b[36m:at\u001b[m \u001b[2m[\u001b[22mclojure.lang.Compiler analyze \"Compiler.java\" 6808\u001b[2m]\u001b[22m\u001b[2m}\u001b[22m\n            \u001b[2m{\u001b[22m\u001b[36m:type\u001b[m java.lang.RuntimeException\u001b[2m,\u001b[22m\n             \u001b[36m:message\u001b[m \"Unable to resolve symbol: date-formatter in this context\"\u001b[2m,\u001b[22m\n             \u001b[36m:at\u001b[m \u001b[2m[\u001b[22mclojure.lang.Util runtimeException \"Util.java\" 221\u001b[2m]\u001b[22m\u001b[2m}\u001b[22m\u001b[2m]\u001b[22m\u001b[2m,\u001b[22m\n      \u001b[36m:trace\u001b[m \u001b[2m[\u001b[22m\u001b[2m[\u001b[22mclojure.lang.Util runtimeException \"Util.java\" 221\u001b[2m]\u001b[22m\n              \u001b[2m[\u001b[22mclojure.lang.Compiler resolveIn \"Compiler.java\" 7413\u001b[2m]\u001b[22m\n              \u001b[2m[\u001b[22mclojure.lang.Compiler resolve \"Compiler.java\" 7357\u001b[2m]\u001b[22m\n              \u001b[2m[\u001b[22mclojure.lang.Compiler analyzeSymbol \"Compiler.java\" 7318\u001b[2m]\u001b[22m\n              \u001b[2m[\u001b[22mclojure.lang.Compiler analyze \"Compiler.java\" 6768\u001b[2m]\u001b[22m\n              \u001b[2m[\u001b[22mclojure.lang.Compiler analyze \"Compiler.java\" 6745\u001b[2m]\u001b[22m\n              \u001b[2m[\u001b[22mclojure.lang.Compiler$InvokeExpr parse \"Compiler.java\" 3888\u001b[2m]\u001b[22m\n              \u001b[2m[\u001b[22mclojure.lang.Compiler analyzeSeq \"Compiler.java\" 7108\u001b[2m]\u001b[22m \u001b[4m/95\u001b[m\u001b[2m]\u001b[22m\u001b[2m,\u001b[22m\n      \u001b[4m/96\u001b[m\u001b[2m}\u001b[22m\n   \u001b[4m/97\u001b[m\u001b[2m]\u001b[22m\n"
     ]
    }
   ],
   "source": [
    "(f/unparse date-formatter (c/to-date-time \"2013-01-08T04:00:00Z\"))"
   ]
  },
  {
   "cell_type": "code",
   "execution_count": 75,
   "metadata": {},
   "outputs": [
    {
     "data": {
      "application/octet-stream": null,
      "text/iclojure-html": [
       "<ul><li class=map>{<ul><li><ul><li class='string'>\"2013-01-07T00:00:00Z\"<li class=space> <li class='misc'>59</ul><li class=space>, <li><ul><li class='string'>\"2013-01-08T04:00:00Z\"<li class=space> <li class='misc'>2</ul><li class=space>, <li><ul><li class='string'>\"2013-01-06T12:00:00Z\"<li class=space> <li class='misc'>44</ul><li class=space>, <li><ul><li class='string'>\"2013-01-05T15:00:00Z\"<li class=space> <li class='misc'>34</ul><li class=space>, <li><ul><li class='string'>\"2013-01-11T20:00:00Z\"<li class=space> <li class='misc'>67</ul><li class=space>, <li><ul><li class='string'>\"2013-01-02T12:00:00Z\"<li class=space> <li class='misc'>59</ul><li class=space>, <li><ul><li class='string'>\"2013-01-08T15:00:00Z\"<li class=space> <li class='misc'>41</ul><li class=space>, <li><ul><li class='string'>\"2013-01-02T15:00:00Z\"<li class=space> <li class='misc'>47</ul><li class=space>, <li><ul><li class='string'>\"2013-01-08T00:00:00Z\"<li class=space> <li class='misc'>58</ul><li class=space>, <li><ul><li class='string'>\"2013-01-11T03:00:00Z\"<li class=space> <li class='misc'>7</ul><li class=space>, <li class=elision data-expr='(unrepl.repl$p8QhJwTpu2S19yqqZbyXWLOYcI8/fetch :G__1801)'>…<li class=trail>}</ul></ul>"
      ],
      "text/plain": [
       "\u001b[2m{\u001b[22m\"2013-01-07T00:00:00Z\" 59\u001b[2m,\u001b[22m \"2013-01-08T04:00:00Z\" 2\u001b[2m,\u001b[22m\n",
       " \"2013-01-06T12:00:00Z\" 44\u001b[2m,\u001b[22m \"2013-01-05T15:00:00Z\" 34\u001b[2m,\u001b[22m\n",
       " \"2013-01-11T20:00:00Z\" 67\u001b[2m,\u001b[22m \"2013-01-02T12:00:00Z\" 59\u001b[2m,\u001b[22m\n",
       " \"2013-01-08T15:00:00Z\" 41\u001b[2m,\u001b[22m \"2013-01-02T15:00:00Z\" 47\u001b[2m,\u001b[22m\n",
       " \"2013-01-08T00:00:00Z\" 58\u001b[2m,\u001b[22m \"2013-01-11T03:00:00Z\" 7\u001b[2m,\u001b[22m \u001b[4m/87\u001b[m\u001b[2m}\u001b[22m\n"
      ]
     },
     "execution_count": 75,
     "metadata": {},
     "output_type": "execute_result"
    }
   ],
   "source": [
    " (->> flights10k2 (map :time_hour ) frequencies )"
   ]
  },
  {
   "cell_type": "code",
   "execution_count": null,
   "metadata": {},
   "outputs": [],
   "source": [
    "(def flights \n",
    "    (with-open [reader (io/reader \"flights.csv\")]\n",
    "        (->> reader\n",
    "             csv/read-csv\n",
    "           ;  (take 400000)\n",
    "             sc/mappify\n",
    "             doall)))"
   ]
  },
  {
   "cell_type": "markdown",
   "metadata": {},
   "source": [
    "Even though flights.csv is just 30 mb I get ``` {:type java.lang.OutOfMemoryError, :message \"GC overhead limit exceeded\"```"
   ]
  },
  {
   "cell_type": "code",
   "execution_count": 9,
   "metadata": {},
   "outputs": [
    {
     "data": {
      "application/octet-stream": null,
      "text/iclojure-html": [
       "<ul><li class=vector>[<ul><li class='string'>\"2013\"<li class=space> <li class='string'>\"8\"<li class=space> <li class='string'>\"21\"<li class=space> <li class='string'>\"NA\"<li class=space> <li class='string'>\"1735\"<li class=space> <li class='string'>\"NA\"<li class=space> <li class='string'>\"NA\"<li class=space> <li class='string'>\"1938\"<li class=space> <li class='string'>\"NA\"<li class=space> <li class='string'>\"YV\"<li class=space> <li class=elision data-expr='(unrepl.repl$p8QhJwTpu2S19yqqZbyXWLOYcI8/fetch :G__1158)'>…<li class=trail>]</ul></ul>"
      ],
      "text/plain": [
       "\u001b[2m[\u001b[22m\"2013\" \"8\" \"21\" \"NA\" \"1735\" \"NA\" \"NA\" \"1938\" \"NA\" \"YV\" \u001b[4m/8\u001b[m\u001b[2m]\u001b[22m\n"
      ]
     },
     "execution_count": 9,
     "metadata": {},
     "output_type": "execute_result"
    }
   ],
   "source": [
    "(nth flights 300000)"
   ]
  },
  {
   "cell_type": "code",
   "execution_count": 208,
   "metadata": {},
   "outputs": [
    {
     "name": "stdout",
     "output_type": "stream",
     "text": [
      "\n",
      "| :day | :hour | :sched_dep_time | :tailnum | :arr_time | :sched_arr_time | :month | :dep_time | :carrier | :arr_delay | :year | :dep_delay | :origin | :flight | :distance | :air_time | :dest |                   :time_hour | :minute |\n",
      "|------+-------+-----------------+----------+-----------+-----------------+--------+-----------+----------+------------+-------+------------+---------+---------+-----------+-----------+-------+------------------------------+---------|\n",
      "|    1 |     5 |             515 |  :N14228 |       830 |             819 |      1 |       517 |      :UA |         11 |  2013 |          2 |    :EWR |    1545 |      1400 |       227 |  :IAH | Tue Jan 01 11:00:00 CET 2013 |      15 |\n",
      "|    1 |     5 |             529 |  :N24211 |       850 |             830 |      1 |       533 |      :UA |         20 |  2013 |          4 |    :LGA |    1714 |      1416 |       227 |  :IAH | Tue Jan 01 11:00:00 CET 2013 |      29 |\n",
      "|    1 |     5 |             540 |  :N619AA |       923 |             850 |      1 |       542 |      :AA |         33 |  2013 |          2 |    :JFK |    1141 |      1089 |       160 |  :MIA | Tue Jan 01 11:00:00 CET 2013 |      40 |\n",
      "|    1 |     5 |             545 |  :N804JB |      1004 |            1022 |      1 |       544 |      :B6 |        -18 |  2013 |         -1 |    :JFK |     725 |      1576 |       183 |  :BQN | Tue Jan 01 11:00:00 CET 2013 |      45 |\n",
      "|    1 |     6 |             600 |  :N668DN |       812 |             837 |      1 |       554 |      :DL |        -25 |  2013 |         -6 |    :LGA |     461 |       762 |       116 |  :ATL | Tue Jan 01 12:00:00 CET 2013 |       0 |\n"
     ]
    },
    {
     "data": {
      "application/octet-stream": null,
      "text/iclojure-html": [
       "<ul><li class='misc'>nil</ul>"
      ],
      "text/plain": [
       "nil\n"
      ]
     },
     "execution_count": 208,
     "metadata": {},
     "output_type": "execute_result"
    }
   ],
   "source": [
    "(clojure.pprint/print-table (take 5 flights))"
   ]
  },
  {
   "cell_type": "code",
   "execution_count": 23,
   "metadata": {},
   "outputs": [
    {
     "data": {
      "text/iclojure-html": [
       "<ul><li class=browsable><ul><li class=var>#'user/flights2<span class=browse>&#x1F50D;</span><li class=elision data-expr='(unrepl.repl$p8QhJwTpu2S19yqqZbyXWLOYcI8/fetch :G__1258)'>…</ul></ul>"
      ],
      "text/plain": [
       "#unrepl/browsable \u001b[2m[\u001b[22m#'user/flights2 \u001b[4m/46\u001b[m\u001b[2m]\u001b[22m\n"
      ]
     },
     "execution_count": 23,
     "metadata": {},
     "output_type": "execute_result"
    }
   ],
   "source": [
    "(def flights2 \n",
    "    (with-open [reader (io/reader \"flights.csv\")]\n",
    "        (->> reader\n",
    "             csv/read-csv\n",
    "             (take 1000)\n",
    "             (sc/process)\n",
    "             doall)))"
   ]
  },
  {
   "cell_type": "code",
   "execution_count": 24,
   "metadata": {},
   "outputs": [
    {
     "data": {
      "application/octet-stream": null,
      "text/iclojure-html": [
       "<ul><li class=seq>(<ul><li class=map>{<ul><li><ul><li class=keyword>:day<li class=space> <li class='string'>\"1\"</ul><li class=space>, <li><ul><li class=keyword>:hour<li class=space> <li class='string'>\"5\"</ul><li class=space>, <li><ul><li class=keyword>:sched_dep_time<li class=space> <li class='string'>\"515\"</ul><li class=space>, <li><ul><li class=keyword>:tailnum<li class=space> <li class='string'>\"N14228\"</ul><li class=space>, <li><ul><li class=keyword>:arr_time<li class=space> <li class='string'>\"830\"</ul><li class=space>, <li><ul><li class=keyword>:sched_arr_time<li class=space> <li class='string'>\"819\"</ul><li class=space>, <li><ul><li class=keyword>:month<li class=space> <li class='string'>\"1\"</ul><li class=space>, <li><ul><li class=keyword>:dep_time<li class=space> <li class='string'>\"517\"</ul><li class=space>, <li><ul><li class=keyword>:carrier<li class=space> <li class='string'>\"UA\"</ul><li class=space>, <li><ul><li class=keyword>:arr_delay<li class=space> <li class='string'>\"11\"</ul><li class=space>, <li class=elision data-expr='(unrepl.repl$p8QhJwTpu2S19yqqZbyXWLOYcI8/fetch :G__1265)'>…<li class=trail>}</ul><li class=space> <li class=map>{<ul><li><ul><li class=keyword>:day<li class=space> <li class='string'>\"1\"</ul><li class=space>, <li><ul><li class=keyword>:hour<li class=space> <li class='string'>\"5\"</ul><li class=space>, <li><ul><li class=keyword>:sched_dep_time<li class=space> <li class='string'>\"529\"</ul><li class=space>, <li><ul><li class=keyword>:tailnum<li class=space> <li class='string'>\"N24211\"</ul><li class=space>, <li><ul><li class=keyword>:arr_time<li class=space> <li class='string'>\"850\"</ul><li class=space>, <li><ul><li class=keyword>:sched_arr_time<li class=space> <li class='string'>\"830\"</ul><li class=space>, <li><ul><li class=keyword>:month<li class=space> <li class='string'>\"1\"</ul><li class=space>, <li><ul><li class=keyword>:dep_time<li class=space> <li class='string'>\"533\"</ul><li class=space>, <li><ul><li class=keyword>:carrier<li class=space> <li class='string'>\"UA\"</ul><li class=space>, <li><ul><li class=keyword>:arr_delay<li class=space> <li class='string'>\"20\"</ul><li class=space>, <li class=elision data-expr='(unrepl.repl$p8QhJwTpu2S19yqqZbyXWLOYcI8/fetch :G__1266)'>…<li class=trail>}</ul><li class=space> <li class=map>{<ul><li><ul><li class=keyword>:day<li class=space> <li class='string'>\"1\"</ul><li class=space>, <li><ul><li class=keyword>:hour<li class=space> <li class='string'>\"5\"</ul><li class=space>, <li><ul><li class=keyword>:sched_dep_time<li class=space> <li class='string'>\"540\"</ul><li class=space>, <li><ul><li class=keyword>:tailnum<li class=space> <li class='string'>\"N619AA\"</ul><li class=space>, <li><ul><li class=keyword>:arr_time<li class=space> <li class='string'>\"923\"</ul><li class=space>, <li><ul><li class=keyword>:sched_arr_time<li class=space> <li class='string'>\"850\"</ul><li class=space>, <li><ul><li class=keyword>:month<li class=space> <li class='string'>\"1\"</ul><li class=space>, <li><ul><li class=keyword>:dep_time<li class=space> <li class='string'>\"542\"</ul><li class=space>, <li><ul><li class=keyword>:carrier<li class=space> <li class='string'>\"AA\"</ul><li class=space>, <li><ul><li class=keyword>:arr_delay<li class=space> <li class='string'>\"33\"</ul><li class=space>, <li class=elision data-expr='(unrepl.repl$p8QhJwTpu2S19yqqZbyXWLOYcI8/fetch :G__1267)'>…<li class=trail>}</ul><li class=space> <li class=map>{<ul><li><ul><li class=keyword>:day<li class=space> <li class='string'>\"1\"</ul><li class=space>, <li><ul><li class=keyword>:hour<li class=space> <li class='string'>\"5\"</ul><li class=space>, <li><ul><li class=keyword>:sched_dep_time<li class=space> <li class='string'>\"545\"</ul><li class=space>, <li><ul><li class=keyword>:tailnum<li class=space> <li class='string'>\"N804JB\"</ul><li class=space>, <li><ul><li class=keyword>:arr_time<li class=space> <li class='string'>\"1004\"</ul><li class=space>, <li><ul><li class=keyword>:sched_arr_time<li class=space> <li class='string'>\"1022\"</ul><li class=space>, <li class=elision data-expr='(unrepl.repl$p8QhJwTpu2S19yqqZbyXWLOYcI8/fetch :G__1268)'>…<li class=trail>}</ul><li class=space> <li class=elision data-expr='(unrepl.repl$p8QhJwTpu2S19yqqZbyXWLOYcI8/fetch :G__1269)'>…<li class=trail>)</ul></ul>"
      ],
      "text/plain": [
       "\u001b[2m(\u001b[22m\u001b[2m{\u001b[22m\u001b[36m:day\u001b[m \"1\"\u001b[2m,\u001b[22m \u001b[36m:hour\u001b[m \"5\"\u001b[2m,\u001b[22m \u001b[36m:sched_dep_time\u001b[m \"515\"\u001b[2m,\u001b[22m \u001b[36m:tailnum\u001b[m \"N14228\"\u001b[2m,\u001b[22m\n",
       "  \u001b[36m:arr_time\u001b[m \"830\"\u001b[2m,\u001b[22m \u001b[36m:sched_arr_time\u001b[m \"819\"\u001b[2m,\u001b[22m \u001b[36m:month\u001b[m \"1\"\u001b[2m,\u001b[22m\n",
       "  \u001b[36m:dep_time\u001b[m \"517\"\u001b[2m,\u001b[22m \u001b[36m:carrier\u001b[m \"UA\"\u001b[2m,\u001b[22m \u001b[36m:arr_delay\u001b[m \"11\"\u001b[2m,\u001b[22m \u001b[4m/47\u001b[m\u001b[2m}\u001b[22m\n",
       " \u001b[2m{\u001b[22m\u001b[36m:day\u001b[m \"1\"\u001b[2m,\u001b[22m \u001b[36m:hour\u001b[m \"5\"\u001b[2m,\u001b[22m \u001b[36m:sched_dep_time\u001b[m \"529\"\u001b[2m,\u001b[22m \u001b[36m:tailnum\u001b[m \"N24211\"\u001b[2m,\u001b[22m\n",
       "  \u001b[36m:arr_time\u001b[m \"850\"\u001b[2m,\u001b[22m \u001b[36m:sched_arr_time\u001b[m \"830\"\u001b[2m,\u001b[22m \u001b[36m:month\u001b[m \"1\"\u001b[2m,\u001b[22m\n",
       "  \u001b[36m:dep_time\u001b[m \"533\"\u001b[2m,\u001b[22m \u001b[36m:carrier\u001b[m \"UA\"\u001b[2m,\u001b[22m \u001b[36m:arr_delay\u001b[m \"20\"\u001b[2m,\u001b[22m \u001b[4m/48\u001b[m\u001b[2m}\u001b[22m\n",
       " \u001b[2m{\u001b[22m\u001b[36m:day\u001b[m \"1\"\u001b[2m,\u001b[22m \u001b[36m:hour\u001b[m \"5\"\u001b[2m,\u001b[22m \u001b[36m:sched_dep_time\u001b[m \"540\"\u001b[2m,\u001b[22m \u001b[36m:tailnum\u001b[m \"N619AA\"\u001b[2m,\u001b[22m\n",
       "  \u001b[36m:arr_time\u001b[m \"923\"\u001b[2m,\u001b[22m \u001b[36m:sched_arr_time\u001b[m \"850\"\u001b[2m,\u001b[22m \u001b[36m:month\u001b[m \"1\"\u001b[2m,\u001b[22m\n",
       "  \u001b[36m:dep_time\u001b[m \"542\"\u001b[2m,\u001b[22m \u001b[36m:carrier\u001b[m \"AA\"\u001b[2m,\u001b[22m \u001b[36m:arr_delay\u001b[m \"33\"\u001b[2m,\u001b[22m \u001b[4m/49\u001b[m\u001b[2m}\u001b[22m\n",
       " \u001b[2m{\u001b[22m\u001b[36m:day\u001b[m \"1\"\u001b[2m,\u001b[22m \u001b[36m:hour\u001b[m \"5\"\u001b[2m,\u001b[22m \u001b[36m:sched_dep_time\u001b[m \"545\"\u001b[2m,\u001b[22m \u001b[36m:tailnum\u001b[m \"N804JB\"\u001b[2m,\u001b[22m\n",
       "  \u001b[36m:arr_time\u001b[m \"1004\"\u001b[2m,\u001b[22m \u001b[36m:sched_arr_time\u001b[m \"1022\"\u001b[2m,\u001b[22m \u001b[4m/50\u001b[m\u001b[2m}\u001b[22m\n",
       " \u001b[4m/51\u001b[m\u001b[2m)\u001b[22m\n"
      ]
     },
     "execution_count": 24,
     "metadata": {},
     "output_type": "execute_result"
    }
   ],
   "source": [
    "flights2"
   ]
  },
  {
   "cell_type": "code",
   "execution_count": 25,
   "metadata": {},
   "outputs": [
    {
     "name": "stdout",
     "output_type": "stream",
     "text": [
      "\n",
      "| :day | :hour | :sched_dep_time | :tailnum | :arr_time | :sched_arr_time | :month | :dep_time | :carrier | :arr_delay | :year | :dep_delay | :origin | :flight | :distance | :air_time | :dest |           :time_hour | :minute |\n",
      "|------+-------+-----------------+----------+-----------+-----------------+--------+-----------+----------+------------+-------+------------+---------+---------+-----------+-----------+-------+----------------------+---------|\n",
      "|    1 |     5 |             515 |   N14228 |       830 |             819 |      1 |       517 |       UA |         11 |  2013 |          2 |     EWR |    1545 |      1400 |       227 |   IAH | 2013-01-01T10:00:00Z |      15 |\n",
      "|    1 |     5 |             529 |   N24211 |       850 |             830 |      1 |       533 |       UA |         20 |  2013 |          4 |     LGA |    1714 |      1416 |       227 |   IAH | 2013-01-01T10:00:00Z |      29 |\n",
      "|    1 |     5 |             540 |   N619AA |       923 |             850 |      1 |       542 |       AA |         33 |  2013 |          2 |     JFK |    1141 |      1089 |       160 |   MIA | 2013-01-01T10:00:00Z |      40 |\n",
      "|    1 |     5 |             545 |   N804JB |      1004 |            1022 |      1 |       544 |       B6 |        -18 |  2013 |         -1 |     JFK |     725 |      1576 |       183 |   BQN | 2013-01-01T10:00:00Z |      45 |\n",
      "|    1 |     6 |             600 |   N668DN |       812 |             837 |      1 |       554 |       DL |        -25 |  2013 |         -6 |     LGA |     461 |       762 |       116 |   ATL | 2013-01-01T11:00:00Z |       0 |\n"
     ]
    },
    {
     "data": {
      "application/octet-stream": null,
      "text/iclojure-html": [
       "<ul><li class='misc'>nil</ul>"
      ],
      "text/plain": [
       "nil\n"
      ]
     },
     "execution_count": 25,
     "metadata": {},
     "output_type": "execute_result"
    }
   ],
   "source": [
    "(clojure.pprint/print-table (take 5 flights2))"
   ]
  },
  {
   "cell_type": "code",
   "execution_count": 33,
   "metadata": {},
   "outputs": [
    {
     "data": {
      "text/iclojure-html": [
       "<ul><li class=browsable><ul><li class=var>#'user/spec<li class=browser><li class=elision data-expr='(unrepl.repl$p8QhJwTpu2S19yqqZbyXWLOYcI8/fetch :G__37381)'>…</ul></ul>"
      ],
      "text/plain": [
       "#unrepl/browsable \u001b[2m[\u001b[22m#'user/spec \u001b[4m/35\u001b[m\u001b[2m]\u001b[22m\n"
      ]
     },
     "execution_count": 33,
     "metadata": {},
     "output_type": "execute_result"
    }
   ],
   "source": [
    "(def spec\n",
    "  {:data \n",
    "   {:url \"https://vega.github.io/vega-lite/data/cars.json\"}\n",
    "   :mark \"point\"\n",
    "   :encoding {\n",
    "     :x {:field \"Horsepower\", :type \"quantitative\"}\n",
    "     :y {:field \"Miles_per_Gallon\", :type \"quantitative\"}\n",
    "     :color {:field \"Origin\", :type \"nominal\"}}})"
   ]
  },
  {
   "cell_type": "code",
   "execution_count": 5,
   "metadata": {},
   "outputs": [
    {
     "data": {
      "application/vnd.vegalite.v2+json": {
       "data": {
        "format": {
         "type": "json"
        },
        "url": "https://vega.github.io/vega-lite/data/cars.json"
       },
       "encoding": {
        "color": {
         "field": "Origin",
         "type": "nominal"
        },
        "x": {
         "field": "Horsepower",
         "type": "quantitative"
        },
        "y": {
         "field": "Miles_per_Gallon",
         "type": "quantitative"
        }
       },
       "mark": "point"
      },
      "image/png": "[encoded data removed]",
      "text/iclojure-html": [
       "<ul><li class=taglit>#<ul><li class=symbol>unrepl/mime<li class=map>{<ul><li><ul><li class=keyword>:content-type<li class=space> <li class='string'>\"application/vnd.vegalite.v2+json\"</ul><li class=space>, <li><ul><li class=keyword>:content<li class=space> <li class=map>{<ul><li><ul><li class=keyword>:data<li class=space> <li class=map>{<ul><li><ul><li class=keyword>:url<li class=space> <li class='string'>\"https://vega.github.io/vega-lite/data/cars.json\"</ul><li class=trail>}</ul></ul><li class=space>, <li><ul><li class=keyword>:mark<li class=space> <li class='string'>\"point\"</ul><li class=space>, <li><ul><li class=keyword>:encoding<li class=space> <li class=map>{<ul><li><ul><li class=keyword>:x<li class=space> <li class=map>{<ul><li><ul><li class=keyword>:field<li class=space> <li class='string'>\"Horsepower\"</ul><li class=space>, <li><ul><li class=keyword>:type<li class=space> <li class='string'>\"quantitative\"</ul><li class=trail>}</ul></ul><li class=space>, <li><ul><li class=keyword>:y<li class=space> <li class=map>{<ul><li><ul><li class=keyword>:field<li class=space> <li class='string'>\"Miles_per_Gallon\"</ul><li class=space>, <li><ul><li class=keyword>:type<li class=space> <li class='string'>\"quantitative\"</ul><li class=trail>}</ul></ul><li class=space>, <li><ul><li class=keyword>:color<li class=space> <li class=map>{<ul><li><ul><li class=keyword>:field<li class=space> <li class='string'>\"Origin\"</ul><li class=space>, <li><ul><li class=keyword>:type<li class=space> <li class='string'>\"nominal\"</ul><li class=trail>}</ul></ul><li class=trail>}</ul></ul><li class=trail>}</ul></ul><li class=trail>}</ul></ul></ul>"
      ],
      "text/plain": [
       "#unrepl/mime\n",
       "  \u001b[2m{\u001b[22m\u001b[36m:content-type\u001b[m \"application/vnd.vegalite.v2+json\"\u001b[2m,\u001b[22m\n",
       "   \u001b[36m:content\u001b[m \u001b[2m{\u001b[22m\u001b[36m:data\u001b[m \u001b[2m{\u001b[22m\u001b[36m:url\u001b[m \"https://vega.github.io/vega-lite/data/cars.json\"\u001b[2m}\u001b[22m\u001b[2m,\u001b[22m\n",
       "             \u001b[36m:mark\u001b[m \"point\"\u001b[2m,\u001b[22m\n",
       "             \u001b[36m:encoding\u001b[m \u001b[2m{\u001b[22m\u001b[36m:x\u001b[m \u001b[2m{\u001b[22m\u001b[36m:field\u001b[m \"Horsepower\"\u001b[2m,\u001b[22m \u001b[36m:type\u001b[m \"quantitative\"\u001b[2m}\u001b[22m\u001b[2m,\u001b[22m\n",
       "                        \u001b[36m:y\u001b[m \u001b[2m{\u001b[22m\u001b[36m:field\u001b[m \"Miles_per_Gallon\"\u001b[2m,\u001b[22m \u001b[36m:type\u001b[m \"quantitative\"\u001b[2m}\u001b[22m\u001b[2m,\u001b[22m\n",
       "                        \u001b[36m:color\u001b[m \u001b[2m{\u001b[22m\u001b[36m:field\u001b[m \"Origin\"\u001b[2m,\u001b[22m \u001b[36m:type\u001b[m \"nominal\"\u001b[2m}\u001b[22m\u001b[2m}\u001b[22m\u001b[2m}\u001b[22m\u001b[2m}\u001b[22m\n"
      ]
     },
     "execution_count": 5,
     "metadata": {},
     "output_type": "execute_result"
    }
   ],
   "source": [
    "(oz/view! spec)"
   ]
  },
  {
   "cell_type": "code",
   "execution_count": 34,
   "metadata": {},
   "outputs": [
    {
     "data": {
      "application/octet-stream": null,
      "text/iclojure-html": [
       "<ul><li class=map>{<ul><li><ul><li class=keyword>:data<li class=space> <li class=map>{<ul><li><ul><li class=keyword>:url<li class=space> <li class='string'>\"https://vega.github.io/vega-lite/data/cars.json\"</ul><li class=trail>}</ul><li class=trail>,</ul><li class=space> <li><ul><li class=keyword>:mark<li class=space> <li class='string'>\"point\"<li class=trail>,</ul><li class=space> <li><ul><li class=keyword>:encoding<li class=space> <li class=map>{<ul><li><ul><li class=keyword>:x<li class=space> <li class=map>{<ul><li><ul><li class=keyword>:field<li class=space> <li class='string'>\"Horsepower\"<li class=trail>,</ul><li class=space> <li><ul><li class=keyword>:type<li class=space> <li class='string'>\"quantitative\"</ul><li class=trail>}</ul><li class=trail>,</ul><li class=space> <li><ul><li class=keyword>:y<li class=space> <li class=map>{<ul><li><ul><li class=keyword>:field<li class=space> <li class='string'>\"Miles_per_Gallon\"<li class=trail>,</ul><li class=space> <li><ul><li class=keyword>:type<li class=space> <li class='string'>\"quantitative\"</ul><li class=trail>}</ul><li class=trail>,</ul><li class=space> <li><ul><li class=keyword>:color<li class=space> <li class=map>{<ul><li><ul><li class=keyword>:field<li class=space> <li class='string'>\"Origin\"<li class=trail>,</ul><li class=space> <li><ul><li class=keyword>:type<li class=space> <li class='string'>\"nominal\"</ul><li class=trail>}</ul></ul><li class=trail>}</ul></ul><li class=trail>}</ul></ul>"
      ],
      "text/plain": [
       "\u001b[2m{\u001b[22m\u001b[36m:data\u001b[m \u001b[2m{\u001b[22m\u001b[36m:url\u001b[m \"https://vega.github.io/vega-lite/data/cars.json\"\u001b[2m}\u001b[22m\u001b[2m,\u001b[22m \u001b[36m:mark\u001b[m \"point\"\u001b[2m,\u001b[22m\n",
       " \u001b[36m:encoding\u001b[m \u001b[2m{\u001b[22m\u001b[36m:x\u001b[m \u001b[2m{\u001b[22m\u001b[36m:field\u001b[m \"Horsepower\"\u001b[2m,\u001b[22m \u001b[36m:type\u001b[m \"quantitative\"\u001b[2m}\u001b[22m\u001b[2m,\u001b[22m\n",
       "            \u001b[36m:y\u001b[m \u001b[2m{\u001b[22m\u001b[36m:field\u001b[m \"Miles_per_Gallon\"\u001b[2m,\u001b[22m \u001b[36m:type\u001b[m \"quantitative\"\u001b[2m}\u001b[22m\u001b[2m,\u001b[22m\n",
       "            \u001b[36m:color\u001b[m \u001b[2m{\u001b[22m\u001b[36m:field\u001b[m \"Origin\"\u001b[2m,\u001b[22m \u001b[36m:type\u001b[m \"nominal\"\u001b[2m}\u001b[22m\u001b[2m}\u001b[22m\u001b[2m}\u001b[22m\n"
      ]
     },
     "execution_count": 34,
     "metadata": {},
     "output_type": "execute_result"
    }
   ],
   "source": [
    "spec"
   ]
  },
  {
   "cell_type": "code",
   "execution_count": 69,
   "metadata": {},
   "outputs": [
    {
     "data": {
      "text/iclojure-html": [
       "<ul><li class=browsable><ul><li class=var>#'user/data<li class=browser><li class=elision data-expr='(unrepl.repl$p8QhJwTpu2S19yqqZbyXWLOYcI8/fetch :G__41855)'>…</ul></ul>"
      ],
      "text/plain": [
       "#unrepl/browsable \u001b[2m[\u001b[22m#'user/data \u001b[4m/72\u001b[m\u001b[2m]\u001b[22m\n"
      ]
     },
     "execution_count": 69,
     "metadata": {},
     "output_type": "execute_result"
    }
   ],
   "source": [
    "(def data [{      :Miles_per_Gallon 18\n",
    "      \n",
    "      :Horsepower 130,\n",
    "     \n",
    "      :Origin \"USA\"\n",
    "   },\n",
    "   {\n",
    "\n",
    "      :Miles_per_Gallon 15,\n",
    "   \n",
    "      :Horsepower 165,\n",
    "\n",
    "      :Origin \"Japa\"\n",
    "   }])"
   ]
  },
  {
   "cell_type": "code",
   "execution_count": 70,
   "metadata": {},
   "outputs": [
    {
     "data": {
      "application/octet-stream": null,
      "text/iclojure-html": [
       "<ul><li class=vector>[<ul><li class=map>{<ul><li><ul><li class=keyword>:Miles_per_Gallon<li class=space> <li class='misc'>18<li class=trail>,</ul><li class=space> <li><ul><li class=keyword>:Horsepower<li class=space> <li class='misc'>130<li class=trail>,</ul><li class=space> <li><ul><li class=keyword>:Origin<li class=space> <li class='string'>\"USA\"</ul><li class=trail>}</ul><li class=space> <li class=map>{<ul><li><ul><li class=keyword>:Miles_per_Gallon<li class=space> <li class='misc'>15<li class=trail>,</ul><li class=space> <li><ul><li class=keyword>:Horsepower<li class=space> <li class='misc'>165<li class=trail>,</ul><li class=space> <li><ul><li class=keyword>:Origin<li class=space> <li class='string'>\"Japa\"</ul><li class=trail>}</ul><li class=trail>]</ul></ul>"
      ],
      "text/plain": [
       "\u001b[2m[\u001b[22m\u001b[2m{\u001b[22m\u001b[36m:Miles_per_Gallon\u001b[m 18\u001b[2m,\u001b[22m \u001b[36m:Horsepower\u001b[m 130\u001b[2m,\u001b[22m \u001b[36m:Origin\u001b[m \"USA\"\u001b[2m}\u001b[22m\n",
       " \u001b[2m{\u001b[22m\u001b[36m:Miles_per_Gallon\u001b[m 15\u001b[2m,\u001b[22m \u001b[36m:Horsepower\u001b[m 165\u001b[2m,\u001b[22m \u001b[36m:Origin\u001b[m \"Japa\"\u001b[2m}\u001b[22m\u001b[2m]\u001b[22m\n"
      ]
     },
     "execution_count": 70,
     "metadata": {},
     "output_type": "execute_result"
    }
   ],
   "source": [
    "data"
   ]
  },
  {
   "cell_type": "code",
   "execution_count": null,
   "metadata": {},
   "outputs": [],
   "source": []
  },
  {
   "cell_type": "code",
   "execution_count": null,
   "metadata": {},
   "outputs": [],
   "source": [
    "(def spec2\n",
    "  {:data \n",
    "   {:values data}\n",
    "   :mark \"point\"\n",
    "   :encoding {\n",
    "     :x {:field :Horsepower}\n",
    "     :y {:field :Miles_per_Gallon}\n",
    "     :color {:field :Origin}}})"
   ]
  },
  {
   "cell_type": "code",
   "execution_count": 72,
   "metadata": {},
   "outputs": [
    {
     "data": {
      "application/vnd.vegalite.v2+json": {
       "data": {
        "values": [
         {
          "Horsepower": 130,
          "Miles_per_Gallon": 18,
          "Origin": "USA"
         },
         {
          "Horsepower": 165,
          "Miles_per_Gallon": 15,
          "Origin": "Japa"
         }
        ]
       },
       "encoding": {
        "color": {
         "field": "Origin"
        },
        "x": {
         "field": "Horsepower"
        },
        "y": {
         "field": "Miles_per_Gallon"
        }
       },
       "mark": "point"
      },
      "image/png": "[encoded data removed]",
      "text/iclojure-html": [
       "<ul><li class=taglit>#<ul><li class=symbol>unrepl/mime<li class=map>{<ul><li><ul><li class=keyword>:content-type<li class=space> <li class='string'>\"application/vnd.vegalite.v2+json\"<li class=trail>,</ul><li class=space> <li><ul><li class=keyword>:content<li class=space> <li class=map>{<ul><li><ul><li class=keyword>:data<li class=space> <li class=map>{<ul><li><ul><li class=keyword>:values<li class=space> <li class=vector>[<ul><li class=map>{<ul><li><ul><li class=keyword>:Miles_per_Gallon<li class=space> <li class='misc'>18<li class=trail>,</ul><li class=space> <li><ul><li class=keyword>:Horsepower<li class=space> <li class='misc'>130<li class=trail>,</ul><li class=space> <li><ul><li class=keyword>:Origin<li class=space> <li class='string'>\"USA\"</ul><li class=trail>}</ul><li class=space> <li class=map>{<ul><li><ul><li class=keyword>:Miles_per_Gallon<li class=space> <li class='misc'>15<li class=trail>,</ul><li class=space> <li><ul><li class=keyword>:Horsepower<li class=space> <li class='misc'>165<li class=trail>,</ul><li class=space> <li><ul><li class=keyword>:Origin<li class=space> <li class='string'>\"Japa\"</ul><li class=trail>}</ul><li class=trail>]</ul></ul><li class=trail>}</ul><li class=trail>,</ul><li class=space> <li><ul><li class=keyword>:mark<li class=space> <li class='string'>\"point\"<li class=trail>,</ul><li class=space> <li><ul><li class=keyword>:encoding<li class=space> <li class=map>{<ul><li><ul><li class=keyword>:x<li class=space> <li class=map>{<ul><li><ul><li class=keyword>:field<li class=space> <li class=keyword>:Horsepower</ul><li class=trail>}</ul><li class=trail>,</ul><li class=space> <li><ul><li class=keyword>:y<li class=space> <li class=map>{<ul><li><ul><li class=keyword>:field<li class=space> <li class=keyword>:Miles_per_Gallon</ul><li class=trail>}</ul><li class=trail>,</ul><li class=space> <li><ul><li class=keyword>:color<li class=space> <li class=map>{<ul><li><ul><li class=keyword>:field<li class=space> <li class=keyword>:Origin</ul><li class=trail>}</ul></ul><li class=trail>}</ul></ul><li class=trail>}</ul></ul><li class=trail>}</ul></ul></ul>"
      ],
      "text/plain": [
       "#unrepl/mime \u001b[2m{\u001b[22m\u001b[36m:content-type\u001b[m \"application/vnd.vegalite.v2+json\"\u001b[2m,\u001b[22m\n",
       "              \u001b[36m:content\u001b[m \u001b[2m{\u001b[22m\u001b[36m:data\u001b[m \u001b[2m{\u001b[22m\u001b[36m:values\u001b[m \u001b[2m[\u001b[22m\u001b[2m{\u001b[22m\u001b[36m:Miles_per_Gallon\u001b[m 18\u001b[2m,\u001b[22m\n",
       "                                         \u001b[36m:Horsepower\u001b[m 130\u001b[2m,\u001b[22m \u001b[36m:Origin\u001b[m \"USA\"\u001b[2m}\u001b[22m\n",
       "                                        \u001b[2m{\u001b[22m\u001b[36m:Miles_per_Gallon\u001b[m 15\u001b[2m,\u001b[22m\n",
       "                                         \u001b[36m:Horsepower\u001b[m 165\u001b[2m,\u001b[22m \u001b[36m:Origin\u001b[m \"Japa\"\u001b[2m}\u001b[22m\u001b[2m]\u001b[22m\u001b[2m}\u001b[22m\u001b[2m,\u001b[22m\n",
       "                        \u001b[36m:mark\u001b[m \"point\"\u001b[2m,\u001b[22m\n",
       "                        \u001b[36m:encoding\u001b[m \u001b[2m{\u001b[22m\u001b[36m:x\u001b[m \u001b[2m{\u001b[22m\u001b[36m:field\u001b[m \u001b[36m:Horsepower\u001b[m\u001b[2m}\u001b[22m\u001b[2m,\u001b[22m\n",
       "                                   \u001b[36m:y\u001b[m \u001b[2m{\u001b[22m\u001b[36m:field\u001b[m \u001b[36m:Miles_per_Gallon\u001b[m\u001b[2m}\u001b[22m\u001b[2m,\u001b[22m\n",
       "                                   \u001b[36m:color\u001b[m \u001b[2m{\u001b[22m\u001b[36m:field\u001b[m \u001b[36m:Origin\u001b[m\u001b[2m}\u001b[22m\u001b[2m}\u001b[22m\u001b[2m}\u001b[22m\u001b[2m}\u001b[22m\n"
      ]
     },
     "execution_count": 72,
     "metadata": {},
     "output_type": "execute_result"
    }
   ],
   "source": [
    "(oz/view! spec2)"
   ]
  },
  {
   "cell_type": "code",
   "execution_count": 20,
   "metadata": {},
   "outputs": [
    {
     "data": {
      "application/vnd.vegalite.v2+json": {
       "data": {
        "values": [
         {
          "amount": 40,
          "animal": "horse"
         },
         {
          "amount": 60,
          "animal": "dog"
         }
        ]
       },
       "encoding": {
        "x": {
         "field": "amount"
        },
        "y": {
         "field": "animal",
         "type": "ordinal"
        }
       },
       "mark": "bar"
      },
      "image/png": "[encoded data removed]",
      "text/iclojure-html": [
       "<ul><li class=taglit>#<ul><li class=symbol>unrepl/mime<li class=map>{<ul><li><ul><li class=keyword>:content-type<li class=space> <li class='string'>\"application/vnd.vegalite.v2+json\"<li class=trail>,</ul><li class=space> <li><ul><li class=keyword>:content<li class=space> <li class=map>{<ul><li><ul><li class=keyword>:data<li class=space> <li class=map>{<ul><li><ul><li class=keyword>:values<li class=space> <li class=vector>[<ul><li class=map>{<ul><li><ul><li class=keyword>:animal<li class=space> <li class=keyword>:horse<li class=trail>,</ul><li class=space> <li><ul><li class=keyword>:amount<li class=space> <li class='misc'>40</ul><li class=trail>}</ul><li class=space> <li class=map>{<ul><li><ul><li class=keyword>:animal<li class=space> <li class=keyword>:dog<li class=trail>,</ul><li class=space> <li><ul><li class=keyword>:amount<li class=space> <li class='misc'>60</ul><li class=trail>}</ul><li class=trail>]</ul></ul><li class=trail>}</ul><li class=trail>,</ul><li class=space> <li><ul><li class=keyword>:mark<li class=space> <li class=keyword>:bar<li class=trail>,</ul><li class=space> <li><ul><li class=keyword>:encoding<li class=space> <li class=map>{<ul><li><ul><li class=keyword>:x<li class=space> <li class=map>{<ul><li><ul><li class=keyword>:field<li class=space> <li class=keyword>:amount</ul><li class=trail>}</ul><li class=trail>,</ul><li class=space> <li><ul><li class=keyword>:y<li class=space> <li class=map>{<ul><li><ul><li class=keyword>:field<li class=space> <li class=keyword>:animal<li class=trail>,</ul><li class=space> <li><ul><li class=keyword>:type<li class=space> <li class=keyword>:ordinal</ul><li class=trail>}</ul></ul><li class=trail>}</ul></ul><li class=trail>}</ul></ul><li class=trail>}</ul></ul></ul>"
      ],
      "text/plain": [
       "#unrepl/mime \u001b[2m{\u001b[22m\u001b[36m:content-type\u001b[m \"application/vnd.vegalite.v2+json\"\u001b[2m,\u001b[22m\n",
       "              \u001b[36m:content\u001b[m \u001b[2m{\u001b[22m\u001b[36m:data\u001b[m \u001b[2m{\u001b[22m\u001b[36m:values\u001b[m \u001b[2m[\u001b[22m\u001b[2m{\u001b[22m\u001b[36m:animal\u001b[m \u001b[36m:horse\u001b[m\u001b[2m,\u001b[22m \u001b[36m:amount\u001b[m 40\u001b[2m}\u001b[22m\n",
       "                                        \u001b[2m{\u001b[22m\u001b[36m:animal\u001b[m \u001b[36m:dog\u001b[m\u001b[2m,\u001b[22m \u001b[36m:amount\u001b[m 60\u001b[2m}\u001b[22m\u001b[2m]\u001b[22m\u001b[2m}\u001b[22m\u001b[2m,\u001b[22m\n",
       "                        \u001b[36m:mark\u001b[m \u001b[36m:bar\u001b[m\u001b[2m,\u001b[22m\n",
       "                        \u001b[36m:encoding\u001b[m \u001b[2m{\u001b[22m\u001b[36m:x\u001b[m \u001b[2m{\u001b[22m\u001b[36m:field\u001b[m \u001b[36m:amount\u001b[m\u001b[2m}\u001b[22m\u001b[2m,\u001b[22m\n",
       "                                   \u001b[36m:y\u001b[m \u001b[2m{\u001b[22m\u001b[36m:field\u001b[m \u001b[36m:animal\u001b[m\u001b[2m,\u001b[22m \u001b[36m:type\u001b[m \u001b[36m:ordinal\u001b[m\u001b[2m}\u001b[22m\u001b[2m}\u001b[22m\u001b[2m}\u001b[22m\u001b[2m}\u001b[22m\n"
      ]
     },
     "execution_count": 20,
     "metadata": {},
     "output_type": "execute_result"
    }
   ],
   "source": [
    "(oz/view! {:data {:values [{:animal :horse :amount 40}{:animal :dog :amount 60}]}\n",
    "                          :mark :bar\n",
    "                          :encoding {:x {:field :amount} \n",
    "                                     :y {:field :animal :type :ordinal}}})"
   ]
  },
  {
   "cell_type": "code",
   "execution_count": 15,
   "metadata": {},
   "outputs": [
    {
     "data": {
      "application/vnd.vegalite.v2+json": {
       "data": {
        "values": [
         {
          "amount": 40,
          "animal": "horse"
         },
         {
          "amount": 60,
          "animal": "dog"
         }
        ]
       },
       "encoding": {
        "x": {
         "field": "amount"
        },
        "y": {
         "field": "animal",
         "type": "ordinal"
        }
       },
       "mark": "bar"
      },
      "image/png": "[encoded data removed]",
      "text/iclojure-html": [
       "<ul><li class=taglit>#<ul><li class=symbol>unrepl/mime<li class=map>{<ul><li><ul><li class=keyword>:content-type<li class=space> <li class=keyword>:application/vnd.vegalite.v2+json<li class=trail>,</ul><li class=space> <li><ul><li class=keyword>:content<li class=space> <li class=map>{<ul><li><ul><li class=keyword>:data<li class=space> <li class=map>{<ul><li><ul><li class=keyword>:values<li class=space> <li class=vector>[<ul><li class=map>{<ul><li><ul><li class=keyword>:animal<li class=space> <li class=keyword>:horse<li class=trail>,</ul><li class=space> <li><ul><li class=keyword>:amount<li class=space> <li class='misc'>40</ul><li class=trail>}</ul><li class=space> <li class=map>{<ul><li><ul><li class=keyword>:animal<li class=space> <li class=keyword>:dog<li class=trail>,</ul><li class=space> <li><ul><li class=keyword>:amount<li class=space> <li class='misc'>60</ul><li class=trail>}</ul><li class=trail>]</ul></ul><li class=trail>}</ul><li class=trail>,</ul><li class=space> <li><ul><li class=keyword>:mark<li class=space> <li class=keyword>:bar<li class=trail>,</ul><li class=space> <li><ul><li class=keyword>:encoding<li class=space> <li class=map>{<ul><li><ul><li class=keyword>:x<li class=space> <li class=map>{<ul><li><ul><li class=keyword>:field<li class=space> <li class=keyword>:amount</ul><li class=trail>}</ul><li class=trail>,</ul><li class=space> <li><ul><li class=keyword>:y<li class=space> <li class=map>{<ul><li><ul><li class=keyword>:field<li class=space> <li class=keyword>:animal<li class=trail>,</ul><li class=space> <li><ul><li class=keyword>:type<li class=space> <li class=keyword>:ordinal</ul><li class=trail>}</ul></ul><li class=trail>}</ul></ul><li class=trail>}</ul></ul><li class=trail>}</ul></ul></ul>"
      ],
      "text/plain": [
       "#unrepl/mime \u001b[2m{\u001b[22m\u001b[36m:content-type\u001b[m \u001b[36m:application/vnd.vegalite.v2+json\u001b[m\u001b[2m,\u001b[22m\n",
       "              \u001b[36m:content\u001b[m \u001b[2m{\u001b[22m\u001b[36m:data\u001b[m \u001b[2m{\u001b[22m\u001b[36m:values\u001b[m \u001b[2m[\u001b[22m\u001b[2m{\u001b[22m\u001b[36m:animal\u001b[m \u001b[36m:horse\u001b[m\u001b[2m,\u001b[22m \u001b[36m:amount\u001b[m 40\u001b[2m}\u001b[22m\n",
       "                                        \u001b[2m{\u001b[22m\u001b[36m:animal\u001b[m \u001b[36m:dog\u001b[m\u001b[2m,\u001b[22m \u001b[36m:amount\u001b[m 60\u001b[2m}\u001b[22m\u001b[2m]\u001b[22m\u001b[2m}\u001b[22m\u001b[2m,\u001b[22m\n",
       "                        \u001b[36m:mark\u001b[m \u001b[36m:bar\u001b[m\u001b[2m,\u001b[22m\n",
       "                        \u001b[36m:encoding\u001b[m \u001b[2m{\u001b[22m\u001b[36m:x\u001b[m \u001b[2m{\u001b[22m\u001b[36m:field\u001b[m \u001b[36m:amount\u001b[m\u001b[2m}\u001b[22m\u001b[2m,\u001b[22m\n",
       "                                   \u001b[36m:y\u001b[m \u001b[2m{\u001b[22m\u001b[36m:field\u001b[m \u001b[36m:animal\u001b[m\u001b[2m,\u001b[22m \u001b[36m:type\u001b[m \u001b[36m:ordinal\u001b[m\u001b[2m}\u001b[22m\u001b[2m}\u001b[22m\u001b[2m}\u001b[22m\u001b[2m}\u001b[22m\n"
      ]
     },
     "execution_count": 15,
     "metadata": {},
     "output_type": "execute_result"
    }
   ],
   "source": [
    "#unrepl/mime {:content-type \"application/vnd.vegalite.v2+json\"\n",
    "              :content   {:data {:values [{:animal :horse :amount 40}{:animal :dog :amount 60}]}\n",
    "                          :mark :bar\n",
    "                          :encoding {:x {:field :amount} \n",
    "                                     :y {:field :animal :type :ordinal}}}}"
   ]
  },
  {
   "cell_type": "code",
   "execution_count": null,
   "metadata": {},
   "outputs": [],
   "source": [
    "(jtime/instant)"
   ]
  },
  {
   "cell_type": "code",
   "execution_count": 84,
   "metadata": {},
   "outputs": [
    {
     "name": "stdout",
     "output_type": "stream",
     "text": [
      "\n",
      "| :day | :hour | :sched_dep_time | :tailnum | :arr_time | :sched_arr_time | :month | :dep_time | :carrier | :arr_delay | :year | :dep_delay | :origin | :flight | :distance | :air_time | :dest |           :time_hour | :minute |\n",
      "|------+-------+-----------------+----------+-----------+-----------------+--------+-----------+----------+------------+-------+------------+---------+---------+-----------+-----------+-------+----------------------+---------|\n",
      "|    1 |     5 |             515 |   N14228 |       830 |             819 |      1 |       517 |       UA |         11 |  2013 |          2 |     EWR |    1545 |      1400 |       227 |   IAH | 2013-01-01T10:00:00Z |      15 |\n"
     ]
    },
    {
     "data": {
      "application/octet-stream": null,
      "text/iclojure-html": [
       "<ul><li class='misc'>nil</ul>"
      ],
      "text/plain": [
       "nil\n"
      ]
     },
     "execution_count": 84,
     "metadata": {},
     "output_type": "execute_result"
    }
   ],
   "source": [
    "(with-open [reader (io/reader \"flights.csv\")]\n",
    "        (->> reader\n",
    "             csv/read-csv\n",
    "             (take 2)\n",
    "             sc/mappify\n",
    "             doall\n",
    "             pp/print-table))"
   ]
  },
  {
   "cell_type": "code",
   "execution_count": 6,
   "metadata": {},
   "outputs": [
    {
     "data": {
      "text/iclojure-html": [
       "<ul><li class=browsable><ul><li class=var>#'user/flights<li class=browser><li class=elision data-expr='(unrepl.repl$p8QhJwTpu2S19yqqZbyXWLOYcI8/fetch :G__41131)'>…</ul></ul>"
      ],
      "text/plain": [
       "#unrepl/browsable \u001b[2m[\u001b[22m#'user/flights \u001b[4m/5\u001b[m\u001b[2m]\u001b[22m\n"
      ]
     },
     "execution_count": 6,
     "metadata": {},
     "output_type": "execute_result"
    }
   ],
   "source": [
    "(def flights (with-open [reader (io/reader \"flights.csv\")]\n",
    "        (->> reader\n",
    "             csv/read-csv\n",
    "             (take 30)\n",
    "             sc/mappify\n",
    "             (sc/cast-with sc/->int {:only [:day :hour :sched_dep_time :arr_time :sched_arr_time :month :dep_time :arr_delay :year :dep_delay :flight :distance :air_time :minute] \n",
    "                                  :exception-handler (fn [colname value] nil)})\n",
    "             (sc/cast-with keyword  {:only [:tailnum :carrier :origin :dest] \n",
    "                                  :exception-handler (fn [colname value] nil)})\n",
    "             (sc/cast-with {:time_hour jtime/java-date} {:exception-handler (fn [colname value] nil)})\n",
    "             doall) ))"
   ]
  },
  {
   "cell_type": "code",
   "execution_count": 21,
   "metadata": {},
   "outputs": [
    {
     "ename": "Oops",
     "evalue": "",
     "output_type": "error",
     "traceback": [
      "Exception while doing something unexpected.",
      "#unrepl/browsable\n  \u001b[2m[\u001b[22m\u001b[31m#error\u001b[m\n     \u001b[2m{\u001b[22m\u001b[36m:via\u001b[m \u001b[2m[\u001b[22m\u001b[2m{\u001b[22m\u001b[36m:type\u001b[m clojure.lang.LispReader$ReaderException\u001b[2m,\u001b[22m\n             \u001b[36m:message\u001b[m \"java.lang.RuntimeException: Unmatched delimiter: )\"\u001b[2m,\u001b[22m\n             \u001b[36m:data\u001b[m \u001b[2m{\u001b[22m\u001b[36m:clojure.error/line\u001b[m 20\u001b[2m,\u001b[22m \u001b[36m:clojure.error/column\u001b[m 12\u001b[2m}\u001b[22m\u001b[2m,\u001b[22m\n             \u001b[36m:at\u001b[m \u001b[2m[\u001b[22mclojure.lang.LispReader read \"LispReader.java\" 314\u001b[2m]\u001b[22m\u001b[2m}\u001b[22m\n            \u001b[2m{\u001b[22m\u001b[36m:type\u001b[m java.lang.RuntimeException\u001b[2m,\u001b[22m\n             \u001b[36m:message\u001b[m \"Unmatched delimiter: )\"\u001b[2m,\u001b[22m\n             \u001b[36m:at\u001b[m \u001b[2m[\u001b[22mclojure.lang.Util runtimeException \"Util.java\" 221\u001b[2m]\u001b[22m\u001b[2m}\u001b[22m\u001b[2m]\u001b[22m\u001b[2m,\u001b[22m\n      \u001b[36m:trace\u001b[m\n        \u001b[2m[\u001b[22m\u001b[2m[\u001b[22mclojure.lang.Util runtimeException \"Util.java\" 221\u001b[2m]\u001b[22m\n         \u001b[2m[\u001b[22mclojure.lang.LispReader$UnmatchedDelimiterReader\n          invoke \"LispReader.java\" 1373\u001b[2m]\u001b[22m\n         \u001b[2m[\u001b[22mclojure.lang.LispReader read \"LispReader.java\" 285\u001b[2m]\u001b[22m\n         \u001b[2m[\u001b[22mclojure.lang.LispReader read \"LispReader.java\" 220\u001b[2m]\u001b[22m\n         \u001b[2m[\u001b[22mclojure.lang.LispReader access$200 \"LispReader.java\" 41\u001b[2m]\u001b[22m\n         \u001b[2m[\u001b[22mclojure.lang.LispReader$WrappingReader invoke \"LispReader.java\" 771\u001b[2m]\u001b[22m\n         \u001b[2m[\u001b[22mclojure.lang.LispReader read \"LispReader.java\" 285\u001b[2m]\u001b[22m\n         \u001b[2m[\u001b[22mclojure.lang.LispReader readDelimitedList \"LispReader.java\" 1398\u001b[2m]\u001b[22m\n         \u001b[2m[\u001b[22mclojure.lang.LispReader$ListReader invoke \"LispReader.java\" \u001b[4m/17\u001b[m\u001b[2m]\u001b[22m \u001b[4m/18\u001b[m\u001b[2m]\u001b[22m\u001b[2m,\u001b[22m\n      \u001b[4m/19\u001b[m\u001b[2m}\u001b[22m\n   \u001b[4m/20\u001b[m\u001b[2m]\u001b[22m\n"
     ]
    }
   ],
   "source": [
    "(slurp \"permis\")"
   ]
  },
  {
   "cell_type": "code",
   "execution_count": 7,
   "metadata": {},
   "outputs": [
    {
     "data": {
      "text/iclojure-html": [
       "<ul><li class=string>\"<ul><li>\\\"#!/bin/bash \\\\nset -e\\\\n\\\\nfor d in \\\\\\\"$@\\\\\\\"; do\\\\n  find \\\\\\\"$d\\\\\\\" \\\\\\\\\\\\n    ! \\\\\\\\( \\\\\\\\\\\\n  <li class=elision data-expr='(unrepl.repl$p8QhJwTpu2S19yqqZbyXWLOYcI8/fetch :G__3744)'>…<li class=trail>\"</ul></ul>"
      ],
      "text/plain": [
       "\"\\\"#!/bin/bash \\\\nset -e\\\\n\\\\nfor d in \\\\\\\"$@\\\\\\\"; do\\\\n  find \\\\\\\"$d\\\\\\\" \\\\\\\\\\\\n    ! \\\\\\\\( \\\\\\\\\\\\n  \"\u001b[4m/4\u001b[m\n"
      ]
     },
     "execution_count": 7,
     "metadata": {},
     "output_type": "execute_result"
    }
   ],
   "source": [
    "(set! *print-length* 30)\n",
    "(prn-str (slurp \"./permissi.sh\"))"
   ]
  },
  {
   "cell_type": "code",
   "execution_count": 4,
   "metadata": {},
   "outputs": [
    {
     "data": {
      "application/octet-stream": null,
      "text/iclojure-html": [
       "<ul><li class='misc'>4</ul>"
      ],
      "text/plain": [
       "4\n"
      ]
     },
     "execution_count": 4,
     "metadata": {},
     "output_type": "execute_result"
    }
   ],
   "source": [
    "(+ 2 2)"
   ]
  },
  {
   "cell_type": "code",
   "execution_count": 17,
   "metadata": {},
   "outputs": [
    {
     "data": {
      "text/iclojure-html": [
       "<ul><li class=taglit>#<ul><li class=symbol>unrepl/object<li class=vector>[<ul><li class=browsable><ul><li class=class>clojure.core$every_pred$ep1__8568<li class=browser><li class=elision data-expr='(unrepl.repl$p8QhJwTpu2S19yqqZbyXWLOYcI8/fetch :G__41285)'>…</ul><li class=space> <li class='string'>\"0x19a54fa2\"<li class=space> <li class='string'>\"clojure.core/every-pred/ep1--8568\"<li class=space> <li class=map>{<ul><li><ul><li class=keyword>:bean<li class=space> <li class=map>{<ul><li class=elision data-expr='(unrepl.repl$p8QhJwTpu2S19yqqZbyXWLOYcI8/fetch :G__41284)'>…<li class=trail>}</ul></ul><li class=trail>}</ul><li class=trail>]</ul></ul></ul>"
      ],
      "text/plain": [
       "#unrepl/object \u001b[2m[\u001b[22m#unrepl/browsable \u001b[2m[\u001b[22m\u001b[33mclojure.core$every_pred$ep1__8568\u001b[m \u001b[4m/40\u001b[m\u001b[2m]\u001b[22m\n",
       "                \"0x19a54fa2\" \"clojure.core/every-pred/ep1--8568\" \u001b[2m{\u001b[22m\u001b[36m:bean\u001b[m \u001b[2m{\u001b[22m\u001b[4m/41\u001b[m\u001b[2m}\u001b[22m\u001b[2m}\u001b[22m\u001b[2m]\u001b[22m\n"
      ]
     },
     "execution_count": 17,
     "metadata": {},
     "output_type": "execute_result"
    }
   ],
   "source": [
    "(clojure.spec.alpha/conform ::hc/filters {(hc/every-of :day :month) [= 1]})"
   ]
  },
  {
   "cell_type": "code",
   "execution_count": 14,
   "metadata": {},
   "outputs": [
    {
     "data": {
      "application/octet-stream": null,
      "text/iclojure-html": [
       "<ul><li class=seq>(<ul><li class=map>{<ul><li><ul><li class=keyword>:day<li class=space> <li class='misc'>1<li class=trail>,</ul><li class=space> <li><ul><li class=keyword>:hour<li class=space> <li class='misc'>5<li class=trail>,</ul><li class=space> <li><ul><li class=keyword>:sched_dep_time<li class=space> <li class='misc'>515<li class=trail>,</ul><li class=space> <li><ul><li class=keyword>:tailnum<li class=space> <li class=keyword>:N14228<li class=trail>,</ul><li class=space> <li><ul><li class=keyword>:arr_time<li class=space> <li class='misc'>830<li class=trail>,</ul><li class=space> <li><ul><li class=keyword>:sched_arr_time<li class=space> <li class='misc'>819<li class=trail>,</ul><li class=space> <li><ul><li class=keyword>:month<li class=space> <li class='misc'>1<li class=trail>,</ul><li class=space> <li><ul><li class=keyword>:dep_time<li class=space> <li class='misc'>517<li class=trail>,</ul><li class=space> <li><ul><li class=keyword>:carrier<li class=space> <li class=keyword>:UA<li class=trail>,</ul><li class=space> <li><ul><li class=keyword>:arr_delay<li class=space> <li class='misc'>11<li class=trail>,</ul><li class=space> <li class=elision data-expr='(unrepl.repl$p8QhJwTpu2S19yqqZbyXWLOYcI8/fetch :G__41243)'>…<li class=trail>}</ul><li class=space> <li class=map>{<ul><li><ul><li class=keyword>:day<li class=space> <li class='misc'>1<li class=trail>,</ul><li class=space> <li><ul><li class=keyword>:hour<li class=space> <li class='misc'>5<li class=trail>,</ul><li class=space> <li><ul><li class=keyword>:sched_dep_time<li class=space> <li class='misc'>529<li class=trail>,</ul><li class=space> <li><ul><li class=keyword>:tailnum<li class=space> <li class=keyword>:N24211<li class=trail>,</ul><li class=space> <li><ul><li class=keyword>:arr_time<li class=space> <li class='misc'>850<li class=trail>,</ul><li class=space> <li><ul><li class=keyword>:sched_arr_time<li class=space> <li class='misc'>830<li class=trail>,</ul><li class=space> <li><ul><li class=keyword>:month<li class=space> <li class='misc'>1<li class=trail>,</ul><li class=space> <li><ul><li class=keyword>:dep_time<li class=space> <li class='misc'>533<li class=trail>,</ul><li class=space> <li><ul><li class=keyword>:carrier<li class=space> <li class=keyword>:UA<li class=trail>,</ul><li class=space> <li><ul><li class=keyword>:arr_delay<li class=space> <li class='misc'>20<li class=trail>,</ul><li class=space> <li class=elision data-expr='(unrepl.repl$p8QhJwTpu2S19yqqZbyXWLOYcI8/fetch :G__41244)'>…<li class=trail>}</ul><li class=space> <li class=map>{<ul><li><ul><li class=keyword>:day<li class=space> <li class='misc'>1<li class=trail>,</ul><li class=space> <li><ul><li class=keyword>:hour<li class=space> <li class='misc'>5<li class=trail>,</ul><li class=space> <li><ul><li class=keyword>:sched_dep_time<li class=space> <li class='misc'>540<li class=trail>,</ul><li class=space> <li><ul><li class=keyword>:tailnum<li class=space> <li class=keyword>:N619AA<li class=trail>,</ul><li class=space> <li><ul><li class=keyword>:arr_time<li class=space> <li class='misc'>923<li class=trail>,</ul><li class=space> <li><ul><li class=keyword>:sched_arr_time<li class=space> <li class='misc'>850<li class=trail>,</ul><li class=space> <li><ul><li class=keyword>:month<li class=space> <li class='misc'>1<li class=trail>,</ul><li class=space> <li><ul><li class=keyword>:dep_time<li class=space> <li class='misc'>542<li class=trail>,</ul><li class=space> <li><ul><li class=keyword>:carrier<li class=space> <li class=keyword>:AA<li class=trail>,</ul><li class=space> <li><ul><li class=keyword>:arr_delay<li class=space> <li class='misc'>33<li class=trail>,</ul><li class=space> <li class=elision data-expr='(unrepl.repl$p8QhJwTpu2S19yqqZbyXWLOYcI8/fetch :G__41245)'>…<li class=trail>}</ul><li class=space> <li class=map>{<ul><li><ul><li class=keyword>:day<li class=space> <li class='misc'>1<li class=trail>,</ul><li class=space> <li><ul><li class=keyword>:hour<li class=space> <li class='misc'>5<li class=trail>,</ul><li class=space> <li><ul><li class=keyword>:sched_dep_time<li class=space> <li class='misc'>545<li class=trail>,</ul><li class=space> <li><ul><li class=keyword>:tailnum<li class=space> <li class=keyword>:N804JB<li class=trail>,</ul><li class=space> <li><ul><li class=keyword>:arr_time<li class=space> <li class='misc'>1004<li class=trail>,</ul><li class=space> <li><ul><li class=keyword>:sched_arr_time<li class=space> <li class='misc'>1022<li class=trail>,</ul><li class=space> <li class=elision data-expr='(unrepl.repl$p8QhJwTpu2S19yqqZbyXWLOYcI8/fetch :G__41246)'>…<li class=trail>}</ul><li class=space> <li class=elision data-expr='(unrepl.repl$p8QhJwTpu2S19yqqZbyXWLOYcI8/fetch :G__41247)'>…<li class=trail>)</ul></ul>"
      ],
      "text/plain": [
       "\u001b[2m(\u001b[22m\u001b[2m{\u001b[22m\u001b[36m:day\u001b[m 1\u001b[2m,\u001b[22m \u001b[36m:hour\u001b[m 5\u001b[2m,\u001b[22m \u001b[36m:sched_dep_time\u001b[m 515\u001b[2m,\u001b[22m \u001b[36m:tailnum\u001b[m \u001b[36m:N14228\u001b[m\u001b[2m,\u001b[22m\n",
       "  \u001b[36m:arr_time\u001b[m 830\u001b[2m,\u001b[22m \u001b[36m:sched_arr_time\u001b[m 819\u001b[2m,\u001b[22m \u001b[36m:month\u001b[m 1\u001b[2m,\u001b[22m\n",
       "  \u001b[36m:dep_time\u001b[m 517\u001b[2m,\u001b[22m \u001b[36m:carrier\u001b[m \u001b[36m:UA\u001b[m\u001b[2m,\u001b[22m \u001b[36m:arr_delay\u001b[m 11\u001b[2m,\u001b[22m \u001b[4m/32\u001b[m\u001b[2m}\u001b[22m\n",
       " \u001b[2m{\u001b[22m\u001b[36m:day\u001b[m 1\u001b[2m,\u001b[22m \u001b[36m:hour\u001b[m 5\u001b[2m,\u001b[22m \u001b[36m:sched_dep_time\u001b[m 529\u001b[2m,\u001b[22m \u001b[36m:tailnum\u001b[m \u001b[36m:N24211\u001b[m\u001b[2m,\u001b[22m\n",
       "  \u001b[36m:arr_time\u001b[m 850\u001b[2m,\u001b[22m \u001b[36m:sched_arr_time\u001b[m 830\u001b[2m,\u001b[22m \u001b[36m:month\u001b[m 1\u001b[2m,\u001b[22m\n",
       "  \u001b[36m:dep_time\u001b[m 533\u001b[2m,\u001b[22m \u001b[36m:carrier\u001b[m \u001b[36m:UA\u001b[m\u001b[2m,\u001b[22m \u001b[36m:arr_delay\u001b[m 20\u001b[2m,\u001b[22m \u001b[4m/33\u001b[m\u001b[2m}\u001b[22m\n",
       " \u001b[2m{\u001b[22m\u001b[36m:day\u001b[m 1\u001b[2m,\u001b[22m \u001b[36m:hour\u001b[m 5\u001b[2m,\u001b[22m \u001b[36m:sched_dep_time\u001b[m 540\u001b[2m,\u001b[22m \u001b[36m:tailnum\u001b[m \u001b[36m:N619AA\u001b[m\u001b[2m,\u001b[22m\n",
       "  \u001b[36m:arr_time\u001b[m 923\u001b[2m,\u001b[22m \u001b[36m:sched_arr_time\u001b[m 850\u001b[2m,\u001b[22m \u001b[36m:month\u001b[m 1\u001b[2m,\u001b[22m\n",
       "  \u001b[36m:dep_time\u001b[m 542\u001b[2m,\u001b[22m \u001b[36m:carrier\u001b[m \u001b[36m:AA\u001b[m\u001b[2m,\u001b[22m \u001b[36m:arr_delay\u001b[m 33\u001b[2m,\u001b[22m \u001b[4m/34\u001b[m\u001b[2m}\u001b[22m\n",
       " \u001b[2m{\u001b[22m\u001b[36m:day\u001b[m 1\u001b[2m,\u001b[22m \u001b[36m:hour\u001b[m 5\u001b[2m,\u001b[22m \u001b[36m:sched_dep_time\u001b[m 545\u001b[2m,\u001b[22m \u001b[36m:tailnum\u001b[m \u001b[36m:N804JB\u001b[m\u001b[2m,\u001b[22m\n",
       "  \u001b[36m:arr_time\u001b[m 1004\u001b[2m,\u001b[22m \u001b[36m:sched_arr_time\u001b[m 1022\u001b[2m,\u001b[22m \u001b[4m/35\u001b[m\u001b[2m}\u001b[22m\n",
       " \u001b[4m/36\u001b[m\u001b[2m)\u001b[22m\n"
      ]
     },
     "execution_count": 14,
     "metadata": {},
     "output_type": "execute_result"
    }
   ],
   "source": [
    "(->> flights\n",
    "     (hc/where {(hc/every-of :day :month) [= 1]}))"
   ]
  },
  {
   "cell_type": "code",
   "execution_count": 12,
   "metadata": {},
   "outputs": [
    {
     "data": {
      "application/octet-stream": null,
      "text/iclojure-html": [
       "<ul><li class=map>{<ul><li><ul><li class=keyword>:huri.core/combinator<li class=space> <li class=taglit>#<ul><li class=symbol>unrepl/object<li class=vector>[<ul><li class=browsable><ul><li class=class>clojure.core$every_pred<li class=browser><li class=elision data-expr='(unrepl.repl$p8QhJwTpu2S19yqqZbyXWLOYcI8/fetch :G__41220)'>…</ul><li class=space> <li class='string'>\"0x6d511037\"<li class=space> <li class='string'>\"clojure.core/every-pred\"<li class=space> <li class=map>{<ul><li><ul><li class=keyword>:bean<li class=space> <li class=map>{<ul><li class=elision data-expr='(unrepl.repl$p8QhJwTpu2S19yqqZbyXWLOYcI8/fetch :G__41219)'>…<li class=trail>}</ul></ul><li class=trail>}</ul><li class=trail>]</ul></ul><li class=trail>,</ul><li class=space> <li><ul><li class=keyword>:huri.core/keyfns<li class=space> <li class=seq>(<ul><li class=keyword>:day<li class=trail>)</ul></ul><li class=trail>}</ul></ul>"
      ],
      "text/plain": [
       "\u001b[2m{\u001b[22m\u001b[36m:huri.core/combinator\u001b[m\n",
       "   #unrepl/object \u001b[2m[\u001b[22m#unrepl/browsable \u001b[2m[\u001b[22m\u001b[33mclojure.core$every_pred\u001b[m \u001b[4m/30\u001b[m\u001b[2m]\u001b[22m\n",
       "                   \"0x6d511037\" \"clojure.core/every-pred\" \u001b[2m{\u001b[22m\u001b[36m:bean\u001b[m \u001b[2m{\u001b[22m\u001b[4m/31\u001b[m\u001b[2m}\u001b[22m\u001b[2m}\u001b[22m\u001b[2m]\u001b[22m\u001b[2m,\u001b[22m\n",
       " \u001b[36m:huri.core/keyfns\u001b[m \u001b[2m(\u001b[22m\u001b[36m:day\u001b[m\u001b[2m)\u001b[22m\u001b[2m}\u001b[22m\n"
      ]
     },
     "execution_count": 12,
     "metadata": {},
     "output_type": "execute_result"
    }
   ],
   "source": [
    "(hc/every-of :day)"
   ]
  },
  {
   "cell_type": "code",
   "execution_count": null,
   "metadata": {},
   "outputs": [],
   "source": [
    "(clojure.spec.alpha/conform (clojure.spec.alpha/or :a string? :b integer?) 1\n",
    "                            )"
   ]
  },
  {
   "cell_type": "code",
   "execution_count": 68,
   "metadata": {},
   "outputs": [
    {
     "data": {
      "application/octet-stream": null,
      "text/iclojure-html": [
       "<ul><li class=set>#{<ul><li class=map>{<ul><li><ul><li class=keyword>:x<li class=space> <li class='misc'>1</ul><li class=trail>}</ul><li class=space> <li class=map>{<ul><li><ul><li class=keyword>:x<li class=space> <li class='misc'>3</ul><li class=trail>}</ul><li class=trail>}</ul></ul>"
      ],
      "text/plain": [
       "\u001b[2m#{\u001b[22m\u001b[2m{\u001b[22m\u001b[36m:x\u001b[m 1\u001b[2m}\u001b[22m \u001b[2m{\u001b[22m\u001b[36m:x\u001b[m 3\u001b[2m}\u001b[22m\u001b[2m}\u001b[22m\n"
      ]
     },
     "execution_count": 68,
     "metadata": {},
     "output_type": "execute_result"
    }
   ],
   "source": [
    "(clojure.set/select (comp odd? :x) #{{:x 1} {:x 2} {:x 3}})"
   ]
  },
  {
   "cell_type": "code",
   "execution_count": 77,
   "metadata": {},
   "outputs": [
    {
     "data": {
      "application/octet-stream": null,
      "text/iclojure-html": [
       "<ul><li class=set>#{<ul><li class=map>{<ul><li><ul><li class=keyword>:x<li class=space> <li class='misc'>1<li class=trail>,</ul><li class=space> <li><ul><li class=keyword>:y<li class=space> <li class='misc'>4</ul><li class=trail>}</ul><li class=space> <li class=map>{<ul><li><ul><li class=keyword>:x<li class=space> <li class='misc'>1<li class=trail>,</ul><li class=space> <li><ul><li class=keyword>:y<li class=space> <li class='misc'>3</ul><li class=trail>}</ul><li class=trail>}</ul></ul>"
      ],
      "text/plain": [
       "\u001b[2m#{\u001b[22m\u001b[2m{\u001b[22m\u001b[36m:x\u001b[m 1\u001b[2m,\u001b[22m \u001b[36m:y\u001b[m 4\u001b[2m}\u001b[22m \u001b[2m{\u001b[22m\u001b[36m:x\u001b[m 1\u001b[2m,\u001b[22m \u001b[36m:y\u001b[m 3\u001b[2m}\u001b[22m\u001b[2m}\u001b[22m\n"
      ]
     },
     "execution_count": 77,
     "metadata": {},
     "output_type": "execute_result"
    }
   ],
   "source": [
    "(clojure.set/join [{:x 1}] \n",
    "                  [{:x 1 :y 3} {:x 1 :y 4} {:x 3 :y 5}])"
   ]
  },
  {
   "cell_type": "code",
   "execution_count": null,
   "metadata": {},
   "outputs": [],
   "source": [
    "(->> flights \n",
    "     (take 5))"
   ]
  },
  {
   "cell_type": "code",
   "execution_count": 49,
   "metadata": {},
   "outputs": [
    {
     "name": "stdout",
     "output_type": "stream",
     "text": [
      "\n",
      "| :a |\n",
      "|----|\n",
      "|  1 |\n",
      "|  2 |\n"
     ]
    },
    {
     "data": {
      "application/octet-stream": null,
      "text/iclojure-html": [
       "<ul><li class='misc'>2</ul>"
      ],
      "text/plain": [
       "2\n"
      ]
     },
     "execution_count": 49,
     "metadata": {},
     "output_type": "execute_result"
    }
   ],
   "source": [
    "(defn run!-pipe [f! coll]\n",
    "    \"useful when you want to achieve some side effect in the middle of a\n",
    "    threading macro.\"\n",
    "    (f! coll)\n",
    "    coll)\n",
    "\n",
    "(->> [{:a 1}{:a 2}]\n",
    "     (run!-pipe print-table)\n",
    "     count)"
   ]
  },
  {
   "cell_type": "markdown",
   "metadata": {},
   "source": [
    "\n",
    "\n",
    "## afterword\n",
    "\n",
    "I've created a pull request with the convenience functions that I've used https://github.com/sbelak/huri/pull/26\n",
    "\n",
    "I specifically didn't want to use the words lazy and transducer on this page, because I believe including these terms in from the get go is a barrier to entry. I think people will naturally progress there as they get more comfortable with the language and the concepts. \n",
    "\n",
    "I could probably make the whole pipeline lazy instead of holding the dataset in memory. I'd be interested in seeing how I can do that without making the code more difficult. \n",
    "\n",
    "Partly I've written this post to give something back to the community, but also partly because I hope I get a discussion going that enables me to improve the way that I write code or that points me to usefull libraries that I'm not familiar with. I will try to update the article if I get useful feedback. I'm more than happy to receive pull requests. \n",
    "\n",
    "I'm not saying this is the way to do it, but it is 1 way that feels easy and has simple solutions for most problems. \n",
    "\n",
    "Currently I'm using the iclojure kernel. I miss having code completion and something like parinfer. I see that both of these things have \n",
    "\n",
    "## Datalog superpowers\n",
    "I'm interested to see how far I'll come if I try to replace huri with datascript and do all of the wrangling in datalog. Futhermore, we can do graph db type stuff. I can imagine questions like is network of airports fully connected? What if you only have 1 day. And that day is 1 jan 2013. what are the 2 cities that you have to transfer the most to get there. Which cities cant you go there and back twice from newyork within x hours. Fastest paths. What are all the fastest paths. from where to where at what time must you travel the longest (so who is most fucked ?) etc.\n",
    "\n",
    "\n",
    "\n",
    "## awknoledgments\n",
    "\n",
    "- thanks to clojure core team for the language\n",
    "- jupyter for the editor\n",
    "- idl for vega-lite\n",
    "- chris small for oz and semantic csv\n",
    "- cgrand for iclojure\n",
    "- simon belak for huri\n",
    "- hadley wickham and .. for the code examples I've used from r4ds \n",
    "- to @JeroenVanDijk for reading a draft version\n",
    "- to adgoji for allowing me to write this blog post .\n",
    "- and surely I've forgotten some. Thank you as well. \n"
   ]
  },
  {
   "cell_type": "code",
   "execution_count": null,
   "metadata": {},
   "outputs": [],
   "source": []
  }
 ],
 "metadata": {
  "kernelspec": {
   "display_name": "IClojure",
   "language": "iclojure",
   "name": "iclojure"
  },
  "language_info": {
   "file_extension": ".clj",
   "mimetype": "text/x-clojure",
   "name": "clojure",
   "version": "1.10.0"
  }
 },
 "nbformat": 4,
 "nbformat_minor": 2
}
